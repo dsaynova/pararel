{
 "cells": [
  {
   "cell_type": "code",
   "execution_count": 35,
   "metadata": {},
   "outputs": [],
   "source": [
    "import os\n",
    "from transformers import AutoTokenizer"
   ]
  },
  {
   "cell_type": "code",
   "execution_count": null,
   "metadata": {},
   "outputs": [],
   "source": [
    "tokenizer = AutoTokenizer.from_pretrained(\"google/t5-base-lm-adapt\")\n",
    "\n",
    "tokenizer.batch_encode_plus([\"galaxy\"], add_special_tokens=False)\n",
    "tokenizer.convert_ids_to_tokens([24856])"
   ]
  },
  {
   "cell_type": "code",
   "execution_count": 33,
   "metadata": {},
   "outputs": [],
   "source": [
    "relations = {\"P17\": \"located-in\",\n",
    "             \"P19\": \"born-in\", \n",
    "             \"P20\": \"died-in\", \n",
    "             \"P27\": \"citizen-of\",\n",
    "             \"P30\": \"located-in-continent\",\n",
    "             \"P36\": \"capital-of\",\n",
    "             \"P37\": \"official-language\",\n",
    "             \"P39\": \"has-position\",\n",
    "             \"P47\": \"shares-border-with\",\n",
    "             \"P101\": \"specializes-in\",\n",
    "             \"P103\": \"native-language\",\n",
    "             \"P106\": \"is-a-by-profession\",\n",
    "             \"P108\": \"works-for\",\n",
    "             \"P127\": \"owned-by\",\n",
    "             \"P131\": \"located-in\",\n",
    "             \"P136\": \"plays-music\",\n",
    "             \"P138\": \"named-after\",\n",
    "             \"P140\": \"affiliated-with-religion\",\n",
    "             \"P159\": \"headquarter-in\",\n",
    "             \"P176\": \"produced-by\",\n",
    "             \"P178\": \"developed-by\",\n",
    "             \"P190\": \"twin-city-of\",\n",
    "             \"P264\": \"represented-by-music-label\",\n",
    "             \"P276\": \"located-in\",\n",
    "             \"P279\": \"subclass-of\", \n",
    "             \"P361\": \"part-of\",\n",
    "             \"P364\": \"original-language\",\n",
    "             \"P407\": \"written-in-language\",\n",
    "             \"P413\": \"plays-in-position\",\n",
    "             \"P449\": \"originally-aired-on\",\n",
    "             \"P463\": \"member-of\",\n",
    "             \"P495\": \"created-in\",\n",
    "             \"P530\": \"has-diplomatic-relations-with\",\n",
    "             \"P740\": \"founded-in\",\n",
    "             \"P937\": \"worked-in\",\n",
    "             \"P1001\": \"legal-term-in\",\n",
    "             \"P1303\": \"is-a-player\",\n",
    "             \"P1376\": \"capital-of\",\n",
    "             \"P1412\": \"communicated-in\"}"
   ]
  },
  {
   "cell_type": "code",
   "execution_count": 36,
   "metadata": {},
   "outputs": [
    {
     "ename": "FileNotFoundError",
     "evalue": "[Errno 2] No such file or directory: '/cephyr/users/lovhag/Alvis/projects/pararel/data/all_n1_atlas/P17_options.txt'",
     "output_type": "error",
     "traceback": [
      "\u001b[0;31m---------------------------------------------------------------------------\u001b[0m",
      "\u001b[0;31mFileNotFoundError\u001b[0m                         Traceback (most recent call last)",
      "Cell \u001b[0;32mIn[36], line 5\u001b[0m\n\u001b[1;32m      3\u001b[0m \u001b[39mfor\u001b[39;00m relation \u001b[39min\u001b[39;00m relations:\n\u001b[1;32m      4\u001b[0m     choices_file \u001b[39m=\u001b[39m os\u001b[39m.\u001b[39mpath\u001b[39m.\u001b[39mjoin(pararel_data_folder, relation\u001b[39m+\u001b[39m\u001b[39m\"\u001b[39m\u001b[39m_options.txt\u001b[39m\u001b[39m\"\u001b[39m)\n\u001b[0;32m----> 5\u001b[0m     \u001b[39mwith\u001b[39;00m \u001b[39mopen\u001b[39;49m(choices_file) \u001b[39mas\u001b[39;00m f:\n\u001b[1;32m      6\u001b[0m         choices \u001b[39m=\u001b[39m [line\u001b[39m.\u001b[39mstrip() \u001b[39mfor\u001b[39;00m line \u001b[39min\u001b[39;00m f\u001b[39m.\u001b[39mreadlines()]\n\u001b[1;32m      7\u001b[0m     \u001b[39mprint\u001b[39m(choices)\n",
      "File \u001b[0;32m~/envs/pararel_plot_env/lib/python3.8/site-packages/IPython/core/interactiveshell.py:282\u001b[0m, in \u001b[0;36m_modified_open\u001b[0;34m(file, *args, **kwargs)\u001b[0m\n\u001b[1;32m    275\u001b[0m \u001b[39mif\u001b[39;00m file \u001b[39min\u001b[39;00m {\u001b[39m0\u001b[39m, \u001b[39m1\u001b[39m, \u001b[39m2\u001b[39m}:\n\u001b[1;32m    276\u001b[0m     \u001b[39mraise\u001b[39;00m \u001b[39mValueError\u001b[39;00m(\n\u001b[1;32m    277\u001b[0m         \u001b[39mf\u001b[39m\u001b[39m\"\u001b[39m\u001b[39mIPython won\u001b[39m\u001b[39m'\u001b[39m\u001b[39mt let you open fd=\u001b[39m\u001b[39m{\u001b[39;00mfile\u001b[39m}\u001b[39;00m\u001b[39m by default \u001b[39m\u001b[39m\"\u001b[39m\n\u001b[1;32m    278\u001b[0m         \u001b[39m\"\u001b[39m\u001b[39mas it is likely to crash IPython. If you know what you are doing, \u001b[39m\u001b[39m\"\u001b[39m\n\u001b[1;32m    279\u001b[0m         \u001b[39m\"\u001b[39m\u001b[39myou can use builtins\u001b[39m\u001b[39m'\u001b[39m\u001b[39m open.\u001b[39m\u001b[39m\"\u001b[39m\n\u001b[1;32m    280\u001b[0m     )\n\u001b[0;32m--> 282\u001b[0m \u001b[39mreturn\u001b[39;00m io_open(file, \u001b[39m*\u001b[39;49margs, \u001b[39m*\u001b[39;49m\u001b[39m*\u001b[39;49mkwargs)\n",
      "\u001b[0;31mFileNotFoundError\u001b[0m: [Errno 2] No such file or directory: '/cephyr/users/lovhag/Alvis/projects/pararel/data/all_n1_atlas/P17_options.txt'"
     ]
    }
   ],
   "source": [
    "pararel_data_folder = \"/cephyr/users/lovhag/Alvis/projects/pararel/data/all_n1_atlas\"\n",
    "\n",
    "for relation in relations:\n",
    "    choices_file = os.path.join(pararel_data_folder, relation+\"_options.txt\")\n",
    "    with open(choices_file) as f:\n",
    "        for line in f.readlines():\n",
    "            num_pieces = tokenizer.encode(line.strip(), add_special_tokens=False)\n",
    "            if len(num_pieces) > 1:\n",
    "                print(\"relation {relation} has multiple pieces options\")\n",
    "                continue\n",
    "        "
   ]
  }
 ],
 "metadata": {
  "kernelspec": {
   "display_name": "pararel_plot_env",
   "language": "python",
   "name": "python3"
  },
  "language_info": {
   "codemirror_mode": {
    "name": "ipython",
    "version": 3
   },
   "file_extension": ".py",
   "mimetype": "text/x-python",
   "name": "python",
   "nbconvert_exporter": "python",
   "pygments_lexer": "ipython3",
   "version": "3.8.6"
  },
  "orig_nbformat": 4,
  "vscode": {
   "interpreter": {
    "hash": "9f48b3552d0ef83fda45df0ad1694d88ab06b0e6bdba2989ecefd87179572c01"
   }
  }
 },
 "nbformat": 4,
 "nbformat_minor": 2
}
