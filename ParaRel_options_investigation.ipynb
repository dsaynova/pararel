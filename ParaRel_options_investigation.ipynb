{
 "cells": [
  {
   "cell_type": "code",
   "execution_count": 201,
   "id": "b83d5d83",
   "metadata": {},
   "outputs": [],
   "source": [
    "from pararel.consistency import utils\n",
    "import os\n",
    "import pandas as pd\n",
    "import requests\n",
    "from collections import defaultdict\n",
    "import numpy as np"
   ]
  },
  {
   "cell_type": "markdown",
   "id": "45e2352a",
   "metadata": {},
   "source": [
    "## Investigating the granularity issues in ParaRel relations' options"
   ]
  },
  {
   "cell_type": "code",
   "execution_count": 202,
   "id": "0713cd28",
   "metadata": {},
   "outputs": [],
   "source": [
    "#read data\n",
    "relation = \"P937\"\n",
    "options = set()\n",
    "\n",
    "data = utils.read_jsonl_file(os.path.join(\"data/trex_lms_vocab\", relation + \".jsonl\"))\n",
    "data_lama = utils.read_jsonl_file(os.path.join(\"data/lama_data/TREx\", relation + \".jsonl\"))\n",
    "\n",
    "for dp in data:\n",
    "    options.update({dp[\"obj_label\"]})"
   ]
  },
  {
   "cell_type": "code",
   "execution_count": 203,
   "id": "cb5c65cd",
   "metadata": {},
   "outputs": [
    {
     "data": {
      "text/html": [
       "<div>\n",
       "<style scoped>\n",
       "    .dataframe tbody tr th:only-of-type {\n",
       "        vertical-align: middle;\n",
       "    }\n",
       "\n",
       "    .dataframe tbody tr th {\n",
       "        vertical-align: top;\n",
       "    }\n",
       "\n",
       "    .dataframe thead th {\n",
       "        text-align: right;\n",
       "    }\n",
       "</style>\n",
       "<table border=\"1\" class=\"dataframe\">\n",
       "  <thead>\n",
       "    <tr style=\"text-align: right;\">\n",
       "      <th></th>\n",
       "      <th>sub_label</th>\n",
       "      <th>obj_label</th>\n",
       "      <th>uuid</th>\n",
       "      <th>obj_uri</th>\n",
       "      <th>sub_uri</th>\n",
       "    </tr>\n",
       "  </thead>\n",
       "  <tbody>\n",
       "    <tr>\n",
       "      <th>0</th>\n",
       "      <td>Howard Florey</td>\n",
       "      <td>London</td>\n",
       "      <td>d515f9f9-9ad3-4493-a342-aad6d2d76e41</td>\n",
       "      <td>Q84</td>\n",
       "      <td>Q137106</td>\n",
       "    </tr>\n",
       "    <tr>\n",
       "      <th>1</th>\n",
       "      <td>Enki Bilal</td>\n",
       "      <td>Paris</td>\n",
       "      <td>dbec9b61-92e1-4501-902c-360dfc173b1b</td>\n",
       "      <td>Q90</td>\n",
       "      <td>Q333668</td>\n",
       "    </tr>\n",
       "    <tr>\n",
       "      <th>2</th>\n",
       "      <td>Pedro de Ribera</td>\n",
       "      <td>Madrid</td>\n",
       "      <td>e7b51701-97b6-4b36-ad10-be45313e0e8e</td>\n",
       "      <td>Q2807</td>\n",
       "      <td>Q3049047</td>\n",
       "    </tr>\n",
       "    <tr>\n",
       "      <th>3</th>\n",
       "      <td>Ramsay MacDonald</td>\n",
       "      <td>London</td>\n",
       "      <td>cc6138fe-37ee-4817-b431-e00a7fd54562</td>\n",
       "      <td>Q84</td>\n",
       "      <td>Q166646</td>\n",
       "    </tr>\n",
       "    <tr>\n",
       "      <th>4</th>\n",
       "      <td>George Albertus Cox</td>\n",
       "      <td>Ottawa</td>\n",
       "      <td>3c1a8329-ecce-436a-b34d-196788091b3e</td>\n",
       "      <td>Q1930</td>\n",
       "      <td>Q5536134</td>\n",
       "    </tr>\n",
       "  </tbody>\n",
       "</table>\n",
       "</div>"
      ],
      "text/plain": [
       "             sub_label obj_label                                  uuid  \\\n",
       "0        Howard Florey    London  d515f9f9-9ad3-4493-a342-aad6d2d76e41   \n",
       "1           Enki Bilal     Paris  dbec9b61-92e1-4501-902c-360dfc173b1b   \n",
       "2      Pedro de Ribera    Madrid  e7b51701-97b6-4b36-ad10-be45313e0e8e   \n",
       "3     Ramsay MacDonald    London  cc6138fe-37ee-4817-b431-e00a7fd54562   \n",
       "4  George Albertus Cox    Ottawa  3c1a8329-ecce-436a-b34d-196788091b3e   \n",
       "\n",
       "  obj_uri   sub_uri  \n",
       "0     Q84   Q137106  \n",
       "1     Q90   Q333668  \n",
       "2   Q2807  Q3049047  \n",
       "3     Q84   Q166646  \n",
       "4   Q1930  Q5536134  "
      ]
     },
     "execution_count": 203,
     "metadata": {},
     "output_type": "execute_result"
    }
   ],
   "source": [
    "#get wikidata ids from lama data\n",
    "pd_data = pd.DataFrame(data)\n",
    "pd_data_lama = pd.DataFrame(data_lama)\n",
    "\n",
    "pd_merged_data = pd_data.merge(pd_data_lama[[\"uuid\", \"obj_uri\", \"sub_uri\"]], on='uuid', how='left')\n",
    "merged_data = pd_merged_data.to_dict('records')\n",
    "pd_merged_data.head()"
   ]
  },
  {
   "cell_type": "code",
   "execution_count": 204,
   "id": "236eab5f",
   "metadata": {},
   "outputs": [],
   "source": [
    "#get all countries\n",
    "#includes country, sovereign state or constituent country of the United Kingdom\n",
    "url = 'https://query.wikidata.org/sparql'\n",
    "query = '''\n",
    "SELECT ?item ?itemLabel \n",
    "WHERE \n",
    "{\n",
    "  VALUES ?id {wd:Q3624078 wd:Q6256 wd:Q3336843}\n",
    "  ?item wdt:P31 ?id .\n",
    "  SERVICE wikibase:label { bd:serviceParam wikibase:language \"[AUTO_LANGUAGE],en\". }\n",
    "}\n",
    "GROUP BY ?item ?itemLabel \n",
    "'''\n",
    "\n",
    "r = requests.get(url, params = {'format': 'json', 'query': query})\n",
    "all_countries_data = r.json()\n",
    "\n",
    "all_countries = defaultdict()\n",
    "for i in all_countries_data[\"results\"][\"bindings\"]:\n",
    "    all_countries[i[\"item\"][\"value\"].split(\"/\")[-1]] = i[\"itemLabel\"][\"value\"]"
   ]
  },
  {
   "cell_type": "code",
   "execution_count": 205,
   "id": "b5f33839",
   "metadata": {},
   "outputs": [],
   "source": [
    "#get all wikidata ids to lookup\n",
    "to_query = set()\n",
    "for i in merged_data:\n",
    "    to_query.update({\"wd:\"+i[\"obj_uri\"]})\n",
    "to_query_str = \" \".join([i for i in to_query])"
   ]
  },
  {
   "cell_type": "code",
   "execution_count": 206,
   "id": "a46a9372",
   "metadata": {},
   "outputs": [],
   "source": [
    "#get city to coutry from wikidata\n",
    "\n",
    "'https://query.wikidata.org/sparql'\n",
    "q1 = \"SELECT DISTINCT ?id ?country ?countryLabel WHERE { VALUES ?id {\"   \n",
    "q2 = \"} ?id wdt:P17 ?country . SERVICE wikibase:label { bd:serviceParam wikibase:language \\\"en\\\" . } }\"\n",
    "query = q1.strip() + to_query_str.strip() + q2.strip()\n",
    "r = requests.get(url, params = {'format': 'json', 'query': query})\n",
    "data = r.json()\n",
    "\n",
    "id_to_country = defaultdict(tuple)\n",
    "for i in data[\"results\"][\"bindings\"]:\n",
    "    id_to_country[i[\"id\"][\"value\"].split(\"/\")[-1]] = (i[\"country\"][\"value\"].split(\"/\")[-1], i[\"countryLabel\"][\"value\"])"
   ]
  },
  {
   "cell_type": "code",
   "execution_count": 207,
   "id": "b532dca8",
   "metadata": {},
   "outputs": [],
   "source": [
    "#add coutry info if found\n",
    "for i in merged_data:\n",
    "    if id_to_country[i[\"obj_uri\"]]:\n",
    "        i[\"countryId\"] = id_to_country[i[\"obj_uri\"]][0]\n",
    "        i[\"country\"] = id_to_country[i[\"obj_uri\"]][1]\n",
    "    else:\n",
    "        i[\"countryId\"] = None"
   ]
  },
  {
   "cell_type": "code",
   "execution_count": 208,
   "id": "76b9b3ec",
   "metadata": {},
   "outputs": [
    {
     "data": {
      "text/plain": [
       "(10, 75, 162, 832, 0.297)"
      ]
     },
     "execution_count": 208,
     "metadata": {},
     "output_type": "execute_result"
    }
   ],
   "source": [
    "#count afected data points\n",
    "count_country = 0\n",
    "count_city_with_country = 0\n",
    "uk_city = 0\n",
    "for i in merged_data:\n",
    "    if i[\"obj_uri\"] in all_countries.keys():\n",
    "        count_country+=1\n",
    "    if i[\"obj_uri\"] not in all_countries.keys() and i[\"countryId\"] in country_answers:\n",
    "        count_city_with_country+=1\n",
    "    if i[\"countryId\"] == \"Q145\":\n",
    "        uk_city +=1\n",
    "\n",
    "percent_affected = round(np.sum([count_country, count_city_with_country, uk_city,])/len(merged_data),3)\n",
    "count_country, count_city_with_country, uk_city, len(merged_data), percent_affected"
   ]
  },
  {
   "cell_type": "code",
   "execution_count": null,
   "id": "6d09dd1d",
   "metadata": {},
   "outputs": [],
   "source": []
  }
 ],
 "metadata": {
  "kernelspec": {
   "display_name": "Python (workingEnv)",
   "language": "python",
   "name": "workingenv"
  },
  "language_info": {
   "codemirror_mode": {
    "name": "ipython",
    "version": 3
   },
   "file_extension": ".py",
   "mimetype": "text/x-python",
   "name": "python",
   "nbconvert_exporter": "python",
   "pygments_lexer": "ipython3",
   "version": "3.10.4"
  }
 },
 "nbformat": 4,
 "nbformat_minor": 5
}
