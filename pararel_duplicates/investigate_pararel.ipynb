{
 "cells": [
  {
   "cell_type": "markdown",
   "id": "6a471966",
   "metadata": {},
   "source": [
    "# Investigate Pararel data"
   ]
  },
  {
   "cell_type": "code",
   "execution_count": 1,
   "id": "2c9f8f79",
   "metadata": {},
   "outputs": [
    {
     "data": {
      "text/plain": [
       "'/cephyr/users/lovhag/Alvis/projects/pararel'"
      ]
     },
     "execution_count": 1,
     "metadata": {},
     "output_type": "execute_result"
    }
   ],
   "source": [
    "import os\n",
    "os.chdir('..') \n",
    "os.getcwd()"
   ]
  },
  {
   "cell_type": "code",
   "execution_count": 2,
   "id": "a70e440e",
   "metadata": {},
   "outputs": [
    {
     "name": "stderr",
     "output_type": "stream",
     "text": [
      "/mimer/NOBACKUP/groups/snic2021-23-309/envs/venv_pararel/lib/python3.8/site-packages/tqdm/auto.py:21: TqdmWarning: IProgress not found. Please update jupyter and ipywidgets. See https://ipywidgets.readthedocs.io/en/stable/user_install.html\n",
      "  from .autonotebook import tqdm as notebook_tqdm\n"
     ]
    }
   ],
   "source": [
    "import pandas as pd\n",
    "import os \n",
    "import pickle\n",
    "import numpy as np\n",
    "\n",
    "from pararel.consistency import utils\n",
    "from pararel.consistency.lm_pipeline import parse_prompt"
   ]
  },
  {
   "cell_type": "markdown",
   "id": "3db2c721",
   "metadata": {},
   "source": [
    "We can for the analysis switch between the original datafile `trex_lms_vocab` and our corresponding deduplicated datafile `trex_lms_vocab_deduplicated`."
   ]
  },
  {
   "cell_type": "code",
   "execution_count": 9,
   "id": "7895b9fb",
   "metadata": {},
   "outputs": [],
   "source": [
    "data_path = \"/cephyr/users/lovhag/Alvis/projects/pararel/data\"\n",
    "lama_path = os.path.join(data_path, \"trex_lms_vocab\")\n",
    "graph_path = os.path.join(data_path, \"pattern_data\", \"graphs\")"
   ]
  },
  {
   "cell_type": "code",
   "execution_count": 4,
   "id": "e1f36695",
   "metadata": {},
   "outputs": [],
   "source": [
    "relation_names = {\"P17\": \"located-in\",\n",
    "             \"P19\": \"born-in\", \n",
    "             \"P20\": \"died-in\", \n",
    "             \"P27\": \"citizen-of\",\n",
    "             \"P30\": \"located-in-continent\",\n",
    "             \"P36\": \"capital-of\",\n",
    "             \"P37\": \"official-language\",\n",
    "             \"P39\": \"has-position\",\n",
    "             \"P47\": \"shares-border-with\",\n",
    "             \"P101\": \"specializes-in\",\n",
    "             \"P103\": \"native-language\",\n",
    "             \"P106\": \"is-a-by-profession\",\n",
    "             \"P108\": \"works-for\",\n",
    "             \"P127\": \"owned-by\",\n",
    "             \"P131\": \"located-in\",\n",
    "             \"P136\": \"plays-music\",\n",
    "             \"P138\": \"named-after\",\n",
    "             \"P140\": \"affiliated-with-religion\",\n",
    "             \"P159\": \"headquarter-in\",\n",
    "             \"P176\": \"produced-by\",\n",
    "             \"P178\": \"developed-by\",\n",
    "             \"P190\": \"twin-city-of\",\n",
    "             \"P264\": \"represented-by-music-label\",\n",
    "             \"P276\": \"located-in\",\n",
    "             \"P279\": \"subclass-of\", \n",
    "             \"P361\": \"part-of\",\n",
    "             \"P364\": \"original-language\",\n",
    "             \"P407\": \"written-in-language\",\n",
    "             \"P413\": \"plays-in-position\",\n",
    "             \"P449\": \"originally-aired-on\",\n",
    "             \"P463\": \"member-of\",\n",
    "             \"P495\": \"created-in\",\n",
    "             \"P530\": \"has-diplomatic-relations-with\",\n",
    "             \"P740\": \"founded-in\",\n",
    "             \"P937\": \"worked-in\",\n",
    "             \"P1001\": \"legal-term-in\",\n",
    "             \"P1303\": \"is-a-player\",\n",
    "             \"P1376\": \"capital-of\",\n",
    "             \"P1412\": \"communicated-in\"}"
   ]
  },
  {
   "cell_type": "code",
   "execution_count": 5,
   "id": "68018a48",
   "metadata": {},
   "outputs": [
    {
     "name": "stdout",
     "output_type": "stream",
     "text": [
      "['P937', 'P1412', 'P127', 'P103', 'P276', 'P159', 'P140', 'P136', 'P495', 'P17', 'P361', 'P36', 'P740', 'P264', 'P407', 'P138', 'P30', 'P131', 'P176', 'P449', 'P279', 'P19', 'P101', 'P364', 'P106', 'P1376', 'P178', 'P37', 'P413', 'P27', 'P20']\n"
     ]
    }
   ],
   "source": [
    "investigated_relations = [\"P937\",\"P1412\",\"P127\",\"P103\",\"P276\",\"P159\",\"P140\",\"P136\",\"P495\",\"P17\",\"P361\",\"P36\",\"P740\",\"P264\",\"P407\",\"P138\",\"P30\",\"P131\",\"P176\",\"P449\",\"P279\",\"P19\",\"P101\",\"P364\",\"P106\",\"P1376\",\"P178\",\"P37\",\"P413\",\"P27\",\"P20\"]\n",
    "print(investigated_relations)"
   ]
  },
  {
   "cell_type": "markdown",
   "id": "b73dce3e",
   "metadata": {},
   "source": [
    "## Systematic analysis"
   ]
  },
  {
   "cell_type": "code",
   "execution_count": 10,
   "id": "86bc1a98",
   "metadata": {},
   "outputs": [
    {
     "name": "stdout",
     "output_type": "stream",
     "text": [
      "There was an error reading the data for /cephyr/users/lovhag/Alvis/projects/pararel/data/trex_lms_vocab/P37.jsonl. Skipping.\n"
     ]
    },
    {
     "data": {
      "text/html": [
       "<div>\n",
       "<style scoped>\n",
       "    .dataframe tbody tr th:only-of-type {\n",
       "        vertical-align: middle;\n",
       "    }\n",
       "\n",
       "    .dataframe tbody tr th {\n",
       "        vertical-align: top;\n",
       "    }\n",
       "\n",
       "    .dataframe thead th {\n",
       "        text-align: right;\n",
       "    }\n",
       "</style>\n",
       "<table border=\"1\" class=\"dataframe\">\n",
       "  <thead>\n",
       "    <tr style=\"text-align: right;\">\n",
       "      <th></th>\n",
       "      <th>relation_name</th>\n",
       "      <th>nbr</th>\n",
       "      <th>nbr_duplicates</th>\n",
       "      <th>nbr_stupid_duplicates</th>\n",
       "    </tr>\n",
       "    <tr>\n",
       "      <th>relation</th>\n",
       "      <th></th>\n",
       "      <th></th>\n",
       "      <th></th>\n",
       "      <th></th>\n",
       "    </tr>\n",
       "  </thead>\n",
       "  <tbody>\n",
       "    <tr>\n",
       "      <th>P17</th>\n",
       "      <td>located-in</td>\n",
       "      <td>910</td>\n",
       "      <td>0</td>\n",
       "      <td>0</td>\n",
       "    </tr>\n",
       "    <tr>\n",
       "      <th>P19</th>\n",
       "      <td>born-in</td>\n",
       "      <td>779</td>\n",
       "      <td>0</td>\n",
       "      <td>0</td>\n",
       "    </tr>\n",
       "    <tr>\n",
       "      <th>P20</th>\n",
       "      <td>died-in</td>\n",
       "      <td>817</td>\n",
       "      <td>0</td>\n",
       "      <td>0</td>\n",
       "    </tr>\n",
       "    <tr>\n",
       "      <th>P27</th>\n",
       "      <td>citizen-of</td>\n",
       "      <td>958</td>\n",
       "      <td>0</td>\n",
       "      <td>0</td>\n",
       "    </tr>\n",
       "    <tr>\n",
       "      <th>P30</th>\n",
       "      <td>located-in-continent</td>\n",
       "      <td>955</td>\n",
       "      <td>0</td>\n",
       "      <td>0</td>\n",
       "    </tr>\n",
       "    <tr>\n",
       "      <th>P36</th>\n",
       "      <td>capital-of</td>\n",
       "      <td>457</td>\n",
       "      <td>0</td>\n",
       "      <td>0</td>\n",
       "    </tr>\n",
       "    <tr>\n",
       "      <th>P101</th>\n",
       "      <td>specializes-in</td>\n",
       "      <td>519</td>\n",
       "      <td>0</td>\n",
       "      <td>0</td>\n",
       "    </tr>\n",
       "    <tr>\n",
       "      <th>P103</th>\n",
       "      <td>native-language</td>\n",
       "      <td>917</td>\n",
       "      <td>0</td>\n",
       "      <td>0</td>\n",
       "    </tr>\n",
       "    <tr>\n",
       "      <th>P106</th>\n",
       "      <td>is-a-by-profession</td>\n",
       "      <td>821</td>\n",
       "      <td>0</td>\n",
       "      <td>0</td>\n",
       "    </tr>\n",
       "    <tr>\n",
       "      <th>P127</th>\n",
       "      <td>owned-by</td>\n",
       "      <td>616</td>\n",
       "      <td>0</td>\n",
       "      <td>0</td>\n",
       "    </tr>\n",
       "    <tr>\n",
       "      <th>P131</th>\n",
       "      <td>located-in</td>\n",
       "      <td>775</td>\n",
       "      <td>0</td>\n",
       "      <td>0</td>\n",
       "    </tr>\n",
       "    <tr>\n",
       "      <th>P136</th>\n",
       "      <td>plays-music</td>\n",
       "      <td>857</td>\n",
       "      <td>0</td>\n",
       "      <td>0</td>\n",
       "    </tr>\n",
       "    <tr>\n",
       "      <th>P138</th>\n",
       "      <td>named-after</td>\n",
       "      <td>438</td>\n",
       "      <td>0</td>\n",
       "      <td>0</td>\n",
       "    </tr>\n",
       "    <tr>\n",
       "      <th>P140</th>\n",
       "      <td>affiliated-with-religion</td>\n",
       "      <td>422</td>\n",
       "      <td>0</td>\n",
       "      <td>0</td>\n",
       "    </tr>\n",
       "    <tr>\n",
       "      <th>P159</th>\n",
       "      <td>headquarter-in</td>\n",
       "      <td>797</td>\n",
       "      <td>0</td>\n",
       "      <td>0</td>\n",
       "    </tr>\n",
       "    <tr>\n",
       "      <th>P176</th>\n",
       "      <td>produced-by</td>\n",
       "      <td>906</td>\n",
       "      <td>0</td>\n",
       "      <td>0</td>\n",
       "    </tr>\n",
       "    <tr>\n",
       "      <th>P178</th>\n",
       "      <td>developed-by</td>\n",
       "      <td>576</td>\n",
       "      <td>0</td>\n",
       "      <td>0</td>\n",
       "    </tr>\n",
       "    <tr>\n",
       "      <th>P264</th>\n",
       "      <td>represented-by-music-label</td>\n",
       "      <td>51</td>\n",
       "      <td>0</td>\n",
       "      <td>0</td>\n",
       "    </tr>\n",
       "    <tr>\n",
       "      <th>P276</th>\n",
       "      <td>located-in</td>\n",
       "      <td>690</td>\n",
       "      <td>0</td>\n",
       "      <td>0</td>\n",
       "    </tr>\n",
       "    <tr>\n",
       "      <th>P279</th>\n",
       "      <td>subclass-of</td>\n",
       "      <td>896</td>\n",
       "      <td>0</td>\n",
       "      <td>0</td>\n",
       "    </tr>\n",
       "    <tr>\n",
       "      <th>P361</th>\n",
       "      <td>part-of</td>\n",
       "      <td>682</td>\n",
       "      <td>0</td>\n",
       "      <td>0</td>\n",
       "    </tr>\n",
       "    <tr>\n",
       "      <th>P364</th>\n",
       "      <td>original-language</td>\n",
       "      <td>750</td>\n",
       "      <td>0</td>\n",
       "      <td>0</td>\n",
       "    </tr>\n",
       "    <tr>\n",
       "      <th>P407</th>\n",
       "      <td>written-in-language</td>\n",
       "      <td>826</td>\n",
       "      <td>0</td>\n",
       "      <td>0</td>\n",
       "    </tr>\n",
       "    <tr>\n",
       "      <th>P413</th>\n",
       "      <td>plays-in-position</td>\n",
       "      <td>952</td>\n",
       "      <td>0</td>\n",
       "      <td>0</td>\n",
       "    </tr>\n",
       "    <tr>\n",
       "      <th>P449</th>\n",
       "      <td>originally-aired-on</td>\n",
       "      <td>792</td>\n",
       "      <td>0</td>\n",
       "      <td>0</td>\n",
       "    </tr>\n",
       "    <tr>\n",
       "      <th>P495</th>\n",
       "      <td>created-in</td>\n",
       "      <td>903</td>\n",
       "      <td>0</td>\n",
       "      <td>0</td>\n",
       "    </tr>\n",
       "    <tr>\n",
       "      <th>P740</th>\n",
       "      <td>founded-in</td>\n",
       "      <td>843</td>\n",
       "      <td>0</td>\n",
       "      <td>0</td>\n",
       "    </tr>\n",
       "    <tr>\n",
       "      <th>P937</th>\n",
       "      <td>worked-in</td>\n",
       "      <td>832</td>\n",
       "      <td>0</td>\n",
       "      <td>0</td>\n",
       "    </tr>\n",
       "    <tr>\n",
       "      <th>P1376</th>\n",
       "      <td>capital-of</td>\n",
       "      <td>171</td>\n",
       "      <td>0</td>\n",
       "      <td>0</td>\n",
       "    </tr>\n",
       "    <tr>\n",
       "      <th>P1412</th>\n",
       "      <td>communicated-in</td>\n",
       "      <td>922</td>\n",
       "      <td>0</td>\n",
       "      <td>0</td>\n",
       "    </tr>\n",
       "  </tbody>\n",
       "</table>\n",
       "</div>"
      ],
      "text/plain": [
       "                       relation_name  nbr  nbr_duplicates  \\\n",
       "relation                                                    \n",
       "P17                       located-in  910               0   \n",
       "P19                          born-in  779               0   \n",
       "P20                          died-in  817               0   \n",
       "P27                       citizen-of  958               0   \n",
       "P30             located-in-continent  955               0   \n",
       "P36                       capital-of  457               0   \n",
       "P101                  specializes-in  519               0   \n",
       "P103                 native-language  917               0   \n",
       "P106              is-a-by-profession  821               0   \n",
       "P127                        owned-by  616               0   \n",
       "P131                      located-in  775               0   \n",
       "P136                     plays-music  857               0   \n",
       "P138                     named-after  438               0   \n",
       "P140        affiliated-with-religion  422               0   \n",
       "P159                  headquarter-in  797               0   \n",
       "P176                     produced-by  906               0   \n",
       "P178                    developed-by  576               0   \n",
       "P264      represented-by-music-label   51               0   \n",
       "P276                      located-in  690               0   \n",
       "P279                     subclass-of  896               0   \n",
       "P361                         part-of  682               0   \n",
       "P364               original-language  750               0   \n",
       "P407             written-in-language  826               0   \n",
       "P413               plays-in-position  952               0   \n",
       "P449             originally-aired-on  792               0   \n",
       "P495                      created-in  903               0   \n",
       "P740                      founded-in  843               0   \n",
       "P937                       worked-in  832               0   \n",
       "P1376                     capital-of  171               0   \n",
       "P1412                communicated-in  922               0   \n",
       "\n",
       "          nbr_stupid_duplicates  \n",
       "relation                         \n",
       "P17                           0  \n",
       "P19                           0  \n",
       "P20                           0  \n",
       "P27                           0  \n",
       "P30                           0  \n",
       "P36                           0  \n",
       "P101                          0  \n",
       "P103                          0  \n",
       "P106                          0  \n",
       "P127                          0  \n",
       "P131                          0  \n",
       "P136                          0  \n",
       "P138                          0  \n",
       "P140                          0  \n",
       "P159                          0  \n",
       "P176                          0  \n",
       "P178                          0  \n",
       "P264                          0  \n",
       "P276                          0  \n",
       "P279                          0  \n",
       "P361                          0  \n",
       "P364                          0  \n",
       "P407                          0  \n",
       "P413                          0  \n",
       "P449                          0  \n",
       "P495                          0  \n",
       "P740                          0  \n",
       "P937                          0  \n",
       "P1376                         0  \n",
       "P1412                         0  "
      ]
     },
     "execution_count": 10,
     "metadata": {},
     "output_type": "execute_result"
    }
   ],
   "source": [
    "duplicate_subj_data = pd.DataFrame()\n",
    "stat_data = pd.DataFrame()\n",
    "for relation in investigated_relations:\n",
    "    try:\n",
    "        data = utils.read_jsonl_file(os.path.join(lama_path, relation + \".jsonl\"))\n",
    "    except:\n",
    "        print(f\"There was an error reading the data for {os.path.join(lama_path, relation + '.jsonl')}. Skipping.\")\n",
    "        continue\n",
    "\n",
    "    tmp_data = pd.DataFrame()\n",
    "    for val in data:\n",
    "        val[\"relation\"] = relation\n",
    "        val[\"relation_name\"] = relation_names[relation]\n",
    "        tmp_data = tmp_data.append(val, ignore_index=True)\n",
    "        \n",
    "    nbr_matching = 0\n",
    "    nbr_stupid_matching = 0\n",
    "    duplicated_sub_labels = []    \n",
    "    for sub_label in tmp_data.sub_label.unique():\n",
    "        matching = tmp_data[tmp_data.sub_label==sub_label]\n",
    "        if len(matching) > 1:\n",
    "            duplicated_sub_labels.append(sub_label)\n",
    "            nbr_matching += len(matching)\n",
    "            # also look for pure duplicates (both subj label and obj label matching)\n",
    "            tmp_sub_data = tmp_data[tmp_data.sub_label==sub_label].copy()\n",
    "            for obj_label in tmp_sub_data.obj_label.unique():\n",
    "                nbr_stupid_matching += len(tmp_sub_data[tmp_sub_data.obj_label==obj_label])-1\n",
    "    stat_data = stat_data.append({\"relation\": relation, \n",
    "                                  \"relation_name\": relation_names[relation],\n",
    "                                  \"nbr\": int(len(data)),\n",
    "                                  \"nbr_duplicates\": int(nbr_matching),\n",
    "                                  \"nbr_stupid_duplicates\": int(nbr_stupid_matching)},\n",
    "                                  ignore_index=True)\n",
    "    \n",
    "    duplicated_mask = tmp_data.sub_label.isin(duplicated_sub_labels)\n",
    "    duplicate_subj_data = duplicate_subj_data.append(tmp_data[duplicated_mask].sort_values(by=[\"sub_label\"]), ignore_index=True)\n",
    "\n",
    "stat_data[\"nbr\"] = stat_data[\"nbr\"].astype('int')\n",
    "stat_data[\"nbr_duplicates\"] = stat_data[\"nbr_duplicates\"].astype('int')\n",
    "stat_data[\"nbr_stupid_duplicates\"] = stat_data[\"nbr_stupid_duplicates\"].astype('int')\n",
    "stat_data = stat_data.set_index(\"relation\").sort_index()\n",
    "stat_data = stat_data[['relation_name', 'nbr', 'nbr_duplicates', 'nbr_stupid_duplicates']]\n",
    "stat_data = stat_data.sort_index(key=lambda row: [int(val.replace(\"P\",\"\")) for val in row])\n",
    "stat_data"
   ]
  },
  {
   "cell_type": "code",
   "execution_count": 11,
   "id": "a9051118",
   "metadata": {},
   "outputs": [
    {
     "data": {
      "text/html": [
       "<div>\n",
       "<style scoped>\n",
       "    .dataframe tbody tr th:only-of-type {\n",
       "        vertical-align: middle;\n",
       "    }\n",
       "\n",
       "    .dataframe tbody tr th {\n",
       "        vertical-align: top;\n",
       "    }\n",
       "\n",
       "    .dataframe thead th {\n",
       "        text-align: right;\n",
       "    }\n",
       "</style>\n",
       "<table border=\"1\" class=\"dataframe\">\n",
       "  <thead>\n",
       "    <tr style=\"text-align: right;\">\n",
       "      <th></th>\n",
       "      <th>relation_name</th>\n",
       "      <th>nbr</th>\n",
       "      <th>nbr_duplicates</th>\n",
       "      <th>nbr_stupid_duplicates</th>\n",
       "    </tr>\n",
       "    <tr>\n",
       "      <th>relation</th>\n",
       "      <th></th>\n",
       "      <th></th>\n",
       "      <th></th>\n",
       "      <th></th>\n",
       "    </tr>\n",
       "  </thead>\n",
       "  <tbody>\n",
       "    <tr>\n",
       "      <th>P17</th>\n",
       "      <td>located-in</td>\n",
       "      <td>910</td>\n",
       "      <td>0</td>\n",
       "      <td>0</td>\n",
       "    </tr>\n",
       "    <tr>\n",
       "      <th>P19</th>\n",
       "      <td>born-in</td>\n",
       "      <td>779</td>\n",
       "      <td>0</td>\n",
       "      <td>0</td>\n",
       "    </tr>\n",
       "    <tr>\n",
       "      <th>P20</th>\n",
       "      <td>died-in</td>\n",
       "      <td>817</td>\n",
       "      <td>0</td>\n",
       "      <td>0</td>\n",
       "    </tr>\n",
       "    <tr>\n",
       "      <th>P27</th>\n",
       "      <td>citizen-of</td>\n",
       "      <td>958</td>\n",
       "      <td>0</td>\n",
       "      <td>0</td>\n",
       "    </tr>\n",
       "    <tr>\n",
       "      <th>P30</th>\n",
       "      <td>located-in-continent</td>\n",
       "      <td>955</td>\n",
       "      <td>0</td>\n",
       "      <td>0</td>\n",
       "    </tr>\n",
       "    <tr>\n",
       "      <th>P36</th>\n",
       "      <td>capital-of</td>\n",
       "      <td>457</td>\n",
       "      <td>0</td>\n",
       "      <td>0</td>\n",
       "    </tr>\n",
       "    <tr>\n",
       "      <th>P101</th>\n",
       "      <td>specializes-in</td>\n",
       "      <td>519</td>\n",
       "      <td>0</td>\n",
       "      <td>0</td>\n",
       "    </tr>\n",
       "    <tr>\n",
       "      <th>P103</th>\n",
       "      <td>native-language</td>\n",
       "      <td>917</td>\n",
       "      <td>0</td>\n",
       "      <td>0</td>\n",
       "    </tr>\n",
       "    <tr>\n",
       "      <th>P106</th>\n",
       "      <td>is-a-by-profession</td>\n",
       "      <td>821</td>\n",
       "      <td>0</td>\n",
       "      <td>0</td>\n",
       "    </tr>\n",
       "    <tr>\n",
       "      <th>P127</th>\n",
       "      <td>owned-by</td>\n",
       "      <td>616</td>\n",
       "      <td>0</td>\n",
       "      <td>0</td>\n",
       "    </tr>\n",
       "    <tr>\n",
       "      <th>P131</th>\n",
       "      <td>located-in</td>\n",
       "      <td>775</td>\n",
       "      <td>0</td>\n",
       "      <td>0</td>\n",
       "    </tr>\n",
       "    <tr>\n",
       "      <th>P136</th>\n",
       "      <td>plays-music</td>\n",
       "      <td>857</td>\n",
       "      <td>0</td>\n",
       "      <td>0</td>\n",
       "    </tr>\n",
       "    <tr>\n",
       "      <th>P138</th>\n",
       "      <td>named-after</td>\n",
       "      <td>438</td>\n",
       "      <td>0</td>\n",
       "      <td>0</td>\n",
       "    </tr>\n",
       "    <tr>\n",
       "      <th>P140</th>\n",
       "      <td>affiliated-with-religion</td>\n",
       "      <td>422</td>\n",
       "      <td>0</td>\n",
       "      <td>0</td>\n",
       "    </tr>\n",
       "    <tr>\n",
       "      <th>P159</th>\n",
       "      <td>headquarter-in</td>\n",
       "      <td>797</td>\n",
       "      <td>0</td>\n",
       "      <td>0</td>\n",
       "    </tr>\n",
       "    <tr>\n",
       "      <th>P176</th>\n",
       "      <td>produced-by</td>\n",
       "      <td>906</td>\n",
       "      <td>0</td>\n",
       "      <td>0</td>\n",
       "    </tr>\n",
       "    <tr>\n",
       "      <th>P178</th>\n",
       "      <td>developed-by</td>\n",
       "      <td>576</td>\n",
       "      <td>0</td>\n",
       "      <td>0</td>\n",
       "    </tr>\n",
       "    <tr>\n",
       "      <th>P264</th>\n",
       "      <td>represented-by-music-label</td>\n",
       "      <td>51</td>\n",
       "      <td>0</td>\n",
       "      <td>0</td>\n",
       "    </tr>\n",
       "    <tr>\n",
       "      <th>P276</th>\n",
       "      <td>located-in</td>\n",
       "      <td>690</td>\n",
       "      <td>0</td>\n",
       "      <td>0</td>\n",
       "    </tr>\n",
       "    <tr>\n",
       "      <th>P279</th>\n",
       "      <td>subclass-of</td>\n",
       "      <td>896</td>\n",
       "      <td>0</td>\n",
       "      <td>0</td>\n",
       "    </tr>\n",
       "    <tr>\n",
       "      <th>P361</th>\n",
       "      <td>part-of</td>\n",
       "      <td>682</td>\n",
       "      <td>0</td>\n",
       "      <td>0</td>\n",
       "    </tr>\n",
       "    <tr>\n",
       "      <th>P364</th>\n",
       "      <td>original-language</td>\n",
       "      <td>750</td>\n",
       "      <td>0</td>\n",
       "      <td>0</td>\n",
       "    </tr>\n",
       "    <tr>\n",
       "      <th>P407</th>\n",
       "      <td>written-in-language</td>\n",
       "      <td>826</td>\n",
       "      <td>0</td>\n",
       "      <td>0</td>\n",
       "    </tr>\n",
       "    <tr>\n",
       "      <th>P413</th>\n",
       "      <td>plays-in-position</td>\n",
       "      <td>952</td>\n",
       "      <td>0</td>\n",
       "      <td>0</td>\n",
       "    </tr>\n",
       "    <tr>\n",
       "      <th>P449</th>\n",
       "      <td>originally-aired-on</td>\n",
       "      <td>792</td>\n",
       "      <td>0</td>\n",
       "      <td>0</td>\n",
       "    </tr>\n",
       "    <tr>\n",
       "      <th>P495</th>\n",
       "      <td>created-in</td>\n",
       "      <td>903</td>\n",
       "      <td>0</td>\n",
       "      <td>0</td>\n",
       "    </tr>\n",
       "    <tr>\n",
       "      <th>P740</th>\n",
       "      <td>founded-in</td>\n",
       "      <td>843</td>\n",
       "      <td>0</td>\n",
       "      <td>0</td>\n",
       "    </tr>\n",
       "    <tr>\n",
       "      <th>P937</th>\n",
       "      <td>worked-in</td>\n",
       "      <td>832</td>\n",
       "      <td>0</td>\n",
       "      <td>0</td>\n",
       "    </tr>\n",
       "    <tr>\n",
       "      <th>P1376</th>\n",
       "      <td>capital-of</td>\n",
       "      <td>171</td>\n",
       "      <td>0</td>\n",
       "      <td>0</td>\n",
       "    </tr>\n",
       "    <tr>\n",
       "      <th>P1412</th>\n",
       "      <td>communicated-in</td>\n",
       "      <td>922</td>\n",
       "      <td>0</td>\n",
       "      <td>0</td>\n",
       "    </tr>\n",
       "  </tbody>\n",
       "</table>\n",
       "</div>"
      ],
      "text/plain": [
       "                       relation_name  nbr  nbr_duplicates  \\\n",
       "relation                                                    \n",
       "P17                       located-in  910               0   \n",
       "P19                          born-in  779               0   \n",
       "P20                          died-in  817               0   \n",
       "P27                       citizen-of  958               0   \n",
       "P30             located-in-continent  955               0   \n",
       "P36                       capital-of  457               0   \n",
       "P101                  specializes-in  519               0   \n",
       "P103                 native-language  917               0   \n",
       "P106              is-a-by-profession  821               0   \n",
       "P127                        owned-by  616               0   \n",
       "P131                      located-in  775               0   \n",
       "P136                     plays-music  857               0   \n",
       "P138                     named-after  438               0   \n",
       "P140        affiliated-with-religion  422               0   \n",
       "P159                  headquarter-in  797               0   \n",
       "P176                     produced-by  906               0   \n",
       "P178                    developed-by  576               0   \n",
       "P264      represented-by-music-label   51               0   \n",
       "P276                      located-in  690               0   \n",
       "P279                     subclass-of  896               0   \n",
       "P361                         part-of  682               0   \n",
       "P364               original-language  750               0   \n",
       "P407             written-in-language  826               0   \n",
       "P413               plays-in-position  952               0   \n",
       "P449             originally-aired-on  792               0   \n",
       "P495                      created-in  903               0   \n",
       "P740                      founded-in  843               0   \n",
       "P937                       worked-in  832               0   \n",
       "P1376                     capital-of  171               0   \n",
       "P1412                communicated-in  922               0   \n",
       "\n",
       "          nbr_stupid_duplicates  \n",
       "relation                         \n",
       "P17                           0  \n",
       "P19                           0  \n",
       "P20                           0  \n",
       "P27                           0  \n",
       "P30                           0  \n",
       "P36                           0  \n",
       "P101                          0  \n",
       "P103                          0  \n",
       "P106                          0  \n",
       "P127                          0  \n",
       "P131                          0  \n",
       "P136                          0  \n",
       "P138                          0  \n",
       "P140                          0  \n",
       "P159                          0  \n",
       "P176                          0  \n",
       "P178                          0  \n",
       "P264                          0  \n",
       "P276                          0  \n",
       "P279                          0  \n",
       "P361                          0  \n",
       "P364                          0  \n",
       "P407                          0  \n",
       "P413                          0  \n",
       "P449                          0  \n",
       "P495                          0  \n",
       "P740                          0  \n",
       "P937                          0  \n",
       "P1376                         0  \n",
       "P1412                         0  "
      ]
     },
     "execution_count": 11,
     "metadata": {},
     "output_type": "execute_result"
    }
   ],
   "source": [
    "stat_data"
   ]
  },
  {
   "cell_type": "code",
   "execution_count": 41,
   "id": "5ffe295b",
   "metadata": {},
   "outputs": [
    {
     "name": "stdout",
     "output_type": "stream",
     "text": [
      "\\begin{tabular}{llrrr}\n",
      "\\toprule\n",
      "{} &               relation\\_name &  nbr &  nbr\\_duplicates &  nbr\\_stupid\\_duplicates \\\\\n",
      "relation &                             &      &                 &                        \\\\\n",
      "\\midrule\n",
      "P17      &                  located-in &  912 &               2 &                      0 \\\\\n",
      "P19      &                     born-in &  779 &               0 &                      0 \\\\\n",
      "P20      &                     died-in &  817 &               0 &                      0 \\\\\n",
      "P27      &                  citizen-of &  958 &               0 &                      0 \\\\\n",
      "P30      &        located-in-continent &  959 &               4 &                      0 \\\\\n",
      "P36      &                  capital-of &  471 &              14 &                      1 \\\\\n",
      "P37      &           official-language &  900 &             280 &                      0 \\\\\n",
      "P101     &              specializes-in &  571 &              52 &                      0 \\\\\n",
      "P103     &             native-language &  919 &               2 &                      0 \\\\\n",
      "P106     &          is-a-by-profession &  821 &               0 &                      0 \\\\\n",
      "P127     &                    owned-by &  616 &               0 &                      0 \\\\\n",
      "P131     &                  located-in &  775 &               0 &                      0 \\\\\n",
      "P136     &                 plays-music &  859 &               2 &                      0 \\\\\n",
      "P138     &                 named-after &  461 &              23 &                      2 \\\\\n",
      "P140     &    affiliated-with-religion &  432 &              10 &                      0 \\\\\n",
      "P159     &              headquarter-in &  801 &               4 &                      0 \\\\\n",
      "P176     &                 produced-by &  925 &              19 &                      8 \\\\\n",
      "P178     &                developed-by &  588 &              12 &                      1 \\\\\n",
      "P264     &  represented-by-music-label &   53 &               2 &                      0 \\\\\n",
      "P276     &                  located-in &  764 &              74 &                      1 \\\\\n",
      "P279     &                 subclass-of &  900 &               4 &                      0 \\\\\n",
      "P361     &                     part-of &  746 &              64 &                      0 \\\\\n",
      "P364     &           original-language &  756 &               6 &                      0 \\\\\n",
      "P407     &         written-in-language &  857 &              31 &                      0 \\\\\n",
      "P413     &           plays-in-position &  952 &               0 &                      0 \\\\\n",
      "P449     &         originally-aired-on &  801 &               9 &                      1 \\\\\n",
      "P495     &                  created-in &  905 &               2 &                      0 \\\\\n",
      "P740     &                  founded-in &  843 &               0 &                      0 \\\\\n",
      "P937     &                   worked-in &  853 &              21 &                      0 \\\\\n",
      "P1376    &                  capital-of &  179 &               8 &                      1 \\\\\n",
      "P1412    &             communicated-in &  924 &               2 &                      0 \\\\\n",
      "\\bottomrule\n",
      "\\end{tabular}\n",
      "\n"
     ]
    }
   ],
   "source": [
    "print(stat_data.to_latex())"
   ]
  },
  {
   "cell_type": "code",
   "execution_count": 12,
   "id": "31b089c7",
   "metadata": {},
   "outputs": [
    {
     "data": {
      "text/plain": [
       "21830"
      ]
     },
     "execution_count": 12,
     "metadata": {},
     "output_type": "execute_result"
    }
   ],
   "source": [
    "stat_data.nbr.sum()"
   ]
  },
  {
   "cell_type": "code",
   "execution_count": 25,
   "id": "4b74cbb7",
   "metadata": {},
   "outputs": [
    {
     "data": {
      "text/html": [
       "<div>\n",
       "<style scoped>\n",
       "    .dataframe tbody tr th:only-of-type {\n",
       "        vertical-align: middle;\n",
       "    }\n",
       "\n",
       "    .dataframe tbody tr th {\n",
       "        vertical-align: top;\n",
       "    }\n",
       "\n",
       "    .dataframe thead th {\n",
       "        text-align: right;\n",
       "    }\n",
       "</style>\n",
       "<table border=\"1\" class=\"dataframe\">\n",
       "  <thead>\n",
       "    <tr style=\"text-align: right;\">\n",
       "      <th></th>\n",
       "      <th>obj_label</th>\n",
       "      <th>relation</th>\n",
       "      <th>relation_name</th>\n",
       "      <th>sub_label</th>\n",
       "      <th>uuid</th>\n",
       "    </tr>\n",
       "  </thead>\n",
       "  <tbody>\n",
       "    <tr>\n",
       "      <th>276</th>\n",
       "      <td>NBC</td>\n",
       "      <td>P449</td>\n",
       "      <td>originally-aired-on</td>\n",
       "      <td>Alfred Hitchcock Presents</td>\n",
       "      <td>4f9db489-5667-4c43-9810-e57f61d8ab30</td>\n",
       "    </tr>\n",
       "    <tr>\n",
       "      <th>277</th>\n",
       "      <td>CBS</td>\n",
       "      <td>P449</td>\n",
       "      <td>originally-aired-on</td>\n",
       "      <td>Alfred Hitchcock Presents</td>\n",
       "      <td>64b9c063-dbab-4fb0-9e43-5c1ff67caf45</td>\n",
       "    </tr>\n",
       "    <tr>\n",
       "      <th>278</th>\n",
       "      <td>NBC</td>\n",
       "      <td>P449</td>\n",
       "      <td>originally-aired-on</td>\n",
       "      <td>Alfred Hitchcock Presents</td>\n",
       "      <td>1e510088-f748-4972-b326-b0d4169402d0</td>\n",
       "    </tr>\n",
       "    <tr>\n",
       "      <th>279</th>\n",
       "      <td>CBS</td>\n",
       "      <td>P449</td>\n",
       "      <td>originally-aired-on</td>\n",
       "      <td>Down You Go</td>\n",
       "      <td>044e086f-26a6-4421-a6c7-a65710748ba1</td>\n",
       "    </tr>\n",
       "    <tr>\n",
       "      <th>280</th>\n",
       "      <td>NBC</td>\n",
       "      <td>P449</td>\n",
       "      <td>originally-aired-on</td>\n",
       "      <td>Down You Go</td>\n",
       "      <td>e1b4880e-7cc2-464e-9879-2982085f4ee9</td>\n",
       "    </tr>\n",
       "    <tr>\n",
       "      <th>281</th>\n",
       "      <td>NBC</td>\n",
       "      <td>P449</td>\n",
       "      <td>originally-aired-on</td>\n",
       "      <td>Gambit</td>\n",
       "      <td>f937db7c-018a-45e8-8cf0-b62bc82c4544</td>\n",
       "    </tr>\n",
       "    <tr>\n",
       "      <th>282</th>\n",
       "      <td>CBS</td>\n",
       "      <td>P449</td>\n",
       "      <td>originally-aired-on</td>\n",
       "      <td>Gambit</td>\n",
       "      <td>cf421677-f1c7-4014-be63-65c538b608fd</td>\n",
       "    </tr>\n",
       "    <tr>\n",
       "      <th>283</th>\n",
       "      <td>NBC</td>\n",
       "      <td>P449</td>\n",
       "      <td>originally-aired-on</td>\n",
       "      <td>Underdog</td>\n",
       "      <td>0e40459c-47ac-4842-9d51-1bf248d75479</td>\n",
       "    </tr>\n",
       "    <tr>\n",
       "      <th>284</th>\n",
       "      <td>CBS</td>\n",
       "      <td>P449</td>\n",
       "      <td>originally-aired-on</td>\n",
       "      <td>Underdog</td>\n",
       "      <td>ab9fd026-c25b-4a4b-a7f0-502bd7cdb361</td>\n",
       "    </tr>\n",
       "  </tbody>\n",
       "</table>\n",
       "</div>"
      ],
      "text/plain": [
       "    obj_label relation        relation_name                  sub_label  \\\n",
       "276       NBC     P449  originally-aired-on  Alfred Hitchcock Presents   \n",
       "277       CBS     P449  originally-aired-on  Alfred Hitchcock Presents   \n",
       "278       NBC     P449  originally-aired-on  Alfred Hitchcock Presents   \n",
       "279       CBS     P449  originally-aired-on                Down You Go   \n",
       "280       NBC     P449  originally-aired-on                Down You Go   \n",
       "281       NBC     P449  originally-aired-on                     Gambit   \n",
       "282       CBS     P449  originally-aired-on                     Gambit   \n",
       "283       NBC     P449  originally-aired-on                   Underdog   \n",
       "284       CBS     P449  originally-aired-on                   Underdog   \n",
       "\n",
       "                                     uuid  \n",
       "276  4f9db489-5667-4c43-9810-e57f61d8ab30  \n",
       "277  64b9c063-dbab-4fb0-9e43-5c1ff67caf45  \n",
       "278  1e510088-f748-4972-b326-b0d4169402d0  \n",
       "279  044e086f-26a6-4421-a6c7-a65710748ba1  \n",
       "280  e1b4880e-7cc2-464e-9879-2982085f4ee9  \n",
       "281  f937db7c-018a-45e8-8cf0-b62bc82c4544  \n",
       "282  cf421677-f1c7-4014-be63-65c538b608fd  \n",
       "283  0e40459c-47ac-4842-9d51-1bf248d75479  \n",
       "284  ab9fd026-c25b-4a4b-a7f0-502bd7cdb361  "
      ]
     },
     "execution_count": 25,
     "metadata": {},
     "output_type": "execute_result"
    }
   ],
   "source": [
    "duplicate_subj_data[duplicate_subj_data.relation==\"P449\"]"
   ]
  },
  {
   "cell_type": "code",
   "execution_count": 34,
   "id": "db3aba43",
   "metadata": {},
   "outputs": [],
   "source": [
    "duplicate_subj_data.to_csv(\"duplicated_subjects_data.csv\", index=False)"
   ]
  },
  {
   "cell_type": "code",
   "execution_count": 67,
   "id": "4cee70e0",
   "metadata": {},
   "outputs": [
    {
     "data": {
      "text/plain": [
       "array(['P937', 'P1412', 'P103', 'P276', 'P159', 'P140', 'P136', 'P495',\n",
       "       'P17', 'P361', 'P36', 'P264', 'P407', 'P138', 'P30', 'P176',\n",
       "       'P449', 'P279', 'P101', 'P364', 'P1376', 'P178', 'P37'],\n",
       "      dtype=object)"
      ]
     },
     "execution_count": 67,
     "metadata": {},
     "output_type": "execute_result"
    }
   ],
   "source": [
    "duplicate_subj_data.relation.unique()"
   ]
  },
  {
   "cell_type": "markdown",
   "id": "3575e620",
   "metadata": {},
   "source": [
    "## Check number of answer alternatives for original and deduplicated data"
   ]
  },
  {
   "cell_type": "code",
   "execution_count": 7,
   "id": "9dc8ff7b",
   "metadata": {},
   "outputs": [
    {
     "name": "stdout",
     "output_type": "stream",
     "text": [
      "There was an error reading the data for /cephyr/users/lovhag/Alvis/projects/pararel/data/trex_lms_vocab_deduplicated/P37.jsonl. Skipping.\n"
     ]
    }
   ],
   "source": [
    "data_paths = {\"original\": os.path.join(data_path, \"trex_lms_vocab\"), \"deduplicated\": os.path.join(data_path, \"trex_lms_vocab_deduplicated\")}\n",
    "all_objects = {}\n",
    "for key, path in data_paths.items():\n",
    "    all_objects[key] = {}\n",
    "    for relation in investigated_relations:\n",
    "        try:\n",
    "            data = utils.read_jsonl_file(os.path.join(path, relation + '.jsonl'))\n",
    "        except:\n",
    "            print(f\"There was an error reading the data for {os.path.join(path, relation + '.jsonl')}. Skipping.\")\n",
    "            continue\n",
    "        \n",
    "        all_objects[key][relation] = list(set([x['obj_label'] for x in data]))\n",
    "        "
   ]
  },
  {
   "cell_type": "code",
   "execution_count": 12,
   "id": "7c0a556c",
   "metadata": {},
   "outputs": [
    {
     "data": {
      "text/plain": [
       "['asteroid', 'comet', 'folklore']"
      ]
     },
     "execution_count": 12,
     "metadata": {},
     "output_type": "execute_result"
    }
   ],
   "source": [
    "[obj for obj in all_objects['original'][\"P101\"] if obj not in all_objects['deduplicated'][\"P101\"]]"
   ]
  },
  {
   "cell_type": "code",
   "execution_count": 17,
   "id": "9460a52d",
   "metadata": {},
   "outputs": [
    {
     "name": "stdout",
     "output_type": "stream",
     "text": [
      "Relation P937 number of options\n",
      "'original': 93\n",
      "'deduplicated': 92\n",
      "\n",
      "Removed options:\n",
      "['Cincinnati']\n",
      "-----------------\n",
      "Relation P1412 number of options\n",
      "'original': 38\n",
      "'deduplicated': 38\n",
      "\n",
      "Removed options:\n",
      "[]\n",
      "-----------------\n",
      "Relation P127 number of options\n",
      "'original': 194\n",
      "'deduplicated': 194\n",
      "\n",
      "Removed options:\n",
      "[]\n",
      "-----------------\n",
      "Relation P103 number of options\n",
      "'original': 30\n",
      "'deduplicated': 30\n",
      "\n",
      "Removed options:\n",
      "[]\n",
      "-----------------\n",
      "Relation P276 number of options\n",
      "'original': 262\n",
      "'deduplicated': 242\n",
      "\n",
      "Removed options:\n",
      "['Michigan', 'Austria', 'Luxembourg', 'Gujarat', 'Albania', 'Mongolia', 'Latvia', 'Azerbaijan', 'Wisconsin', 'Ghana', 'California', 'Armenia', 'Canada', 'Egypt', 'Bahrain', 'Kazakhstan', 'Texas', 'Switzerland', 'Iran', 'Levant']\n",
      "-----------------\n",
      "Relation P159 number of options\n",
      "'original': 190\n",
      "'deduplicated': 189\n",
      "\n",
      "Removed options:\n",
      "['Golden']\n",
      "-----------------\n",
      "Relation P140 number of options\n",
      "'original': 10\n",
      "'deduplicated': 10\n",
      "\n",
      "Removed options:\n",
      "[]\n",
      "-----------------\n",
      "Relation P136 number of options\n",
      "'original': 25\n",
      "'deduplicated': 24\n",
      "\n",
      "Removed options:\n",
      "['BBC']\n",
      "-----------------\n",
      "Relation P495 number of options\n",
      "'original': 67\n",
      "'deduplicated': 67\n",
      "\n",
      "Removed options:\n",
      "[]\n",
      "-----------------\n",
      "Relation P17 number of options\n",
      "'original': 96\n",
      "'deduplicated': 96\n",
      "\n",
      "Removed options:\n",
      "[]\n",
      "-----------------\n",
      "Relation P361 number of options\n",
      "'original': 280\n",
      "'deduplicated': 274\n",
      "\n",
      "Removed options:\n",
      "['blade', 'therapy', 'rifle', 'shell', 'gravity', 'Hebrew']\n",
      "-----------------\n",
      "Relation P36 number of options\n",
      "'original': 251\n",
      "'deduplicated': 250\n",
      "\n",
      "Removed options:\n",
      "['Westminster']\n",
      "-----------------\n",
      "Relation P740 number of options\n",
      "'original': 186\n",
      "'deduplicated': 186\n",
      "\n",
      "Removed options:\n",
      "[]\n",
      "-----------------\n",
      "Relation P264 number of options\n",
      "'original': 12\n",
      "'deduplicated': 12\n",
      "\n",
      "Removed options:\n",
      "[]\n",
      "-----------------\n",
      "Relation P407 number of options\n",
      "'original': 42\n",
      "'deduplicated': 42\n",
      "\n",
      "Removed options:\n",
      "[]\n",
      "-----------------\n",
      "Relation P138 number of options\n",
      "'original': 285\n",
      "'deduplicated': 280\n",
      "\n",
      "Removed options:\n",
      "['Maryland', 'Russia', 'Brazil', 'Switzerland', 'Virginia']\n",
      "-----------------\n",
      "Relation P30 number of options\n",
      "'original': 5\n",
      "'deduplicated': 5\n",
      "\n",
      "Removed options:\n",
      "[]\n",
      "-----------------\n",
      "Relation P131 number of options\n",
      "'original': 209\n",
      "'deduplicated': 209\n",
      "\n",
      "Removed options:\n",
      "[]\n",
      "-----------------\n",
      "Relation P176 number of options\n",
      "'original': 43\n",
      "'deduplicated': 43\n",
      "\n",
      "Removed options:\n",
      "[]\n",
      "-----------------\n",
      "Relation P449 number of options\n",
      "'original': 19\n",
      "'deduplicated': 19\n",
      "\n",
      "Removed options:\n",
      "[]\n",
      "-----------------\n",
      "Relation P279 number of options\n",
      "'original': 396\n",
      "'deduplicated': 395\n",
      "\n",
      "Removed options:\n",
      "['education']\n",
      "-----------------\n",
      "Relation P19 number of options\n",
      "'original': 229\n",
      "'deduplicated': 229\n",
      "\n",
      "Removed options:\n",
      "[]\n",
      "-----------------\n",
      "Relation P101 number of options\n",
      "'original': 97\n",
      "'deduplicated': 94\n",
      "\n",
      "Removed options:\n",
      "['asteroid', 'comet', 'folklore']\n",
      "-----------------\n",
      "Relation P364 number of options\n",
      "'original': 40\n",
      "'deduplicated': 40\n",
      "\n",
      "Removed options:\n",
      "[]\n",
      "-----------------\n",
      "Relation P106 number of options\n",
      "'original': 31\n",
      "'deduplicated': 31\n",
      "\n",
      "Removed options:\n",
      "[]\n",
      "-----------------\n",
      "Relation P1376 number of options\n",
      "'original': 164\n",
      "'deduplicated': 159\n",
      "\n",
      "Removed options:\n",
      "['Kabul', 'Afghanistan', 'Yugoslavia', 'Israel', 'Serbia']\n",
      "-----------------\n",
      "Relation P178 number of options\n",
      "'original': 23\n",
      "'deduplicated': 23\n",
      "\n",
      "Removed options:\n",
      "[]\n",
      "-----------------\n",
      "Relation P413 number of options\n",
      "'original': 14\n",
      "'deduplicated': 14\n",
      "\n",
      "Removed options:\n",
      "[]\n",
      "-----------------\n",
      "Relation P27 number of options\n",
      "'original': 97\n",
      "'deduplicated': 97\n",
      "\n",
      "Removed options:\n",
      "[]\n",
      "-----------------\n",
      "Relation P20 number of options\n",
      "'original': 170\n",
      "'deduplicated': 170\n",
      "\n",
      "Removed options:\n",
      "[]\n",
      "-----------------\n"
     ]
    }
   ],
   "source": [
    "for relation in investigated_relations:\n",
    "    # skip the relation that has been dropped for the deduplicated data\n",
    "    if relation==\"P37\":\n",
    "        continue\n",
    "    print(f\"Relation {relation} number of options\")\n",
    "    print(f\"'original': {len(all_objects['original'][relation])}\")\n",
    "    print(f\"'deduplicated': {len(all_objects['deduplicated'][relation])}\") \n",
    "    print()\n",
    "    print(\"Removed options:\")\n",
    "    print([obj for obj in all_objects['original'][relation] if obj not in all_objects['deduplicated'][relation]])\n",
    "    print(\"-----------------\")"
   ]
  },
  {
   "cell_type": "markdown",
   "id": "ee29ee45",
   "metadata": {},
   "source": [
    "## Check whether Atlas is more inconsistent for inconsistent subject-object alternatives"
   ]
  },
  {
   "cell_type": "code",
   "execution_count": 54,
   "id": "906a9a94",
   "metadata": {},
   "outputs": [],
   "source": [
    "from collections import defaultdict\n",
    "import wandb\n",
    "import glob\n",
    "\n",
    "from pararel.consistency.encode_consistency_probe_from_file import read_atlas_results\n",
    "from pararel.consistency.encode_consistency_probe import analyze_results\n",
    "from pararel.consistency.utils import read_jsonl_file, read_graph"
   ]
  },
  {
   "cell_type": "code",
   "execution_count": 36,
   "id": "7ca9d1f0",
   "metadata": {},
   "outputs": [
    {
     "data": {
      "text/html": [
       "<div>\n",
       "<style scoped>\n",
       "    .dataframe tbody tr th:only-of-type {\n",
       "        vertical-align: middle;\n",
       "    }\n",
       "\n",
       "    .dataframe tbody tr th {\n",
       "        vertical-align: top;\n",
       "    }\n",
       "\n",
       "    .dataframe thead th {\n",
       "        text-align: right;\n",
       "    }\n",
       "</style>\n",
       "<table border=\"1\" class=\"dataframe\">\n",
       "  <thead>\n",
       "    <tr style=\"text-align: right;\">\n",
       "      <th></th>\n",
       "      <th>obj_label</th>\n",
       "      <th>relation</th>\n",
       "      <th>relation_name</th>\n",
       "      <th>sub_label</th>\n",
       "      <th>uuid</th>\n",
       "    </tr>\n",
       "  </thead>\n",
       "  <tbody>\n",
       "    <tr>\n",
       "      <th>0</th>\n",
       "      <td>Bern</td>\n",
       "      <td>P937</td>\n",
       "      <td>worked-in</td>\n",
       "      <td>Albert Einstein</td>\n",
       "      <td>e4f33b6d-6cda-4a73-9bd3-5668f884fe0d</td>\n",
       "    </tr>\n",
       "    <tr>\n",
       "      <th>1</th>\n",
       "      <td>Berlin</td>\n",
       "      <td>P937</td>\n",
       "      <td>worked-in</td>\n",
       "      <td>Albert Einstein</td>\n",
       "      <td>dd080e5d-6e84-46a9-8e2d-33edc11cf03f</td>\n",
       "    </tr>\n",
       "    <tr>\n",
       "      <th>2</th>\n",
       "      <td>Berlin</td>\n",
       "      <td>P937</td>\n",
       "      <td>worked-in</td>\n",
       "      <td>Carl Philipp Emanuel Bach</td>\n",
       "      <td>e63ed2f9-ab68-43e9-a0b8-2a2ab1616c37</td>\n",
       "    </tr>\n",
       "    <tr>\n",
       "      <th>3</th>\n",
       "      <td>Hamburg</td>\n",
       "      <td>P937</td>\n",
       "      <td>worked-in</td>\n",
       "      <td>Carl Philipp Emanuel Bach</td>\n",
       "      <td>841751bd-aefc-4e79-a3c5-b90c94336a05</td>\n",
       "    </tr>\n",
       "    <tr>\n",
       "      <th>4</th>\n",
       "      <td>Vienna</td>\n",
       "      <td>P937</td>\n",
       "      <td>worked-in</td>\n",
       "      <td>Christoph Willibald von Gluck</td>\n",
       "      <td>c2ffb80f-b0a7-4c8a-975d-5d054232b027</td>\n",
       "    </tr>\n",
       "    <tr>\n",
       "      <th>...</th>\n",
       "      <td>...</td>\n",
       "      <td>...</td>\n",
       "      <td>...</td>\n",
       "      <td>...</td>\n",
       "      <td>...</td>\n",
       "    </tr>\n",
       "    <tr>\n",
       "      <th>642</th>\n",
       "      <td>Russian</td>\n",
       "      <td>P37</td>\n",
       "      <td>official-language</td>\n",
       "      <td>World Health Organization</td>\n",
       "      <td>b46343e0-0f68-4813-bf91-438f515210e4</td>\n",
       "    </tr>\n",
       "    <tr>\n",
       "      <th>643</th>\n",
       "      <td>Russian</td>\n",
       "      <td>P37</td>\n",
       "      <td>official-language</td>\n",
       "      <td>Zhovti Vody</td>\n",
       "      <td>e92763d7-4e82-4e31-885e-525836bc939e</td>\n",
       "    </tr>\n",
       "    <tr>\n",
       "      <th>644</th>\n",
       "      <td>Ukrainian</td>\n",
       "      <td>P37</td>\n",
       "      <td>official-language</td>\n",
       "      <td>Zhovti Vody</td>\n",
       "      <td>71d372dc-8420-4c9d-b932-3fe1e673efa7</td>\n",
       "    </tr>\n",
       "    <tr>\n",
       "      <th>645</th>\n",
       "      <td>German</td>\n",
       "      <td>P37</td>\n",
       "      <td>official-language</td>\n",
       "      <td>canton of Bern</td>\n",
       "      <td>7c5bd78d-c5fa-4b6c-9b44-a86d68a09b9f</td>\n",
       "    </tr>\n",
       "    <tr>\n",
       "      <th>646</th>\n",
       "      <td>French</td>\n",
       "      <td>P37</td>\n",
       "      <td>official-language</td>\n",
       "      <td>canton of Bern</td>\n",
       "      <td>5f3dffc8-b5a6-462c-a6db-515a369b26ea</td>\n",
       "    </tr>\n",
       "  </tbody>\n",
       "</table>\n",
       "<p>647 rows × 5 columns</p>\n",
       "</div>"
      ],
      "text/plain": [
       "     obj_label relation      relation_name                      sub_label  \\\n",
       "0         Bern     P937          worked-in                Albert Einstein   \n",
       "1       Berlin     P937          worked-in                Albert Einstein   \n",
       "2       Berlin     P937          worked-in      Carl Philipp Emanuel Bach   \n",
       "3      Hamburg     P937          worked-in      Carl Philipp Emanuel Bach   \n",
       "4       Vienna     P937          worked-in  Christoph Willibald von Gluck   \n",
       "..         ...      ...                ...                            ...   \n",
       "642    Russian      P37  official-language      World Health Organization   \n",
       "643    Russian      P37  official-language                    Zhovti Vody   \n",
       "644  Ukrainian      P37  official-language                    Zhovti Vody   \n",
       "645     German      P37  official-language                 canton of Bern   \n",
       "646     French      P37  official-language                 canton of Bern   \n",
       "\n",
       "                                     uuid  \n",
       "0    e4f33b6d-6cda-4a73-9bd3-5668f884fe0d  \n",
       "1    dd080e5d-6e84-46a9-8e2d-33edc11cf03f  \n",
       "2    e63ed2f9-ab68-43e9-a0b8-2a2ab1616c37  \n",
       "3    841751bd-aefc-4e79-a3c5-b90c94336a05  \n",
       "4    c2ffb80f-b0a7-4c8a-975d-5d054232b027  \n",
       "..                                    ...  \n",
       "642  b46343e0-0f68-4813-bf91-438f515210e4  \n",
       "643  e92763d7-4e82-4e31-885e-525836bc939e  \n",
       "644  71d372dc-8420-4c9d-b932-3fe1e673efa7  \n",
       "645  7c5bd78d-c5fa-4b6c-9b44-a86d68a09b9f  \n",
       "646  5f3dffc8-b5a6-462c-a6db-515a369b26ea  \n",
       "\n",
       "[647 rows x 5 columns]"
      ]
     },
     "execution_count": 36,
     "metadata": {},
     "output_type": "execute_result"
    }
   ],
   "source": [
    "duplicate_subj_data = pd.read_csv(\"duplicated_subjects_data.csv\")\n",
    "duplicate_subj_data"
   ]
  },
  {
   "cell_type": "code",
   "execution_count": 64,
   "id": "5896356c",
   "metadata": {},
   "outputs": [
    {
     "data": {
      "text/html": [
       "Finishing last run (ID:3r6eoja3) before initializing another..."
      ],
      "text/plain": [
       "<IPython.core.display.HTML object>"
      ]
     },
     "metadata": {},
     "output_type": "display_data"
    },
    {
     "data": {
      "text/html": [
       "Waiting for W&B process to finish... <strong style=\"color:green\">(success).</strong>"
      ],
      "text/plain": [
       "<IPython.core.display.HTML object>"
      ]
     },
     "metadata": {},
     "output_type": "display_data"
    },
    {
     "data": {
      "text/html": [
       "<style>\n",
       "    table.wandb td:nth-child(1) { padding: 0 10px; text-align: left ; width: auto;} td:nth-child(2) {text-align: left ; width: 100%}\n",
       "    .wandb-row { display: flex; flex-direction: row; flex-wrap: wrap; justify-content: flex-start; width: 100% }\n",
       "    .wandb-col { display: flex; flex-direction: column; flex-basis: 100%; flex: 1; padding: 10px; }\n",
       "    </style>\n",
       "<div class=\"wandb-row\"><div class=\"wandb-col\"><h3>Run summary:</h3><br/><table class=\"wandb\"><tr><td>avg_consistency_by_edge_out</td><td>0.70956</td></tr><tr><td>avg_entropy</td><td>0.36634</td></tr><tr><td>both_consistency</td><td>0.71296</td></tr><tr><td>consistency</td><td>0.70833</td></tr><tr><td>consistent_subjects</td><td>0.5</td></tr><tr><td>knowledgable_consistency</td><td>0.5625</td></tr><tr><td>lexical_consistency</td><td>0.66667</td></tr><tr><td>no_change_consistency</td><td>-1</td></tr><tr><td>std_entropy</td><td>0.43739</td></tr><tr><td>successful_patterns</td><td>1.0</td></tr><tr><td>successful_subjects</td><td>0.66667</td></tr><tr><td>syntactic_consistency</td><td>-1</td></tr><tr><td>total</td><td>240</td></tr><tr><td>total_both</td><td>216</td></tr><tr><td>total_lex</td><td>24</td></tr><tr><td>total_no</td><td>0</td></tr><tr><td>total_syn</td><td>0</td></tr><tr><td>unknowledgable_consistency</td><td>1.0</td></tr></table><br/></div></div>"
      ],
      "text/plain": [
       "<IPython.core.display.HTML object>"
      ]
     },
     "metadata": {},
     "output_type": "display_data"
    },
    {
     "data": {
      "text/html": [
       "Synced <strong style=\"color:#cdcd00\">P937_consistency_probe_atlas-base_duplicates</strong>: <a href=\"https://wandb.ai/lovhagstrom/consistency/runs/3r6eoja3\" target=\"_blank\">https://wandb.ai/lovhagstrom/consistency/runs/3r6eoja3</a><br/>Synced 5 W&B file(s), 0 media file(s), 0 artifact file(s) and 0 other file(s)"
      ],
      "text/plain": [
       "<IPython.core.display.HTML object>"
      ]
     },
     "metadata": {},
     "output_type": "display_data"
    },
    {
     "data": {
      "text/html": [
       "Find logs at: <code>./wandb/run-20230414_164006-3r6eoja3/logs</code>"
      ],
      "text/plain": [
       "<IPython.core.display.HTML object>"
      ]
     },
     "metadata": {},
     "output_type": "display_data"
    },
    {
     "data": {
      "text/html": [
       "Successfully finished last run (ID:3r6eoja3). Initializing new run:<br/>"
      ],
      "text/plain": [
       "<IPython.core.display.HTML object>"
      ]
     },
     "metadata": {},
     "output_type": "display_data"
    },
    {
     "data": {
      "text/html": [
       "wandb version 0.14.2 is available!  To upgrade, please run:\n",
       " $ pip install wandb --upgrade"
      ],
      "text/plain": [
       "<IPython.core.display.HTML object>"
      ]
     },
     "metadata": {},
     "output_type": "display_data"
    },
    {
     "data": {
      "text/html": [
       "Tracking run with wandb version 0.13.3"
      ],
      "text/plain": [
       "<IPython.core.display.HTML object>"
      ]
     },
     "metadata": {},
     "output_type": "display_data"
    },
    {
     "data": {
      "text/html": [
       "Run data is saved locally in <code>/cephyr/users/lovhag/Alvis/projects/pararel/wandb/run-20230414_165212-2fp2iq1k</code>"
      ],
      "text/plain": [
       "<IPython.core.display.HTML object>"
      ]
     },
     "metadata": {},
     "output_type": "display_data"
    },
    {
     "data": {
      "text/html": [
       "Syncing run <strong><a href=\"https://wandb.ai/lovhagstrom/consistency/runs/2fp2iq1k\" target=\"_blank\">P937_consistency_probe_atlas-base_duplicates</a></strong> to <a href=\"https://wandb.ai/lovhagstrom/consistency\" target=\"_blank\">Weights & Biases</a> (<a href=\"https://wandb.me/run\" target=\"_blank\">docs</a>)<br/>"
      ],
      "text/plain": [
       "<IPython.core.display.HTML object>"
      ]
     },
     "metadata": {},
     "output_type": "display_data"
    },
    {
     "name": "stdout",
     "output_type": "stream",
     "text": [
      "overall 170 240 0.7083333333333334\n",
      "lexical 16 24 0.6666666666666666\n",
      "both 154 216 0.7129629629629629\n"
     ]
    },
    {
     "data": {
      "text/html": [
       "Finishing last run (ID:2fp2iq1k) before initializing another..."
      ],
      "text/plain": [
       "<IPython.core.display.HTML object>"
      ]
     },
     "metadata": {},
     "output_type": "display_data"
    },
    {
     "data": {
      "text/html": [
       "Waiting for W&B process to finish... <strong style=\"color:green\">(success).</strong>"
      ],
      "text/plain": [
       "<IPython.core.display.HTML object>"
      ]
     },
     "metadata": {},
     "output_type": "display_data"
    },
    {
     "data": {
      "text/html": [
       "<style>\n",
       "    table.wandb td:nth-child(1) { padding: 0 10px; text-align: left ; width: auto;} td:nth-child(2) {text-align: left ; width: 100%}\n",
       "    .wandb-row { display: flex; flex-direction: row; flex-wrap: wrap; justify-content: flex-start; width: 100% }\n",
       "    .wandb-col { display: flex; flex-direction: column; flex-basis: 100%; flex: 1; padding: 10px; }\n",
       "    </style>\n",
       "<div class=\"wandb-row\"><div class=\"wandb-col\"><h3>Run summary:</h3><br/><table class=\"wandb\"><tr><td>avg_consistency_by_edge_out</td><td>0.70956</td></tr><tr><td>avg_entropy</td><td>0.36634</td></tr><tr><td>both_consistency</td><td>0.71296</td></tr><tr><td>consistency</td><td>0.70833</td></tr><tr><td>consistent_subjects</td><td>0.5</td></tr><tr><td>knowledgable_consistency</td><td>0.5625</td></tr><tr><td>lexical_consistency</td><td>0.66667</td></tr><tr><td>no_change_consistency</td><td>-1</td></tr><tr><td>std_entropy</td><td>0.43739</td></tr><tr><td>successful_patterns</td><td>1.0</td></tr><tr><td>successful_subjects</td><td>0.66667</td></tr><tr><td>syntactic_consistency</td><td>-1</td></tr><tr><td>total</td><td>240</td></tr><tr><td>total_both</td><td>216</td></tr><tr><td>total_lex</td><td>24</td></tr><tr><td>total_no</td><td>0</td></tr><tr><td>total_syn</td><td>0</td></tr><tr><td>unknowledgable_consistency</td><td>1.0</td></tr></table><br/></div></div>"
      ],
      "text/plain": [
       "<IPython.core.display.HTML object>"
      ]
     },
     "metadata": {},
     "output_type": "display_data"
    },
    {
     "data": {
      "text/html": [
       "Synced <strong style=\"color:#cdcd00\">P937_consistency_probe_atlas-base_duplicates</strong>: <a href=\"https://wandb.ai/lovhagstrom/consistency/runs/2fp2iq1k\" target=\"_blank\">https://wandb.ai/lovhagstrom/consistency/runs/2fp2iq1k</a><br/>Synced 5 W&B file(s), 0 media file(s), 0 artifact file(s) and 0 other file(s)"
      ],
      "text/plain": [
       "<IPython.core.display.HTML object>"
      ]
     },
     "metadata": {},
     "output_type": "display_data"
    },
    {
     "data": {
      "text/html": [
       "Find logs at: <code>./wandb/run-20230414_165212-2fp2iq1k/logs</code>"
      ],
      "text/plain": [
       "<IPython.core.display.HTML object>"
      ]
     },
     "metadata": {},
     "output_type": "display_data"
    },
    {
     "data": {
      "text/html": [
       "Successfully finished last run (ID:2fp2iq1k). Initializing new run:<br/>"
      ],
      "text/plain": [
       "<IPython.core.display.HTML object>"
      ]
     },
     "metadata": {},
     "output_type": "display_data"
    },
    {
     "data": {
      "text/html": [
       "wandb version 0.14.2 is available!  To upgrade, please run:\n",
       " $ pip install wandb --upgrade"
      ],
      "text/plain": [
       "<IPython.core.display.HTML object>"
      ]
     },
     "metadata": {},
     "output_type": "display_data"
    },
    {
     "data": {
      "text/html": [
       "Tracking run with wandb version 0.13.3"
      ],
      "text/plain": [
       "<IPython.core.display.HTML object>"
      ]
     },
     "metadata": {},
     "output_type": "display_data"
    },
    {
     "data": {
      "text/html": [
       "Run data is saved locally in <code>/cephyr/users/lovhag/Alvis/projects/pararel/wandb/run-20230414_165220-1k4j939b</code>"
      ],
      "text/plain": [
       "<IPython.core.display.HTML object>"
      ]
     },
     "metadata": {},
     "output_type": "display_data"
    },
    {
     "data": {
      "text/html": [
       "Syncing run <strong><a href=\"https://wandb.ai/lovhagstrom/consistency/runs/1k4j939b\" target=\"_blank\">P1412_consistency_probe_atlas-base_duplicates</a></strong> to <a href=\"https://wandb.ai/lovhagstrom/consistency\" target=\"_blank\">Weights & Biases</a> (<a href=\"https://wandb.me/run\" target=\"_blank\">docs</a>)<br/>"
      ],
      "text/plain": [
       "<IPython.core.display.HTML object>"
      ]
     },
     "metadata": {},
     "output_type": "display_data"
    },
    {
     "name": "stdout",
     "output_type": "stream",
     "text": [
      "overall 100 168 0.5952380952380952\n",
      "syntactic 4 6 0.6666666666666666\n",
      "lexical 10 12 0.8333333333333334\n",
      "both 20 36 0.5555555555555556\n"
     ]
    },
    {
     "data": {
      "text/html": [
       "Finishing last run (ID:1k4j939b) before initializing another..."
      ],
      "text/plain": [
       "<IPython.core.display.HTML object>"
      ]
     },
     "metadata": {},
     "output_type": "display_data"
    },
    {
     "data": {
      "text/html": [
       "Waiting for W&B process to finish... <strong style=\"color:green\">(success).</strong>"
      ],
      "text/plain": [
       "<IPython.core.display.HTML object>"
      ]
     },
     "metadata": {},
     "output_type": "display_data"
    },
    {
     "data": {
      "text/html": [
       "<style>\n",
       "    table.wandb td:nth-child(1) { padding: 0 10px; text-align: left ; width: auto;} td:nth-child(2) {text-align: left ; width: 100%}\n",
       "    .wandb-row { display: flex; flex-direction: row; flex-wrap: wrap; justify-content: flex-start; width: 100% }\n",
       "    .wandb-col { display: flex; flex-direction: column; flex-basis: 100%; flex: 1; padding: 10px; }\n",
       "    </style>\n",
       "<div class=\"wandb-row\"><div class=\"wandb-col\"><h3>Run summary:</h3><br/><table class=\"wandb\"><tr><td>avg_consistency_by_edge_out</td><td>0.60571</td></tr><tr><td>avg_entropy</td><td>0.58524</td></tr><tr><td>both_consistency</td><td>0.55556</td></tr><tr><td>consistency</td><td>0.59524</td></tr><tr><td>consistent_subjects</td><td>0.33333</td></tr><tr><td>knowledgable_consistency</td><td>0.32143</td></tr><tr><td>lexical_consistency</td><td>0.83333</td></tr><tr><td>no_change_consistency</td><td>-1</td></tr><tr><td>std_entropy</td><td>0.45579</td></tr><tr><td>successful_patterns</td><td>0.5</td></tr><tr><td>successful_subjects</td><td>0.33333</td></tr><tr><td>syntactic_consistency</td><td>0.66667</td></tr><tr><td>total</td><td>168</td></tr><tr><td>total_both</td><td>36</td></tr><tr><td>total_lex</td><td>12</td></tr><tr><td>total_no</td><td>0</td></tr><tr><td>total_syn</td><td>6</td></tr><tr><td>unknowledgable_consistency</td><td>0.73214</td></tr></table><br/></div></div>"
      ],
      "text/plain": [
       "<IPython.core.display.HTML object>"
      ]
     },
     "metadata": {},
     "output_type": "display_data"
    },
    {
     "data": {
      "text/html": [
       "Synced <strong style=\"color:#cdcd00\">P1412_consistency_probe_atlas-base_duplicates</strong>: <a href=\"https://wandb.ai/lovhagstrom/consistency/runs/1k4j939b\" target=\"_blank\">https://wandb.ai/lovhagstrom/consistency/runs/1k4j939b</a><br/>Synced 5 W&B file(s), 0 media file(s), 0 artifact file(s) and 0 other file(s)"
      ],
      "text/plain": [
       "<IPython.core.display.HTML object>"
      ]
     },
     "metadata": {},
     "output_type": "display_data"
    },
    {
     "data": {
      "text/html": [
       "Find logs at: <code>./wandb/run-20230414_165220-1k4j939b/logs</code>"
      ],
      "text/plain": [
       "<IPython.core.display.HTML object>"
      ]
     },
     "metadata": {},
     "output_type": "display_data"
    },
    {
     "data": {
      "text/html": [
       "Successfully finished last run (ID:1k4j939b). Initializing new run:<br/>"
      ],
      "text/plain": [
       "<IPython.core.display.HTML object>"
      ]
     },
     "metadata": {},
     "output_type": "display_data"
    },
    {
     "data": {
      "text/html": [
       "wandb version 0.14.2 is available!  To upgrade, please run:\n",
       " $ pip install wandb --upgrade"
      ],
      "text/plain": [
       "<IPython.core.display.HTML object>"
      ]
     },
     "metadata": {},
     "output_type": "display_data"
    },
    {
     "data": {
      "text/html": [
       "Tracking run with wandb version 0.13.3"
      ],
      "text/plain": [
       "<IPython.core.display.HTML object>"
      ]
     },
     "metadata": {},
     "output_type": "display_data"
    },
    {
     "data": {
      "text/html": [
       "Run data is saved locally in <code>/cephyr/users/lovhag/Alvis/projects/pararel/wandb/run-20230414_165226-345hg8gr</code>"
      ],
      "text/plain": [
       "<IPython.core.display.HTML object>"
      ]
     },
     "metadata": {},
     "output_type": "display_data"
    },
    {
     "data": {
      "text/html": [
       "Syncing run <strong><a href=\"https://wandb.ai/lovhagstrom/consistency/runs/345hg8gr\" target=\"_blank\">P103_consistency_probe_atlas-base_duplicates</a></strong> to <a href=\"https://wandb.ai/lovhagstrom/consistency\" target=\"_blank\">Weights & Biases</a> (<a href=\"https://wandb.me/run\" target=\"_blank\">docs</a>)<br/>"
      ],
      "text/plain": [
       "<IPython.core.display.HTML object>"
      ]
     },
     "metadata": {},
     "output_type": "display_data"
    },
    {
     "name": "stdout",
     "output_type": "stream",
     "text": [
      "overall 36 36 1.0\n",
      "lexical 12 12 1.0\n"
     ]
    },
    {
     "data": {
      "text/html": [
       "Finishing last run (ID:345hg8gr) before initializing another..."
      ],
      "text/plain": [
       "<IPython.core.display.HTML object>"
      ]
     },
     "metadata": {},
     "output_type": "display_data"
    },
    {
     "data": {
      "text/html": [
       "Waiting for W&B process to finish... <strong style=\"color:green\">(success).</strong>"
      ],
      "text/plain": [
       "<IPython.core.display.HTML object>"
      ]
     },
     "metadata": {},
     "output_type": "display_data"
    },
    {
     "data": {
      "text/html": [
       "<style>\n",
       "    table.wandb td:nth-child(1) { padding: 0 10px; text-align: left ; width: auto;} td:nth-child(2) {text-align: left ; width: 100%}\n",
       "    .wandb-row { display: flex; flex-direction: row; flex-wrap: wrap; justify-content: flex-start; width: 100% }\n",
       "    .wandb-col { display: flex; flex-direction: column; flex-basis: 100%; flex: 1; padding: 10px; }\n",
       "    </style>\n",
       "<div class=\"wandb-row\"><div class=\"wandb-col\"><h3>Run summary:</h3><br/><table class=\"wandb\"><tr><td>avg_consistency_by_edge_out</td><td>1.0</td></tr><tr><td>avg_entropy</td><td>0.0</td></tr><tr><td>both_consistency</td><td>-1</td></tr><tr><td>consistency</td><td>1.0</td></tr><tr><td>consistent_subjects</td><td>1.0</td></tr><tr><td>knowledgable_consistency</td><td>1.0</td></tr><tr><td>lexical_consistency</td><td>1.0</td></tr><tr><td>no_change_consistency</td><td>-1</td></tr><tr><td>std_entropy</td><td>0.0</td></tr><tr><td>successful_patterns</td><td>1.0</td></tr><tr><td>successful_subjects</td><td>0.66667</td></tr><tr><td>syntactic_consistency</td><td>-1</td></tr><tr><td>total</td><td>36</td></tr><tr><td>total_both</td><td>0</td></tr><tr><td>total_lex</td><td>12</td></tr><tr><td>total_no</td><td>0</td></tr><tr><td>total_syn</td><td>0</td></tr><tr><td>unknowledgable_consistency</td><td>1.0</td></tr></table><br/></div></div>"
      ],
      "text/plain": [
       "<IPython.core.display.HTML object>"
      ]
     },
     "metadata": {},
     "output_type": "display_data"
    },
    {
     "data": {
      "text/html": [
       "Synced <strong style=\"color:#cdcd00\">P103_consistency_probe_atlas-base_duplicates</strong>: <a href=\"https://wandb.ai/lovhagstrom/consistency/runs/345hg8gr\" target=\"_blank\">https://wandb.ai/lovhagstrom/consistency/runs/345hg8gr</a><br/>Synced 5 W&B file(s), 0 media file(s), 0 artifact file(s) and 0 other file(s)"
      ],
      "text/plain": [
       "<IPython.core.display.HTML object>"
      ]
     },
     "metadata": {},
     "output_type": "display_data"
    },
    {
     "data": {
      "text/html": [
       "Find logs at: <code>./wandb/run-20230414_165226-345hg8gr/logs</code>"
      ],
      "text/plain": [
       "<IPython.core.display.HTML object>"
      ]
     },
     "metadata": {},
     "output_type": "display_data"
    },
    {
     "data": {
      "text/html": [
       "Successfully finished last run (ID:345hg8gr). Initializing new run:<br/>"
      ],
      "text/plain": [
       "<IPython.core.display.HTML object>"
      ]
     },
     "metadata": {},
     "output_type": "display_data"
    },
    {
     "data": {
      "text/html": [
       "wandb version 0.14.2 is available!  To upgrade, please run:\n",
       " $ pip install wandb --upgrade"
      ],
      "text/plain": [
       "<IPython.core.display.HTML object>"
      ]
     },
     "metadata": {},
     "output_type": "display_data"
    },
    {
     "data": {
      "text/html": [
       "Tracking run with wandb version 0.13.3"
      ],
      "text/plain": [
       "<IPython.core.display.HTML object>"
      ]
     },
     "metadata": {},
     "output_type": "display_data"
    },
    {
     "data": {
      "text/html": [
       "Run data is saved locally in <code>/cephyr/users/lovhag/Alvis/projects/pararel/wandb/run-20230414_165233-39svlylh</code>"
      ],
      "text/plain": [
       "<IPython.core.display.HTML object>"
      ]
     },
     "metadata": {},
     "output_type": "display_data"
    },
    {
     "data": {
      "text/html": [
       "Syncing run <strong><a href=\"https://wandb.ai/lovhagstrom/consistency/runs/39svlylh\" target=\"_blank\">P276_consistency_probe_atlas-base_duplicates</a></strong> to <a href=\"https://wandb.ai/lovhagstrom/consistency\" target=\"_blank\">Weights & Biases</a> (<a href=\"https://wandb.me/run\" target=\"_blank\">docs</a>)<br/>"
      ],
      "text/plain": [
       "<IPython.core.display.HTML object>"
      ]
     },
     "metadata": {},
     "output_type": "display_data"
    },
    {
     "name": "stdout",
     "output_type": "stream",
     "text": [
      "overall 40 54 0.7407407407407407\n",
      "both 40 54 0.7407407407407407\n"
     ]
    },
    {
     "data": {
      "text/html": [
       "Finishing last run (ID:39svlylh) before initializing another..."
      ],
      "text/plain": [
       "<IPython.core.display.HTML object>"
      ]
     },
     "metadata": {},
     "output_type": "display_data"
    },
    {
     "data": {
      "text/html": [
       "Waiting for W&B process to finish... <strong style=\"color:green\">(success).</strong>"
      ],
      "text/plain": [
       "<IPython.core.display.HTML object>"
      ]
     },
     "metadata": {},
     "output_type": "display_data"
    },
    {
     "data": {
      "text/html": [
       "<style>\n",
       "    table.wandb td:nth-child(1) { padding: 0 10px; text-align: left ; width: auto;} td:nth-child(2) {text-align: left ; width: 100%}\n",
       "    .wandb-row { display: flex; flex-direction: row; flex-wrap: wrap; justify-content: flex-start; width: 100% }\n",
       "    .wandb-col { display: flex; flex-direction: column; flex-basis: 100%; flex: 1; padding: 10px; }\n",
       "    </style>\n",
       "<div class=\"wandb-row\"><div class=\"wandb-col\"><h3>Run summary:</h3><br/><table class=\"wandb\"><tr><td>avg_consistency_by_edge_out</td><td>0.74074</td></tr><tr><td>avg_entropy</td><td>0.0</td></tr><tr><td>both_consistency</td><td>0.74074</td></tr><tr><td>consistency</td><td>0.74074</td></tr><tr><td>consistent_subjects</td><td>0.74074</td></tr><tr><td>knowledgable_consistency</td><td>0.78571</td></tr><tr><td>lexical_consistency</td><td>-1</td></tr><tr><td>no_change_consistency</td><td>-1</td></tr><tr><td>std_entropy</td><td>0.0</td></tr><tr><td>successful_patterns</td><td>1.0</td></tr><tr><td>successful_subjects</td><td>0.51852</td></tr><tr><td>syntactic_consistency</td><td>-1</td></tr><tr><td>total</td><td>54</td></tr><tr><td>total_both</td><td>54</td></tr><tr><td>total_lex</td><td>0</td></tr><tr><td>total_no</td><td>0</td></tr><tr><td>total_syn</td><td>0</td></tr><tr><td>unknowledgable_consistency</td><td>0.69231</td></tr></table><br/></div></div>"
      ],
      "text/plain": [
       "<IPython.core.display.HTML object>"
      ]
     },
     "metadata": {},
     "output_type": "display_data"
    },
    {
     "data": {
      "text/html": [
       "Synced <strong style=\"color:#cdcd00\">P276_consistency_probe_atlas-base_duplicates</strong>: <a href=\"https://wandb.ai/lovhagstrom/consistency/runs/39svlylh\" target=\"_blank\">https://wandb.ai/lovhagstrom/consistency/runs/39svlylh</a><br/>Synced 5 W&B file(s), 0 media file(s), 0 artifact file(s) and 0 other file(s)"
      ],
      "text/plain": [
       "<IPython.core.display.HTML object>"
      ]
     },
     "metadata": {},
     "output_type": "display_data"
    },
    {
     "data": {
      "text/html": [
       "Find logs at: <code>./wandb/run-20230414_165233-39svlylh/logs</code>"
      ],
      "text/plain": [
       "<IPython.core.display.HTML object>"
      ]
     },
     "metadata": {},
     "output_type": "display_data"
    },
    {
     "data": {
      "text/html": [
       "Successfully finished last run (ID:39svlylh). Initializing new run:<br/>"
      ],
      "text/plain": [
       "<IPython.core.display.HTML object>"
      ]
     },
     "metadata": {},
     "output_type": "display_data"
    },
    {
     "data": {
      "text/html": [
       "wandb version 0.14.2 is available!  To upgrade, please run:\n",
       " $ pip install wandb --upgrade"
      ],
      "text/plain": [
       "<IPython.core.display.HTML object>"
      ]
     },
     "metadata": {},
     "output_type": "display_data"
    },
    {
     "data": {
      "text/html": [
       "Tracking run with wandb version 0.13.3"
      ],
      "text/plain": [
       "<IPython.core.display.HTML object>"
      ]
     },
     "metadata": {},
     "output_type": "display_data"
    },
    {
     "data": {
      "text/html": [
       "Run data is saved locally in <code>/cephyr/users/lovhag/Alvis/projects/pararel/wandb/run-20230414_165241-3nk1s42x</code>"
      ],
      "text/plain": [
       "<IPython.core.display.HTML object>"
      ]
     },
     "metadata": {},
     "output_type": "display_data"
    },
    {
     "data": {
      "text/html": [
       "Syncing run <strong><a href=\"https://wandb.ai/lovhagstrom/consistency/runs/3nk1s42x\" target=\"_blank\">P159_consistency_probe_atlas-base_duplicates</a></strong> to <a href=\"https://wandb.ai/lovhagstrom/consistency\" target=\"_blank\">Weights & Biases</a> (<a href=\"https://wandb.me/run\" target=\"_blank\">docs</a>)<br/>"
      ],
      "text/plain": [
       "<IPython.core.display.HTML object>"
      ]
     },
     "metadata": {},
     "output_type": "display_data"
    },
    {
     "name": "stdout",
     "output_type": "stream",
     "text": [
      "overall 252 270 0.9333333333333333\n",
      "lexical 18 18 1.0\n",
      "both 72 78 0.9230769230769231\n"
     ]
    },
    {
     "data": {
      "text/html": [
       "Finishing last run (ID:3nk1s42x) before initializing another..."
      ],
      "text/plain": [
       "<IPython.core.display.HTML object>"
      ]
     },
     "metadata": {},
     "output_type": "display_data"
    },
    {
     "data": {
      "text/html": [
       "Waiting for W&B process to finish... <strong style=\"color:green\">(success).</strong>"
      ],
      "text/plain": [
       "<IPython.core.display.HTML object>"
      ]
     },
     "metadata": {},
     "output_type": "display_data"
    },
    {
     "data": {
      "text/html": [
       "<style>\n",
       "    table.wandb td:nth-child(1) { padding: 0 10px; text-align: left ; width: auto;} td:nth-child(2) {text-align: left ; width: 100%}\n",
       "    .wandb-row { display: flex; flex-direction: row; flex-wrap: wrap; justify-content: flex-start; width: 100% }\n",
       "    .wandb-col { display: flex; flex-direction: column; flex-basis: 100%; flex: 1; padding: 10px; }\n",
       "    </style>\n",
       "<div class=\"wandb-row\"><div class=\"wandb-col\"><h3>Run summary:</h3><br/><table class=\"wandb\"><tr><td>avg_consistency_by_edge_out</td><td>0.9418</td></tr><tr><td>avg_entropy</td><td>0.15098</td></tr><tr><td>both_consistency</td><td>0.92308</td></tr><tr><td>consistency</td><td>0.93333</td></tr><tr><td>consistent_subjects</td><td>0.66667</td></tr><tr><td>knowledgable_consistency</td><td>0.9</td></tr><tr><td>lexical_consistency</td><td>1.0</td></tr><tr><td>no_change_consistency</td><td>-1</td></tr><tr><td>std_entropy</td><td>0.23062</td></tr><tr><td>successful_patterns</td><td>1.0</td></tr><tr><td>successful_subjects</td><td>0.66667</td></tr><tr><td>syntactic_consistency</td><td>-1</td></tr><tr><td>total</td><td>270</td></tr><tr><td>total_both</td><td>78</td></tr><tr><td>total_lex</td><td>18</td></tr><tr><td>total_no</td><td>0</td></tr><tr><td>total_syn</td><td>0</td></tr><tr><td>unknowledgable_consistency</td><td>1.0</td></tr></table><br/></div></div>"
      ],
      "text/plain": [
       "<IPython.core.display.HTML object>"
      ]
     },
     "metadata": {},
     "output_type": "display_data"
    },
    {
     "data": {
      "text/html": [
       "Synced <strong style=\"color:#cdcd00\">P159_consistency_probe_atlas-base_duplicates</strong>: <a href=\"https://wandb.ai/lovhagstrom/consistency/runs/3nk1s42x\" target=\"_blank\">https://wandb.ai/lovhagstrom/consistency/runs/3nk1s42x</a><br/>Synced 5 W&B file(s), 0 media file(s), 0 artifact file(s) and 0 other file(s)"
      ],
      "text/plain": [
       "<IPython.core.display.HTML object>"
      ]
     },
     "metadata": {},
     "output_type": "display_data"
    },
    {
     "data": {
      "text/html": [
       "Find logs at: <code>./wandb/run-20230414_165241-3nk1s42x/logs</code>"
      ],
      "text/plain": [
       "<IPython.core.display.HTML object>"
      ]
     },
     "metadata": {},
     "output_type": "display_data"
    },
    {
     "data": {
      "text/html": [
       "Successfully finished last run (ID:3nk1s42x). Initializing new run:<br/>"
      ],
      "text/plain": [
       "<IPython.core.display.HTML object>"
      ]
     },
     "metadata": {},
     "output_type": "display_data"
    },
    {
     "data": {
      "text/html": [
       "wandb version 0.14.2 is available!  To upgrade, please run:\n",
       " $ pip install wandb --upgrade"
      ],
      "text/plain": [
       "<IPython.core.display.HTML object>"
      ]
     },
     "metadata": {},
     "output_type": "display_data"
    },
    {
     "data": {
      "text/html": [
       "Tracking run with wandb version 0.13.3"
      ],
      "text/plain": [
       "<IPython.core.display.HTML object>"
      ]
     },
     "metadata": {},
     "output_type": "display_data"
    },
    {
     "data": {
      "text/html": [
       "Run data is saved locally in <code>/cephyr/users/lovhag/Alvis/projects/pararel/wandb/run-20230414_165247-1n7tv0l5</code>"
      ],
      "text/plain": [
       "<IPython.core.display.HTML object>"
      ]
     },
     "metadata": {},
     "output_type": "display_data"
    },
    {
     "data": {
      "text/html": [
       "Syncing run <strong><a href=\"https://wandb.ai/lovhagstrom/consistency/runs/1n7tv0l5\" target=\"_blank\">P140_consistency_probe_atlas-base_duplicates</a></strong> to <a href=\"https://wandb.ai/lovhagstrom/consistency\" target=\"_blank\">Weights & Biases</a> (<a href=\"https://wandb.me/run\" target=\"_blank\">docs</a>)<br/>"
      ],
      "text/plain": [
       "<IPython.core.display.HTML object>"
      ]
     },
     "metadata": {},
     "output_type": "display_data"
    },
    {
     "name": "stdout",
     "output_type": "stream",
     "text": [
      "overall 14 60 0.23333333333333334\n",
      "both 8 20 0.4\n"
     ]
    },
    {
     "data": {
      "text/html": [
       "Finishing last run (ID:1n7tv0l5) before initializing another..."
      ],
      "text/plain": [
       "<IPython.core.display.HTML object>"
      ]
     },
     "metadata": {},
     "output_type": "display_data"
    },
    {
     "data": {
      "text/html": [
       "Waiting for W&B process to finish... <strong style=\"color:green\">(success).</strong>"
      ],
      "text/plain": [
       "<IPython.core.display.HTML object>"
      ]
     },
     "metadata": {},
     "output_type": "display_data"
    },
    {
     "data": {
      "text/html": [
       "<style>\n",
       "    table.wandb td:nth-child(1) { padding: 0 10px; text-align: left ; width: auto;} td:nth-child(2) {text-align: left ; width: 100%}\n",
       "    .wandb-row { display: flex; flex-direction: row; flex-wrap: wrap; justify-content: flex-start; width: 100% }\n",
       "    .wandb-col { display: flex; flex-direction: column; flex-basis: 100%; flex: 1; padding: 10px; }\n",
       "    </style>\n",
       "<div class=\"wandb-row\"><div class=\"wandb-col\"><h3>Run summary:</h3><br/><table class=\"wandb\"><tr><td>avg_consistency_by_edge_out</td><td>0.25714</td></tr><tr><td>avg_entropy</td><td>0.50506</td></tr><tr><td>both_consistency</td><td>0.4</td></tr><tr><td>consistency</td><td>0.23333</td></tr><tr><td>consistent_subjects</td><td>0.0</td></tr><tr><td>knowledgable_consistency</td><td>0.16667</td></tr><tr><td>lexical_consistency</td><td>-1</td></tr><tr><td>no_change_consistency</td><td>-1</td></tr><tr><td>std_entropy</td><td>0.45685</td></tr><tr><td>successful_patterns</td><td>0.5</td></tr><tr><td>successful_subjects</td><td>0.6</td></tr><tr><td>syntactic_consistency</td><td>-1</td></tr><tr><td>total</td><td>60</td></tr><tr><td>total_both</td><td>20</td></tr><tr><td>total_lex</td><td>0</td></tr><tr><td>total_no</td><td>0</td></tr><tr><td>total_syn</td><td>0</td></tr><tr><td>unknowledgable_consistency</td><td>0.33333</td></tr></table><br/></div></div>"
      ],
      "text/plain": [
       "<IPython.core.display.HTML object>"
      ]
     },
     "metadata": {},
     "output_type": "display_data"
    },
    {
     "data": {
      "text/html": [
       "Synced <strong style=\"color:#cdcd00\">P140_consistency_probe_atlas-base_duplicates</strong>: <a href=\"https://wandb.ai/lovhagstrom/consistency/runs/1n7tv0l5\" target=\"_blank\">https://wandb.ai/lovhagstrom/consistency/runs/1n7tv0l5</a><br/>Synced 5 W&B file(s), 0 media file(s), 0 artifact file(s) and 0 other file(s)"
      ],
      "text/plain": [
       "<IPython.core.display.HTML object>"
      ]
     },
     "metadata": {},
     "output_type": "display_data"
    },
    {
     "data": {
      "text/html": [
       "Find logs at: <code>./wandb/run-20230414_165247-1n7tv0l5/logs</code>"
      ],
      "text/plain": [
       "<IPython.core.display.HTML object>"
      ]
     },
     "metadata": {},
     "output_type": "display_data"
    },
    {
     "data": {
      "text/html": [
       "Successfully finished last run (ID:1n7tv0l5). Initializing new run:<br/>"
      ],
      "text/plain": [
       "<IPython.core.display.HTML object>"
      ]
     },
     "metadata": {},
     "output_type": "display_data"
    },
    {
     "data": {
      "text/html": [
       "wandb version 0.14.2 is available!  To upgrade, please run:\n",
       " $ pip install wandb --upgrade"
      ],
      "text/plain": [
       "<IPython.core.display.HTML object>"
      ]
     },
     "metadata": {},
     "output_type": "display_data"
    },
    {
     "data": {
      "text/html": [
       "Tracking run with wandb version 0.13.3"
      ],
      "text/plain": [
       "<IPython.core.display.HTML object>"
      ]
     },
     "metadata": {},
     "output_type": "display_data"
    },
    {
     "data": {
      "text/html": [
       "Run data is saved locally in <code>/cephyr/users/lovhag/Alvis/projects/pararel/wandb/run-20230414_165255-3fae6lst</code>"
      ],
      "text/plain": [
       "<IPython.core.display.HTML object>"
      ]
     },
     "metadata": {},
     "output_type": "display_data"
    },
    {
     "data": {
      "text/html": [
       "Syncing run <strong><a href=\"https://wandb.ai/lovhagstrom/consistency/runs/3fae6lst\" target=\"_blank\">P136_consistency_probe_atlas-base_duplicates</a></strong> to <a href=\"https://wandb.ai/lovhagstrom/consistency\" target=\"_blank\">Weights & Biases</a> (<a href=\"https://wandb.me/run\" target=\"_blank\">docs</a>)<br/>"
      ],
      "text/plain": [
       "<IPython.core.display.HTML object>"
      ]
     },
     "metadata": {},
     "output_type": "display_data"
    },
    {
     "name": "stdout",
     "output_type": "stream",
     "text": [
      "overall 12 30 0.4\n",
      "both 12 30 0.4\n"
     ]
    },
    {
     "data": {
      "text/html": [
       "Finishing last run (ID:3fae6lst) before initializing another..."
      ],
      "text/plain": [
       "<IPython.core.display.HTML object>"
      ]
     },
     "metadata": {},
     "output_type": "display_data"
    },
    {
     "data": {
      "text/html": [
       "Waiting for W&B process to finish... <strong style=\"color:green\">(success).</strong>"
      ],
      "text/plain": [
       "<IPython.core.display.HTML object>"
      ]
     },
     "metadata": {},
     "output_type": "display_data"
    },
    {
     "data": {
      "text/html": [
       "<style>\n",
       "    table.wandb td:nth-child(1) { padding: 0 10px; text-align: left ; width: auto;} td:nth-child(2) {text-align: left ; width: 100%}\n",
       "    .wandb-row { display: flex; flex-direction: row; flex-wrap: wrap; justify-content: flex-start; width: 100% }\n",
       "    .wandb-col { display: flex; flex-direction: column; flex-basis: 100%; flex: 1; padding: 10px; }\n",
       "    </style>\n",
       "<div class=\"wandb-row\"><div class=\"wandb-col\"><h3>Run summary:</h3><br/><table class=\"wandb\"><tr><td>avg_consistency_by_edge_out</td><td>0.6</td></tr><tr><td>avg_entropy</td><td>0.6473</td></tr><tr><td>both_consistency</td><td>0.4</td></tr><tr><td>consistency</td><td>0.4</td></tr><tr><td>consistent_subjects</td><td>0.0</td></tr><tr><td>knowledgable_consistency</td><td>0</td></tr><tr><td>lexical_consistency</td><td>-1</td></tr><tr><td>no_change_consistency</td><td>-1</td></tr><tr><td>std_entropy</td><td>0.45771</td></tr><tr><td>successful_patterns</td><td>0.0</td></tr><tr><td>successful_subjects</td><td>0.0</td></tr><tr><td>syntactic_consistency</td><td>-1</td></tr><tr><td>total</td><td>30</td></tr><tr><td>total_both</td><td>30</td></tr><tr><td>total_lex</td><td>0</td></tr><tr><td>total_no</td><td>0</td></tr><tr><td>total_syn</td><td>0</td></tr><tr><td>unknowledgable_consistency</td><td>0.4</td></tr></table><br/></div></div>"
      ],
      "text/plain": [
       "<IPython.core.display.HTML object>"
      ]
     },
     "metadata": {},
     "output_type": "display_data"
    },
    {
     "data": {
      "text/html": [
       "Synced <strong style=\"color:#cdcd00\">P136_consistency_probe_atlas-base_duplicates</strong>: <a href=\"https://wandb.ai/lovhagstrom/consistency/runs/3fae6lst\" target=\"_blank\">https://wandb.ai/lovhagstrom/consistency/runs/3fae6lst</a><br/>Synced 5 W&B file(s), 0 media file(s), 0 artifact file(s) and 0 other file(s)"
      ],
      "text/plain": [
       "<IPython.core.display.HTML object>"
      ]
     },
     "metadata": {},
     "output_type": "display_data"
    },
    {
     "data": {
      "text/html": [
       "Find logs at: <code>./wandb/run-20230414_165255-3fae6lst/logs</code>"
      ],
      "text/plain": [
       "<IPython.core.display.HTML object>"
      ]
     },
     "metadata": {},
     "output_type": "display_data"
    },
    {
     "data": {
      "text/html": [
       "Successfully finished last run (ID:3fae6lst). Initializing new run:<br/>"
      ],
      "text/plain": [
       "<IPython.core.display.HTML object>"
      ]
     },
     "metadata": {},
     "output_type": "display_data"
    },
    {
     "data": {
      "text/html": [
       "wandb version 0.14.2 is available!  To upgrade, please run:\n",
       " $ pip install wandb --upgrade"
      ],
      "text/plain": [
       "<IPython.core.display.HTML object>"
      ]
     },
     "metadata": {},
     "output_type": "display_data"
    },
    {
     "data": {
      "text/html": [
       "Tracking run with wandb version 0.13.3"
      ],
      "text/plain": [
       "<IPython.core.display.HTML object>"
      ]
     },
     "metadata": {},
     "output_type": "display_data"
    },
    {
     "data": {
      "text/html": [
       "Run data is saved locally in <code>/cephyr/users/lovhag/Alvis/projects/pararel/wandb/run-20230414_165303-9xe3h6ta</code>"
      ],
      "text/plain": [
       "<IPython.core.display.HTML object>"
      ]
     },
     "metadata": {},
     "output_type": "display_data"
    },
    {
     "data": {
      "text/html": [
       "Syncing run <strong><a href=\"https://wandb.ai/lovhagstrom/consistency/runs/9xe3h6ta\" target=\"_blank\">P495_consistency_probe_atlas-base_duplicates</a></strong> to <a href=\"https://wandb.ai/lovhagstrom/consistency\" target=\"_blank\">Weights & Biases</a> (<a href=\"https://wandb.me/run\" target=\"_blank\">docs</a>)<br/>"
      ],
      "text/plain": [
       "<IPython.core.display.HTML object>"
      ]
     },
     "metadata": {},
     "output_type": "display_data"
    },
    {
     "name": "stdout",
     "output_type": "stream",
     "text": [
      "overall 544 544 1.0\n",
      "lexical 88 88 1.0\n",
      "both 216 216 1.0\n"
     ]
    },
    {
     "data": {
      "text/html": [
       "Finishing last run (ID:9xe3h6ta) before initializing another..."
      ],
      "text/plain": [
       "<IPython.core.display.HTML object>"
      ]
     },
     "metadata": {},
     "output_type": "display_data"
    },
    {
     "data": {
      "text/html": [
       "Waiting for W&B process to finish... <strong style=\"color:green\">(success).</strong>"
      ],
      "text/plain": [
       "<IPython.core.display.HTML object>"
      ]
     },
     "metadata": {},
     "output_type": "display_data"
    },
    {
     "data": {
      "text/html": [
       "<style>\n",
       "    table.wandb td:nth-child(1) { padding: 0 10px; text-align: left ; width: auto;} td:nth-child(2) {text-align: left ; width: 100%}\n",
       "    .wandb-row { display: flex; flex-direction: row; flex-wrap: wrap; justify-content: flex-start; width: 100% }\n",
       "    .wandb-col { display: flex; flex-direction: column; flex-basis: 100%; flex: 1; padding: 10px; }\n",
       "    </style>\n",
       "<div class=\"wandb-row\"><div class=\"wandb-col\"><h3>Run summary:</h3><br/><table class=\"wandb\"><tr><td>avg_consistency_by_edge_out</td><td>1.0</td></tr><tr><td>avg_entropy</td><td>0.0</td></tr><tr><td>both_consistency</td><td>1.0</td></tr><tr><td>consistency</td><td>1.0</td></tr><tr><td>consistent_subjects</td><td>1.0</td></tr><tr><td>knowledgable_consistency</td><td>1.0</td></tr><tr><td>lexical_consistency</td><td>1.0</td></tr><tr><td>no_change_consistency</td><td>-1</td></tr><tr><td>std_entropy</td><td>0.0</td></tr><tr><td>successful_patterns</td><td>0.47059</td></tr><tr><td>successful_subjects</td><td>0.5</td></tr><tr><td>syntactic_consistency</td><td>-1</td></tr><tr><td>total</td><td>544</td></tr><tr><td>total_both</td><td>216</td></tr><tr><td>total_lex</td><td>88</td></tr><tr><td>total_no</td><td>0</td></tr><tr><td>total_syn</td><td>0</td></tr><tr><td>unknowledgable_consistency</td><td>1.0</td></tr></table><br/></div></div>"
      ],
      "text/plain": [
       "<IPython.core.display.HTML object>"
      ]
     },
     "metadata": {},
     "output_type": "display_data"
    },
    {
     "data": {
      "text/html": [
       "Synced <strong style=\"color:#cdcd00\">P495_consistency_probe_atlas-base_duplicates</strong>: <a href=\"https://wandb.ai/lovhagstrom/consistency/runs/9xe3h6ta\" target=\"_blank\">https://wandb.ai/lovhagstrom/consistency/runs/9xe3h6ta</a><br/>Synced 5 W&B file(s), 0 media file(s), 0 artifact file(s) and 0 other file(s)"
      ],
      "text/plain": [
       "<IPython.core.display.HTML object>"
      ]
     },
     "metadata": {},
     "output_type": "display_data"
    },
    {
     "data": {
      "text/html": [
       "Find logs at: <code>./wandb/run-20230414_165303-9xe3h6ta/logs</code>"
      ],
      "text/plain": [
       "<IPython.core.display.HTML object>"
      ]
     },
     "metadata": {},
     "output_type": "display_data"
    },
    {
     "data": {
      "text/html": [
       "Successfully finished last run (ID:9xe3h6ta). Initializing new run:<br/>"
      ],
      "text/plain": [
       "<IPython.core.display.HTML object>"
      ]
     },
     "metadata": {},
     "output_type": "display_data"
    },
    {
     "data": {
      "text/html": [
       "wandb version 0.14.2 is available!  To upgrade, please run:\n",
       " $ pip install wandb --upgrade"
      ],
      "text/plain": [
       "<IPython.core.display.HTML object>"
      ]
     },
     "metadata": {},
     "output_type": "display_data"
    },
    {
     "data": {
      "text/html": [
       "Tracking run with wandb version 0.13.3"
      ],
      "text/plain": [
       "<IPython.core.display.HTML object>"
      ]
     },
     "metadata": {},
     "output_type": "display_data"
    },
    {
     "data": {
      "text/html": [
       "Run data is saved locally in <code>/cephyr/users/lovhag/Alvis/projects/pararel/wandb/run-20230414_165311-12719etq</code>"
      ],
      "text/plain": [
       "<IPython.core.display.HTML object>"
      ]
     },
     "metadata": {},
     "output_type": "display_data"
    },
    {
     "data": {
      "text/html": [
       "Syncing run <strong><a href=\"https://wandb.ai/lovhagstrom/consistency/runs/12719etq\" target=\"_blank\">P17_consistency_probe_atlas-base_duplicates</a></strong> to <a href=\"https://wandb.ai/lovhagstrom/consistency\" target=\"_blank\">Weights & Biases</a> (<a href=\"https://wandb.me/run\" target=\"_blank\">docs</a>)<br/>"
      ],
      "text/plain": [
       "<IPython.core.display.HTML object>"
      ]
     },
     "metadata": {},
     "output_type": "display_data"
    },
    {
     "name": "stdout",
     "output_type": "stream",
     "text": [
      "overall 8 12 0.6666666666666666\n",
      "both 2 4 0.5\n"
     ]
    },
    {
     "data": {
      "text/html": [
       "Finishing last run (ID:12719etq) before initializing another..."
      ],
      "text/plain": [
       "<IPython.core.display.HTML object>"
      ]
     },
     "metadata": {},
     "output_type": "display_data"
    },
    {
     "data": {
      "text/html": [
       "Waiting for W&B process to finish... <strong style=\"color:green\">(success).</strong>"
      ],
      "text/plain": [
       "<IPython.core.display.HTML object>"
      ]
     },
     "metadata": {},
     "output_type": "display_data"
    },
    {
     "data": {
      "text/html": [
       "<style>\n",
       "    table.wandb td:nth-child(1) { padding: 0 10px; text-align: left ; width: auto;} td:nth-child(2) {text-align: left ; width: 100%}\n",
       "    .wandb-row { display: flex; flex-direction: row; flex-wrap: wrap; justify-content: flex-start; width: 100% }\n",
       "    .wandb-col { display: flex; flex-direction: column; flex-basis: 100%; flex: 1; padding: 10px; }\n",
       "    </style>\n",
       "<div class=\"wandb-row\"><div class=\"wandb-col\"><h3>Run summary:</h3><br/><table class=\"wandb\"><tr><td>avg_consistency_by_edge_out</td><td>0.6875</td></tr><tr><td>avg_entropy</td><td>0.33333</td></tr><tr><td>both_consistency</td><td>0.5</td></tr><tr><td>consistency</td><td>0.66667</td></tr><tr><td>consistent_subjects</td><td>0.5</td></tr><tr><td>knowledgable_consistency</td><td>1.0</td></tr><tr><td>lexical_consistency</td><td>-1</td></tr><tr><td>no_change_consistency</td><td>-1</td></tr><tr><td>std_entropy</td><td>0.4714</td></tr><tr><td>successful_patterns</td><td>1.0</td></tr><tr><td>successful_subjects</td><td>0.5</td></tr><tr><td>syntactic_consistency</td><td>-1</td></tr><tr><td>total</td><td>12</td></tr><tr><td>total_both</td><td>4</td></tr><tr><td>total_lex</td><td>0</td></tr><tr><td>total_no</td><td>0</td></tr><tr><td>total_syn</td><td>0</td></tr><tr><td>unknowledgable_consistency</td><td>0.33333</td></tr></table><br/></div></div>"
      ],
      "text/plain": [
       "<IPython.core.display.HTML object>"
      ]
     },
     "metadata": {},
     "output_type": "display_data"
    },
    {
     "data": {
      "text/html": [
       "Synced <strong style=\"color:#cdcd00\">P17_consistency_probe_atlas-base_duplicates</strong>: <a href=\"https://wandb.ai/lovhagstrom/consistency/runs/12719etq\" target=\"_blank\">https://wandb.ai/lovhagstrom/consistency/runs/12719etq</a><br/>Synced 5 W&B file(s), 0 media file(s), 0 artifact file(s) and 0 other file(s)"
      ],
      "text/plain": [
       "<IPython.core.display.HTML object>"
      ]
     },
     "metadata": {},
     "output_type": "display_data"
    },
    {
     "data": {
      "text/html": [
       "Find logs at: <code>./wandb/run-20230414_165311-12719etq/logs</code>"
      ],
      "text/plain": [
       "<IPython.core.display.HTML object>"
      ]
     },
     "metadata": {},
     "output_type": "display_data"
    },
    {
     "data": {
      "text/html": [
       "Successfully finished last run (ID:12719etq). Initializing new run:<br/>"
      ],
      "text/plain": [
       "<IPython.core.display.HTML object>"
      ]
     },
     "metadata": {},
     "output_type": "display_data"
    },
    {
     "data": {
      "text/html": [
       "wandb version 0.14.2 is available!  To upgrade, please run:\n",
       " $ pip install wandb --upgrade"
      ],
      "text/plain": [
       "<IPython.core.display.HTML object>"
      ]
     },
     "metadata": {},
     "output_type": "display_data"
    },
    {
     "data": {
      "text/html": [
       "Tracking run with wandb version 0.13.3"
      ],
      "text/plain": [
       "<IPython.core.display.HTML object>"
      ]
     },
     "metadata": {},
     "output_type": "display_data"
    },
    {
     "data": {
      "text/html": [
       "Run data is saved locally in <code>/cephyr/users/lovhag/Alvis/projects/pararel/wandb/run-20230414_165318-2nbvqvqf</code>"
      ],
      "text/plain": [
       "<IPython.core.display.HTML object>"
      ]
     },
     "metadata": {},
     "output_type": "display_data"
    },
    {
     "data": {
      "text/html": [
       "Syncing run <strong><a href=\"https://wandb.ai/lovhagstrom/consistency/runs/2nbvqvqf\" target=\"_blank\">P361_consistency_probe_atlas-base_duplicates</a></strong> to <a href=\"https://wandb.ai/lovhagstrom/consistency\" target=\"_blank\">Weights & Biases</a> (<a href=\"https://wandb.me/run\" target=\"_blank\">docs</a>)<br/>"
      ],
      "text/plain": [
       "<IPython.core.display.HTML object>"
      ]
     },
     "metadata": {},
     "output_type": "display_data"
    },
    {
     "name": "stdout",
     "output_type": "stream",
     "text": [
      "overall 48 60 0.8\n"
     ]
    },
    {
     "data": {
      "text/html": [
       "Finishing last run (ID:2nbvqvqf) before initializing another..."
      ],
      "text/plain": [
       "<IPython.core.display.HTML object>"
      ]
     },
     "metadata": {},
     "output_type": "display_data"
    },
    {
     "data": {
      "text/html": [
       "Waiting for W&B process to finish... <strong style=\"color:green\">(success).</strong>"
      ],
      "text/plain": [
       "<IPython.core.display.HTML object>"
      ]
     },
     "metadata": {},
     "output_type": "display_data"
    },
    {
     "data": {
      "text/html": [
       "<style>\n",
       "    table.wandb td:nth-child(1) { padding: 0 10px; text-align: left ; width: auto;} td:nth-child(2) {text-align: left ; width: 100%}\n",
       "    .wandb-row { display: flex; flex-direction: row; flex-wrap: wrap; justify-content: flex-start; width: 100% }\n",
       "    .wandb-col { display: flex; flex-direction: column; flex-basis: 100%; flex: 1; padding: 10px; }\n",
       "    </style>\n",
       "<div class=\"wandb-row\"><div class=\"wandb-col\"><h3>Run summary:</h3><br/><table class=\"wandb\"><tr><td>avg_consistency_by_edge_out</td><td>0.8</td></tr><tr><td>avg_entropy</td><td>0.0</td></tr><tr><td>both_consistency</td><td>-1</td></tr><tr><td>consistency</td><td>0.8</td></tr><tr><td>consistent_subjects</td><td>0.8</td></tr><tr><td>knowledgable_consistency</td><td>0.6</td></tr><tr><td>lexical_consistency</td><td>-1</td></tr><tr><td>no_change_consistency</td><td>-1</td></tr><tr><td>std_entropy</td><td>0.0</td></tr><tr><td>successful_patterns</td><td>1.0</td></tr><tr><td>successful_subjects</td><td>0.5</td></tr><tr><td>syntactic_consistency</td><td>-1</td></tr><tr><td>total</td><td>60</td></tr><tr><td>total_both</td><td>0</td></tr><tr><td>total_lex</td><td>0</td></tr><tr><td>total_no</td><td>0</td></tr><tr><td>total_syn</td><td>0</td></tr><tr><td>unknowledgable_consistency</td><td>1.0</td></tr></table><br/></div></div>"
      ],
      "text/plain": [
       "<IPython.core.display.HTML object>"
      ]
     },
     "metadata": {},
     "output_type": "display_data"
    },
    {
     "data": {
      "text/html": [
       "Synced <strong style=\"color:#cdcd00\">P361_consistency_probe_atlas-base_duplicates</strong>: <a href=\"https://wandb.ai/lovhagstrom/consistency/runs/2nbvqvqf\" target=\"_blank\">https://wandb.ai/lovhagstrom/consistency/runs/2nbvqvqf</a><br/>Synced 5 W&B file(s), 0 media file(s), 0 artifact file(s) and 0 other file(s)"
      ],
      "text/plain": [
       "<IPython.core.display.HTML object>"
      ]
     },
     "metadata": {},
     "output_type": "display_data"
    },
    {
     "data": {
      "text/html": [
       "Find logs at: <code>./wandb/run-20230414_165318-2nbvqvqf/logs</code>"
      ],
      "text/plain": [
       "<IPython.core.display.HTML object>"
      ]
     },
     "metadata": {},
     "output_type": "display_data"
    },
    {
     "data": {
      "text/html": [
       "Successfully finished last run (ID:2nbvqvqf). Initializing new run:<br/>"
      ],
      "text/plain": [
       "<IPython.core.display.HTML object>"
      ]
     },
     "metadata": {},
     "output_type": "display_data"
    },
    {
     "data": {
      "text/html": [
       "wandb version 0.14.2 is available!  To upgrade, please run:\n",
       " $ pip install wandb --upgrade"
      ],
      "text/plain": [
       "<IPython.core.display.HTML object>"
      ]
     },
     "metadata": {},
     "output_type": "display_data"
    },
    {
     "data": {
      "text/html": [
       "Tracking run with wandb version 0.13.3"
      ],
      "text/plain": [
       "<IPython.core.display.HTML object>"
      ]
     },
     "metadata": {},
     "output_type": "display_data"
    },
    {
     "data": {
      "text/html": [
       "Run data is saved locally in <code>/cephyr/users/lovhag/Alvis/projects/pararel/wandb/run-20230414_165325-3c7vdfny</code>"
      ],
      "text/plain": [
       "<IPython.core.display.HTML object>"
      ]
     },
     "metadata": {},
     "output_type": "display_data"
    },
    {
     "data": {
      "text/html": [
       "Syncing run <strong><a href=\"https://wandb.ai/lovhagstrom/consistency/runs/3c7vdfny\" target=\"_blank\">P36_consistency_probe_atlas-base_duplicates</a></strong> to <a href=\"https://wandb.ai/lovhagstrom/consistency\" target=\"_blank\">Weights & Biases</a> (<a href=\"https://wandb.me/run\" target=\"_blank\">docs</a>)<br/>"
      ],
      "text/plain": [
       "<IPython.core.display.HTML object>"
      ]
     },
     "metadata": {},
     "output_type": "display_data"
    },
    {
     "name": "stdout",
     "output_type": "stream",
     "text": [
      "overall 5638 6188 0.9111182934712346\n",
      "syntactic 118 136 0.8676470588235294\n",
      "lexical 466 476 0.9789915966386554\n",
      "both 882 952 0.9264705882352942\n"
     ]
    },
    {
     "data": {
      "text/html": [
       "Finishing last run (ID:3c7vdfny) before initializing another..."
      ],
      "text/plain": [
       "<IPython.core.display.HTML object>"
      ]
     },
     "metadata": {},
     "output_type": "display_data"
    },
    {
     "data": {
      "text/html": [
       "Waiting for W&B process to finish... <strong style=\"color:green\">(success).</strong>"
      ],
      "text/plain": [
       "<IPython.core.display.HTML object>"
      ]
     },
     "metadata": {},
     "output_type": "display_data"
    },
    {
     "data": {
      "text/html": [
       "<style>\n",
       "    table.wandb td:nth-child(1) { padding: 0 10px; text-align: left ; width: auto;} td:nth-child(2) {text-align: left ; width: 100%}\n",
       "    .wandb-row { display: flex; flex-direction: row; flex-wrap: wrap; justify-content: flex-start; width: 100% }\n",
       "    .wandb-col { display: flex; flex-direction: column; flex-basis: 100%; flex: 1; padding: 10px; }\n",
       "    </style>\n",
       "<div class=\"wandb-row\"><div class=\"wandb-col\"><h3>Run summary:</h3><br/><table class=\"wandb\"><tr><td>avg_consistency_by_edge_out</td><td>0.91144</td></tr><tr><td>avg_entropy</td><td>0.1776</td></tr><tr><td>both_consistency</td><td>0.92647</td></tr><tr><td>consistency</td><td>0.91112</td></tr><tr><td>consistent_subjects</td><td>0.76471</td></tr><tr><td>knowledgable_consistency</td><td>0.91112</td></tr><tr><td>lexical_consistency</td><td>0.97899</td></tr><tr><td>no_change_consistency</td><td>-1</td></tr><tr><td>std_entropy</td><td>0.3375</td></tr><tr><td>successful_patterns</td><td>1.0</td></tr><tr><td>successful_subjects</td><td>1.0</td></tr><tr><td>syntactic_consistency</td><td>0.86765</td></tr><tr><td>total</td><td>6188</td></tr><tr><td>total_both</td><td>952</td></tr><tr><td>total_lex</td><td>476</td></tr><tr><td>total_no</td><td>0</td></tr><tr><td>total_syn</td><td>136</td></tr><tr><td>unknowledgable_consistency</td><td>0</td></tr></table><br/></div></div>"
      ],
      "text/plain": [
       "<IPython.core.display.HTML object>"
      ]
     },
     "metadata": {},
     "output_type": "display_data"
    },
    {
     "data": {
      "text/html": [
       "Synced <strong style=\"color:#cdcd00\">P36_consistency_probe_atlas-base_duplicates</strong>: <a href=\"https://wandb.ai/lovhagstrom/consistency/runs/3c7vdfny\" target=\"_blank\">https://wandb.ai/lovhagstrom/consistency/runs/3c7vdfny</a><br/>Synced 5 W&B file(s), 0 media file(s), 0 artifact file(s) and 0 other file(s)"
      ],
      "text/plain": [
       "<IPython.core.display.HTML object>"
      ]
     },
     "metadata": {},
     "output_type": "display_data"
    },
    {
     "data": {
      "text/html": [
       "Find logs at: <code>./wandb/run-20230414_165325-3c7vdfny/logs</code>"
      ],
      "text/plain": [
       "<IPython.core.display.HTML object>"
      ]
     },
     "metadata": {},
     "output_type": "display_data"
    },
    {
     "data": {
      "text/html": [
       "Successfully finished last run (ID:3c7vdfny). Initializing new run:<br/>"
      ],
      "text/plain": [
       "<IPython.core.display.HTML object>"
      ]
     },
     "metadata": {},
     "output_type": "display_data"
    },
    {
     "data": {
      "text/html": [
       "wandb version 0.14.2 is available!  To upgrade, please run:\n",
       " $ pip install wandb --upgrade"
      ],
      "text/plain": [
       "<IPython.core.display.HTML object>"
      ]
     },
     "metadata": {},
     "output_type": "display_data"
    },
    {
     "data": {
      "text/html": [
       "Tracking run with wandb version 0.13.3"
      ],
      "text/plain": [
       "<IPython.core.display.HTML object>"
      ]
     },
     "metadata": {},
     "output_type": "display_data"
    },
    {
     "data": {
      "text/html": [
       "Run data is saved locally in <code>/cephyr/users/lovhag/Alvis/projects/pararel/wandb/run-20230414_165332-2d9wgavm</code>"
      ],
      "text/plain": [
       "<IPython.core.display.HTML object>"
      ]
     },
     "metadata": {},
     "output_type": "display_data"
    },
    {
     "data": {
      "text/html": [
       "Syncing run <strong><a href=\"https://wandb.ai/lovhagstrom/consistency/runs/2d9wgavm\" target=\"_blank\">P264_consistency_probe_atlas-base_duplicates</a></strong> to <a href=\"https://wandb.ai/lovhagstrom/consistency\" target=\"_blank\">Weights & Biases</a> (<a href=\"https://wandb.me/run\" target=\"_blank\">docs</a>)<br/>"
      ],
      "text/plain": [
       "<IPython.core.display.HTML object>"
      ]
     },
     "metadata": {},
     "output_type": "display_data"
    },
    {
     "name": "stdout",
     "output_type": "stream",
     "text": [
      "overall 116 272 0.4264705882352941\n",
      "lexical 14 20 0.7\n",
      "both 60 136 0.4411764705882353\n"
     ]
    },
    {
     "data": {
      "text/html": [
       "Finishing last run (ID:2d9wgavm) before initializing another..."
      ],
      "text/plain": [
       "<IPython.core.display.HTML object>"
      ]
     },
     "metadata": {},
     "output_type": "display_data"
    },
    {
     "data": {
      "text/html": [
       "Waiting for W&B process to finish... <strong style=\"color:green\">(success).</strong>"
      ],
      "text/plain": [
       "<IPython.core.display.HTML object>"
      ]
     },
     "metadata": {},
     "output_type": "display_data"
    },
    {
     "data": {
      "text/html": [
       "<style>\n",
       "    table.wandb td:nth-child(1) { padding: 0 10px; text-align: left ; width: auto;} td:nth-child(2) {text-align: left ; width: 100%}\n",
       "    .wandb-row { display: flex; flex-direction: row; flex-wrap: wrap; justify-content: flex-start; width: 100% }\n",
       "    .wandb-col { display: flex; flex-direction: column; flex-basis: 100%; flex: 1; padding: 10px; }\n",
       "    </style>\n",
       "<div class=\"wandb-row\"><div class=\"wandb-col\"><h3>Run summary:</h3><br/><table class=\"wandb\"><tr><td>avg_consistency_by_edge_out</td><td>0.59591</td></tr><tr><td>avg_entropy</td><td>0.73662</td></tr><tr><td>both_consistency</td><td>0.44118</td></tr><tr><td>consistency</td><td>0.42647</td></tr><tr><td>consistent_subjects</td><td>0.0</td></tr><tr><td>knowledgable_consistency</td><td>0.42647</td></tr><tr><td>lexical_consistency</td><td>0.7</td></tr><tr><td>no_change_consistency</td><td>-1</td></tr><tr><td>std_entropy</td><td>0.29492</td></tr><tr><td>successful_patterns</td><td>0.29412</td></tr><tr><td>successful_subjects</td><td>1.0</td></tr><tr><td>syntactic_consistency</td><td>-1</td></tr><tr><td>total</td><td>272</td></tr><tr><td>total_both</td><td>136</td></tr><tr><td>total_lex</td><td>20</td></tr><tr><td>total_no</td><td>0</td></tr><tr><td>total_syn</td><td>0</td></tr><tr><td>unknowledgable_consistency</td><td>0</td></tr></table><br/></div></div>"
      ],
      "text/plain": [
       "<IPython.core.display.HTML object>"
      ]
     },
     "metadata": {},
     "output_type": "display_data"
    },
    {
     "data": {
      "text/html": [
       "Synced <strong style=\"color:#cdcd00\">P264_consistency_probe_atlas-base_duplicates</strong>: <a href=\"https://wandb.ai/lovhagstrom/consistency/runs/2d9wgavm\" target=\"_blank\">https://wandb.ai/lovhagstrom/consistency/runs/2d9wgavm</a><br/>Synced 5 W&B file(s), 0 media file(s), 0 artifact file(s) and 0 other file(s)"
      ],
      "text/plain": [
       "<IPython.core.display.HTML object>"
      ]
     },
     "metadata": {},
     "output_type": "display_data"
    },
    {
     "data": {
      "text/html": [
       "Find logs at: <code>./wandb/run-20230414_165332-2d9wgavm/logs</code>"
      ],
      "text/plain": [
       "<IPython.core.display.HTML object>"
      ]
     },
     "metadata": {},
     "output_type": "display_data"
    },
    {
     "data": {
      "text/html": [
       "Successfully finished last run (ID:2d9wgavm). Initializing new run:<br/>"
      ],
      "text/plain": [
       "<IPython.core.display.HTML object>"
      ]
     },
     "metadata": {},
     "output_type": "display_data"
    },
    {
     "data": {
      "text/html": [
       "wandb version 0.14.2 is available!  To upgrade, please run:\n",
       " $ pip install wandb --upgrade"
      ],
      "text/plain": [
       "<IPython.core.display.HTML object>"
      ]
     },
     "metadata": {},
     "output_type": "display_data"
    },
    {
     "data": {
      "text/html": [
       "Tracking run with wandb version 0.13.3"
      ],
      "text/plain": [
       "<IPython.core.display.HTML object>"
      ]
     },
     "metadata": {},
     "output_type": "display_data"
    },
    {
     "data": {
      "text/html": [
       "Run data is saved locally in <code>/cephyr/users/lovhag/Alvis/projects/pararel/wandb/run-20230414_165340-zyfq413h</code>"
      ],
      "text/plain": [
       "<IPython.core.display.HTML object>"
      ]
     },
     "metadata": {},
     "output_type": "display_data"
    },
    {
     "data": {
      "text/html": [
       "Syncing run <strong><a href=\"https://wandb.ai/lovhagstrom/consistency/runs/zyfq413h\" target=\"_blank\">P407_consistency_probe_atlas-base_duplicates</a></strong> to <a href=\"https://wandb.ai/lovhagstrom/consistency\" target=\"_blank\">Weights & Biases</a> (<a href=\"https://wandb.me/run\" target=\"_blank\">docs</a>)<br/>"
      ],
      "text/plain": [
       "<IPython.core.display.HTML object>"
      ]
     },
     "metadata": {},
     "output_type": "display_data"
    },
    {
     "name": "stdout",
     "output_type": "stream",
     "text": [
      "overall 2380 2940 0.8095238095238095\n",
      "syntactic 76 112 0.6785714285714286\n",
      "no change 158 168 0.9404761904761905\n",
      "both 516 644 0.8012422360248447\n",
      "No Atlas data for relation P138. Skipping.\n"
     ]
    },
    {
     "data": {
      "text/html": [
       "Finishing last run (ID:zyfq413h) before initializing another..."
      ],
      "text/plain": [
       "<IPython.core.display.HTML object>"
      ]
     },
     "metadata": {},
     "output_type": "display_data"
    },
    {
     "data": {
      "text/html": [
       "Waiting for W&B process to finish... <strong style=\"color:green\">(success).</strong>"
      ],
      "text/plain": [
       "<IPython.core.display.HTML object>"
      ]
     },
     "metadata": {},
     "output_type": "display_data"
    },
    {
     "data": {
      "text/html": [
       "<style>\n",
       "    table.wandb td:nth-child(1) { padding: 0 10px; text-align: left ; width: auto;} td:nth-child(2) {text-align: left ; width: 100%}\n",
       "    .wandb-row { display: flex; flex-direction: row; flex-wrap: wrap; justify-content: flex-start; width: 100% }\n",
       "    .wandb-col { display: flex; flex-direction: column; flex-basis: 100%; flex: 1; padding: 10px; }\n",
       "    </style>\n",
       "<div class=\"wandb-row\"><div class=\"wandb-col\"><h3>Run summary:</h3><br/><table class=\"wandb\"><tr><td>avg_consistency_by_edge_out</td><td>0.83218</td></tr><tr><td>avg_entropy</td><td>0.32195</td></tr><tr><td>both_consistency</td><td>0.80124</td></tr><tr><td>consistency</td><td>0.80952</td></tr><tr><td>consistent_subjects</td><td>0.5</td></tr><tr><td>knowledgable_consistency</td><td>0.82778</td></tr><tr><td>lexical_consistency</td><td>-1</td></tr><tr><td>no_change_consistency</td><td>0.94048</td></tr><tr><td>std_entropy</td><td>0.37833</td></tr><tr><td>successful_patterns</td><td>1.0</td></tr><tr><td>successful_subjects</td><td>0.85714</td></tr><tr><td>syntactic_consistency</td><td>0.67857</td></tr><tr><td>total</td><td>2940</td></tr><tr><td>total_both</td><td>644</td></tr><tr><td>total_lex</td><td>0</td></tr><tr><td>total_no</td><td>168</td></tr><tr><td>total_syn</td><td>112</td></tr><tr><td>unknowledgable_consistency</td><td>0.7</td></tr></table><br/></div></div>"
      ],
      "text/plain": [
       "<IPython.core.display.HTML object>"
      ]
     },
     "metadata": {},
     "output_type": "display_data"
    },
    {
     "data": {
      "text/html": [
       "Synced <strong style=\"color:#cdcd00\">P407_consistency_probe_atlas-base_duplicates</strong>: <a href=\"https://wandb.ai/lovhagstrom/consistency/runs/zyfq413h\" target=\"_blank\">https://wandb.ai/lovhagstrom/consistency/runs/zyfq413h</a><br/>Synced 5 W&B file(s), 0 media file(s), 0 artifact file(s) and 0 other file(s)"
      ],
      "text/plain": [
       "<IPython.core.display.HTML object>"
      ]
     },
     "metadata": {},
     "output_type": "display_data"
    },
    {
     "data": {
      "text/html": [
       "Find logs at: <code>./wandb/run-20230414_165340-zyfq413h/logs</code>"
      ],
      "text/plain": [
       "<IPython.core.display.HTML object>"
      ]
     },
     "metadata": {},
     "output_type": "display_data"
    },
    {
     "data": {
      "text/html": [
       "Successfully finished last run (ID:zyfq413h). Initializing new run:<br/>"
      ],
      "text/plain": [
       "<IPython.core.display.HTML object>"
      ]
     },
     "metadata": {},
     "output_type": "display_data"
    },
    {
     "data": {
      "text/html": [
       "wandb version 0.14.2 is available!  To upgrade, please run:\n",
       " $ pip install wandb --upgrade"
      ],
      "text/plain": [
       "<IPython.core.display.HTML object>"
      ]
     },
     "metadata": {},
     "output_type": "display_data"
    },
    {
     "data": {
      "text/html": [
       "Tracking run with wandb version 0.13.3"
      ],
      "text/plain": [
       "<IPython.core.display.HTML object>"
      ]
     },
     "metadata": {},
     "output_type": "display_data"
    },
    {
     "data": {
      "text/html": [
       "Run data is saved locally in <code>/cephyr/users/lovhag/Alvis/projects/pararel/wandb/run-20230414_165348-5w87l16w</code>"
      ],
      "text/plain": [
       "<IPython.core.display.HTML object>"
      ]
     },
     "metadata": {},
     "output_type": "display_data"
    },
    {
     "data": {
      "text/html": [
       "Syncing run <strong><a href=\"https://wandb.ai/lovhagstrom/consistency/runs/5w87l16w\" target=\"_blank\">P30_consistency_probe_atlas-base_duplicates</a></strong> to <a href=\"https://wandb.ai/lovhagstrom/consistency\" target=\"_blank\">Weights & Biases</a> (<a href=\"https://wandb.me/run\" target=\"_blank\">docs</a>)<br/>"
      ],
      "text/plain": [
       "<IPython.core.display.HTML object>"
      ]
     },
     "metadata": {},
     "output_type": "display_data"
    },
    {
     "name": "stdout",
     "output_type": "stream",
     "text": [
      "overall 288 300 0.96\n",
      "both 50 50 1.0\n"
     ]
    },
    {
     "data": {
      "text/html": [
       "Finishing last run (ID:5w87l16w) before initializing another..."
      ],
      "text/plain": [
       "<IPython.core.display.HTML object>"
      ]
     },
     "metadata": {},
     "output_type": "display_data"
    },
    {
     "data": {
      "text/html": [
       "Waiting for W&B process to finish... <strong style=\"color:green\">(success).</strong>"
      ],
      "text/plain": [
       "<IPython.core.display.HTML object>"
      ]
     },
     "metadata": {},
     "output_type": "display_data"
    },
    {
     "data": {
      "text/html": [
       "<style>\n",
       "    table.wandb td:nth-child(1) { padding: 0 10px; text-align: left ; width: auto;} td:nth-child(2) {text-align: left ; width: 100%}\n",
       "    .wandb-row { display: flex; flex-direction: row; flex-wrap: wrap; justify-content: flex-start; width: 100% }\n",
       "    .wandb-col { display: flex; flex-direction: column; flex-basis: 100%; flex: 1; padding: 10px; }\n",
       "    </style>\n",
       "<div class=\"wandb-row\"><div class=\"wandb-col\"><h3>Run summary:</h3><br/><table class=\"wandb\"><tr><td>avg_consistency_by_edge_out</td><td>0.96056</td></tr><tr><td>avg_entropy</td><td>0.0551</td></tr><tr><td>both_consistency</td><td>1.0</td></tr><tr><td>consistency</td><td>0.96</td></tr><tr><td>consistent_subjects</td><td>0.92</td></tr><tr><td>knowledgable_consistency</td><td>0.97826</td></tr><tr><td>lexical_consistency</td><td>-1</td></tr><tr><td>no_change_consistency</td><td>-1</td></tr><tr><td>std_entropy</td><td>0.21808</td></tr><tr><td>successful_patterns</td><td>1.0</td></tr><tr><td>successful_subjects</td><td>0.92</td></tr><tr><td>syntactic_consistency</td><td>-1</td></tr><tr><td>total</td><td>300</td></tr><tr><td>total_both</td><td>50</td></tr><tr><td>total_lex</td><td>0</td></tr><tr><td>total_no</td><td>0</td></tr><tr><td>total_syn</td><td>0</td></tr><tr><td>unknowledgable_consistency</td><td>0.75</td></tr></table><br/></div></div>"
      ],
      "text/plain": [
       "<IPython.core.display.HTML object>"
      ]
     },
     "metadata": {},
     "output_type": "display_data"
    },
    {
     "data": {
      "text/html": [
       "Synced <strong style=\"color:#cdcd00\">P30_consistency_probe_atlas-base_duplicates</strong>: <a href=\"https://wandb.ai/lovhagstrom/consistency/runs/5w87l16w\" target=\"_blank\">https://wandb.ai/lovhagstrom/consistency/runs/5w87l16w</a><br/>Synced 5 W&B file(s), 0 media file(s), 0 artifact file(s) and 0 other file(s)"
      ],
      "text/plain": [
       "<IPython.core.display.HTML object>"
      ]
     },
     "metadata": {},
     "output_type": "display_data"
    },
    {
     "data": {
      "text/html": [
       "Find logs at: <code>./wandb/run-20230414_165348-5w87l16w/logs</code>"
      ],
      "text/plain": [
       "<IPython.core.display.HTML object>"
      ]
     },
     "metadata": {},
     "output_type": "display_data"
    },
    {
     "data": {
      "text/html": [
       "Successfully finished last run (ID:5w87l16w). Initializing new run:<br/>"
      ],
      "text/plain": [
       "<IPython.core.display.HTML object>"
      ]
     },
     "metadata": {},
     "output_type": "display_data"
    },
    {
     "data": {
      "text/html": [
       "wandb version 0.14.2 is available!  To upgrade, please run:\n",
       " $ pip install wandb --upgrade"
      ],
      "text/plain": [
       "<IPython.core.display.HTML object>"
      ]
     },
     "metadata": {},
     "output_type": "display_data"
    },
    {
     "data": {
      "text/html": [
       "Tracking run with wandb version 0.13.3"
      ],
      "text/plain": [
       "<IPython.core.display.HTML object>"
      ]
     },
     "metadata": {},
     "output_type": "display_data"
    },
    {
     "data": {
      "text/html": [
       "Run data is saved locally in <code>/cephyr/users/lovhag/Alvis/projects/pararel/wandb/run-20230414_165356-2nt9rwu2</code>"
      ],
      "text/plain": [
       "<IPython.core.display.HTML object>"
      ]
     },
     "metadata": {},
     "output_type": "display_data"
    },
    {
     "data": {
      "text/html": [
       "Syncing run <strong><a href=\"https://wandb.ai/lovhagstrom/consistency/runs/2nt9rwu2\" target=\"_blank\">P176_consistency_probe_atlas-base_duplicates</a></strong> to <a href=\"https://wandb.ai/lovhagstrom/consistency\" target=\"_blank\">Weights & Biases</a> (<a href=\"https://wandb.me/run\" target=\"_blank\">docs</a>)<br/>"
      ],
      "text/plain": [
       "<IPython.core.display.HTML object>"
      ]
     },
     "metadata": {},
     "output_type": "display_data"
    },
    {
     "name": "stdout",
     "output_type": "stream",
     "text": [
      "overall 872 1056 0.8257575757575758\n",
      "lexical 94 112 0.8392857142857143\n",
      "both 190 224 0.8482142857142857\n",
      "No Atlas data for relation P449. Skipping.\n"
     ]
    },
    {
     "data": {
      "text/html": [
       "Finishing last run (ID:2nt9rwu2) before initializing another..."
      ],
      "text/plain": [
       "<IPython.core.display.HTML object>"
      ]
     },
     "metadata": {},
     "output_type": "display_data"
    },
    {
     "data": {
      "text/html": [
       "Waiting for W&B process to finish... <strong style=\"color:green\">(success).</strong>"
      ],
      "text/plain": [
       "<IPython.core.display.HTML object>"
      ]
     },
     "metadata": {},
     "output_type": "display_data"
    },
    {
     "data": {
      "text/html": [
       "<style>\n",
       "    table.wandb td:nth-child(1) { padding: 0 10px; text-align: left ; width: auto;} td:nth-child(2) {text-align: left ; width: 100%}\n",
       "    .wandb-row { display: flex; flex-direction: row; flex-wrap: wrap; justify-content: flex-start; width: 100% }\n",
       "    .wandb-col { display: flex; flex-direction: column; flex-basis: 100%; flex: 1; padding: 10px; }\n",
       "    </style>\n",
       "<div class=\"wandb-row\"><div class=\"wandb-col\"><h3>Run summary:</h3><br/><table class=\"wandb\"><tr><td>avg_consistency_by_edge_out</td><td>0.82597</td></tr><tr><td>avg_entropy</td><td>0.19001</td></tr><tr><td>both_consistency</td><td>0.84821</td></tr><tr><td>consistency</td><td>0.82576</td></tr><tr><td>consistent_subjects</td><td>0.75</td></tr><tr><td>knowledgable_consistency</td><td>0.82576</td></tr><tr><td>lexical_consistency</td><td>0.83929</td></tr><tr><td>no_change_consistency</td><td>-1</td></tr><tr><td>std_entropy</td><td>0.36855</td></tr><tr><td>successful_patterns</td><td>1.0</td></tr><tr><td>successful_subjects</td><td>1.0</td></tr><tr><td>syntactic_consistency</td><td>-1</td></tr><tr><td>total</td><td>1056</td></tr><tr><td>total_both</td><td>224</td></tr><tr><td>total_lex</td><td>112</td></tr><tr><td>total_no</td><td>0</td></tr><tr><td>total_syn</td><td>0</td></tr><tr><td>unknowledgable_consistency</td><td>0</td></tr></table><br/></div></div>"
      ],
      "text/plain": [
       "<IPython.core.display.HTML object>"
      ]
     },
     "metadata": {},
     "output_type": "display_data"
    },
    {
     "data": {
      "text/html": [
       "Synced <strong style=\"color:#cdcd00\">P176_consistency_probe_atlas-base_duplicates</strong>: <a href=\"https://wandb.ai/lovhagstrom/consistency/runs/2nt9rwu2\" target=\"_blank\">https://wandb.ai/lovhagstrom/consistency/runs/2nt9rwu2</a><br/>Synced 5 W&B file(s), 0 media file(s), 0 artifact file(s) and 0 other file(s)"
      ],
      "text/plain": [
       "<IPython.core.display.HTML object>"
      ]
     },
     "metadata": {},
     "output_type": "display_data"
    },
    {
     "data": {
      "text/html": [
       "Find logs at: <code>./wandb/run-20230414_165356-2nt9rwu2/logs</code>"
      ],
      "text/plain": [
       "<IPython.core.display.HTML object>"
      ]
     },
     "metadata": {},
     "output_type": "display_data"
    },
    {
     "data": {
      "text/html": [
       "Successfully finished last run (ID:2nt9rwu2). Initializing new run:<br/>"
      ],
      "text/plain": [
       "<IPython.core.display.HTML object>"
      ]
     },
     "metadata": {},
     "output_type": "display_data"
    },
    {
     "data": {
      "text/html": [
       "wandb version 0.14.2 is available!  To upgrade, please run:\n",
       " $ pip install wandb --upgrade"
      ],
      "text/plain": [
       "<IPython.core.display.HTML object>"
      ]
     },
     "metadata": {},
     "output_type": "display_data"
    },
    {
     "data": {
      "text/html": [
       "Tracking run with wandb version 0.13.3"
      ],
      "text/plain": [
       "<IPython.core.display.HTML object>"
      ]
     },
     "metadata": {},
     "output_type": "display_data"
    },
    {
     "data": {
      "text/html": [
       "Run data is saved locally in <code>/cephyr/users/lovhag/Alvis/projects/pararel/wandb/run-20230414_165404-d04opa6x</code>"
      ],
      "text/plain": [
       "<IPython.core.display.HTML object>"
      ]
     },
     "metadata": {},
     "output_type": "display_data"
    },
    {
     "data": {
      "text/html": [
       "Syncing run <strong><a href=\"https://wandb.ai/lovhagstrom/consistency/runs/d04opa6x\" target=\"_blank\">P279_consistency_probe_atlas-base_duplicates</a></strong> to <a href=\"https://wandb.ai/lovhagstrom/consistency\" target=\"_blank\">Weights & Biases</a> (<a href=\"https://wandb.me/run\" target=\"_blank\">docs</a>)<br/>"
      ],
      "text/plain": [
       "<IPython.core.display.HTML object>"
      ]
     },
     "metadata": {},
     "output_type": "display_data"
    },
    {
     "name": "stdout",
     "output_type": "stream",
     "text": [
      "overall 24 24 1.0\n",
      "lexical 4 4 1.0\n",
      "both 8 8 1.0\n"
     ]
    },
    {
     "data": {
      "text/html": [
       "Finishing last run (ID:d04opa6x) before initializing another..."
      ],
      "text/plain": [
       "<IPython.core.display.HTML object>"
      ]
     },
     "metadata": {},
     "output_type": "display_data"
    },
    {
     "data": {
      "text/html": [
       "Waiting for W&B process to finish... <strong style=\"color:green\">(success).</strong>"
      ],
      "text/plain": [
       "<IPython.core.display.HTML object>"
      ]
     },
     "metadata": {},
     "output_type": "display_data"
    },
    {
     "data": {
      "text/html": [
       "<style>\n",
       "    table.wandb td:nth-child(1) { padding: 0 10px; text-align: left ; width: auto;} td:nth-child(2) {text-align: left ; width: 100%}\n",
       "    .wandb-row { display: flex; flex-direction: row; flex-wrap: wrap; justify-content: flex-start; width: 100% }\n",
       "    .wandb-col { display: flex; flex-direction: column; flex-basis: 100%; flex: 1; padding: 10px; }\n",
       "    </style>\n",
       "<div class=\"wandb-row\"><div class=\"wandb-col\"><h3>Run summary:</h3><br/><table class=\"wandb\"><tr><td>avg_consistency_by_edge_out</td><td>1.0</td></tr><tr><td>avg_entropy</td><td>0.0</td></tr><tr><td>both_consistency</td><td>1.0</td></tr><tr><td>consistency</td><td>1.0</td></tr><tr><td>consistent_subjects</td><td>1.0</td></tr><tr><td>knowledgable_consistency</td><td>0</td></tr><tr><td>lexical_consistency</td><td>1.0</td></tr><tr><td>no_change_consistency</td><td>-1</td></tr><tr><td>std_entropy</td><td>0.0</td></tr><tr><td>successful_patterns</td><td>0.0</td></tr><tr><td>successful_subjects</td><td>0.0</td></tr><tr><td>syntactic_consistency</td><td>-1</td></tr><tr><td>total</td><td>24</td></tr><tr><td>total_both</td><td>8</td></tr><tr><td>total_lex</td><td>4</td></tr><tr><td>total_no</td><td>0</td></tr><tr><td>total_syn</td><td>0</td></tr><tr><td>unknowledgable_consistency</td><td>1.0</td></tr></table><br/></div></div>"
      ],
      "text/plain": [
       "<IPython.core.display.HTML object>"
      ]
     },
     "metadata": {},
     "output_type": "display_data"
    },
    {
     "data": {
      "text/html": [
       "Synced <strong style=\"color:#cdcd00\">P279_consistency_probe_atlas-base_duplicates</strong>: <a href=\"https://wandb.ai/lovhagstrom/consistency/runs/d04opa6x\" target=\"_blank\">https://wandb.ai/lovhagstrom/consistency/runs/d04opa6x</a><br/>Synced 5 W&B file(s), 0 media file(s), 0 artifact file(s) and 0 other file(s)"
      ],
      "text/plain": [
       "<IPython.core.display.HTML object>"
      ]
     },
     "metadata": {},
     "output_type": "display_data"
    },
    {
     "data": {
      "text/html": [
       "Find logs at: <code>./wandb/run-20230414_165404-d04opa6x/logs</code>"
      ],
      "text/plain": [
       "<IPython.core.display.HTML object>"
      ]
     },
     "metadata": {},
     "output_type": "display_data"
    },
    {
     "data": {
      "text/html": [
       "Successfully finished last run (ID:d04opa6x). Initializing new run:<br/>"
      ],
      "text/plain": [
       "<IPython.core.display.HTML object>"
      ]
     },
     "metadata": {},
     "output_type": "display_data"
    },
    {
     "data": {
      "text/html": [
       "wandb version 0.14.2 is available!  To upgrade, please run:\n",
       " $ pip install wandb --upgrade"
      ],
      "text/plain": [
       "<IPython.core.display.HTML object>"
      ]
     },
     "metadata": {},
     "output_type": "display_data"
    },
    {
     "data": {
      "text/html": [
       "Tracking run with wandb version 0.13.3"
      ],
      "text/plain": [
       "<IPython.core.display.HTML object>"
      ]
     },
     "metadata": {},
     "output_type": "display_data"
    },
    {
     "data": {
      "text/html": [
       "Run data is saved locally in <code>/cephyr/users/lovhag/Alvis/projects/pararel/wandb/run-20230414_165412-3qr7hsy0</code>"
      ],
      "text/plain": [
       "<IPython.core.display.HTML object>"
      ]
     },
     "metadata": {},
     "output_type": "display_data"
    },
    {
     "data": {
      "text/html": [
       "Syncing run <strong><a href=\"https://wandb.ai/lovhagstrom/consistency/runs/3qr7hsy0\" target=\"_blank\">P101_consistency_probe_atlas-base_duplicates</a></strong> to <a href=\"https://wandb.ai/lovhagstrom/consistency\" target=\"_blank\">Weights & Biases</a> (<a href=\"https://wandb.me/run\" target=\"_blank\">docs</a>)<br/>"
      ],
      "text/plain": [
       "<IPython.core.display.HTML object>"
      ]
     },
     "metadata": {},
     "output_type": "display_data"
    },
    {
     "name": "stdout",
     "output_type": "stream",
     "text": [
      "overall 2676 3744 0.7147435897435898\n",
      "syntactic 64 96 0.6666666666666666\n",
      "lexical 328 432 0.7592592592592593\n",
      "both 916 1296 0.7067901234567902\n"
     ]
    },
    {
     "data": {
      "text/html": [
       "Finishing last run (ID:3qr7hsy0) before initializing another..."
      ],
      "text/plain": [
       "<IPython.core.display.HTML object>"
      ]
     },
     "metadata": {},
     "output_type": "display_data"
    },
    {
     "data": {
      "text/html": [
       "Waiting for W&B process to finish... <strong style=\"color:green\">(success).</strong>"
      ],
      "text/plain": [
       "<IPython.core.display.HTML object>"
      ]
     },
     "metadata": {},
     "output_type": "display_data"
    },
    {
     "data": {
      "text/html": [
       "<style>\n",
       "    table.wandb td:nth-child(1) { padding: 0 10px; text-align: left ; width: auto;} td:nth-child(2) {text-align: left ; width: 100%}\n",
       "    .wandb-row { display: flex; flex-direction: row; flex-wrap: wrap; justify-content: flex-start; width: 100% }\n",
       "    .wandb-col { display: flex; flex-direction: column; flex-basis: 100%; flex: 1; padding: 10px; }\n",
       "    </style>\n",
       "<div class=\"wandb-row\"><div class=\"wandb-col\"><h3>Run summary:</h3><br/><table class=\"wandb\"><tr><td>avg_consistency_by_edge_out</td><td>0.71705</td></tr><tr><td>avg_entropy</td><td>0.48504</td></tr><tr><td>both_consistency</td><td>0.70679</td></tr><tr><td>consistency</td><td>0.71474</td></tr><tr><td>consistent_subjects</td><td>0.33333</td></tr><tr><td>knowledgable_consistency</td><td>0.66538</td></tr><tr><td>lexical_consistency</td><td>0.75926</td></tr><tr><td>no_change_consistency</td><td>-1</td></tr><tr><td>std_entropy</td><td>0.40595</td></tr><tr><td>successful_patterns</td><td>1.0</td></tr><tr><td>successful_subjects</td><td>0.83333</td></tr><tr><td>syntactic_consistency</td><td>0.66667</td></tr><tr><td>total</td><td>3744</td></tr><tr><td>total_both</td><td>1296</td></tr><tr><td>total_lex</td><td>432</td></tr><tr><td>total_no</td><td>0</td></tr><tr><td>total_syn</td><td>96</td></tr><tr><td>unknowledgable_consistency</td><td>0.96154</td></tr></table><br/></div></div>"
      ],
      "text/plain": [
       "<IPython.core.display.HTML object>"
      ]
     },
     "metadata": {},
     "output_type": "display_data"
    },
    {
     "data": {
      "text/html": [
       "Synced <strong style=\"color:#cdcd00\">P101_consistency_probe_atlas-base_duplicates</strong>: <a href=\"https://wandb.ai/lovhagstrom/consistency/runs/3qr7hsy0\" target=\"_blank\">https://wandb.ai/lovhagstrom/consistency/runs/3qr7hsy0</a><br/>Synced 5 W&B file(s), 0 media file(s), 0 artifact file(s) and 0 other file(s)"
      ],
      "text/plain": [
       "<IPython.core.display.HTML object>"
      ]
     },
     "metadata": {},
     "output_type": "display_data"
    },
    {
     "data": {
      "text/html": [
       "Find logs at: <code>./wandb/run-20230414_165412-3qr7hsy0/logs</code>"
      ],
      "text/plain": [
       "<IPython.core.display.HTML object>"
      ]
     },
     "metadata": {},
     "output_type": "display_data"
    },
    {
     "data": {
      "text/html": [
       "Successfully finished last run (ID:3qr7hsy0). Initializing new run:<br/>"
      ],
      "text/plain": [
       "<IPython.core.display.HTML object>"
      ]
     },
     "metadata": {},
     "output_type": "display_data"
    },
    {
     "data": {
      "text/html": [
       "wandb version 0.14.2 is available!  To upgrade, please run:\n",
       " $ pip install wandb --upgrade"
      ],
      "text/plain": [
       "<IPython.core.display.HTML object>"
      ]
     },
     "metadata": {},
     "output_type": "display_data"
    },
    {
     "data": {
      "text/html": [
       "Tracking run with wandb version 0.13.3"
      ],
      "text/plain": [
       "<IPython.core.display.HTML object>"
      ]
     },
     "metadata": {},
     "output_type": "display_data"
    },
    {
     "data": {
      "text/html": [
       "Run data is saved locally in <code>/cephyr/users/lovhag/Alvis/projects/pararel/wandb/run-20230414_165418-2jyjd67y</code>"
      ],
      "text/plain": [
       "<IPython.core.display.HTML object>"
      ]
     },
     "metadata": {},
     "output_type": "display_data"
    },
    {
     "data": {
      "text/html": [
       "Syncing run <strong><a href=\"https://wandb.ai/lovhagstrom/consistency/runs/2jyjd67y\" target=\"_blank\">P364_consistency_probe_atlas-base_duplicates</a></strong> to <a href=\"https://wandb.ai/lovhagstrom/consistency\" target=\"_blank\">Weights & Biases</a> (<a href=\"https://wandb.me/run\" target=\"_blank\">docs</a>)<br/>"
      ],
      "text/plain": [
       "<IPython.core.display.HTML object>"
      ]
     },
     "metadata": {},
     "output_type": "display_data"
    },
    {
     "name": "stdout",
     "output_type": "stream",
     "text": [
      "overall 72 90 0.8\n",
      "syntactic 16 24 0.6666666666666666\n",
      "lexical 24 24 1.0\n",
      "no change 16 18 0.8888888888888888\n",
      "both 16 24 0.6666666666666666\n"
     ]
    },
    {
     "data": {
      "text/html": [
       "Finishing last run (ID:2jyjd67y) before initializing another..."
      ],
      "text/plain": [
       "<IPython.core.display.HTML object>"
      ]
     },
     "metadata": {},
     "output_type": "display_data"
    },
    {
     "data": {
      "text/html": [
       "Waiting for W&B process to finish... <strong style=\"color:green\">(success).</strong>"
      ],
      "text/plain": [
       "<IPython.core.display.HTML object>"
      ]
     },
     "metadata": {},
     "output_type": "display_data"
    },
    {
     "data": {
      "text/html": [
       "<style>\n",
       "    table.wandb td:nth-child(1) { padding: 0 10px; text-align: left ; width: auto;} td:nth-child(2) {text-align: left ; width: 100%}\n",
       "    .wandb-row { display: flex; flex-direction: row; flex-wrap: wrap; justify-content: flex-start; width: 100% }\n",
       "    .wandb-col { display: flex; flex-direction: column; flex-basis: 100%; flex: 1; padding: 10px; }\n",
       "    </style>\n",
       "<div class=\"wandb-row\"><div class=\"wandb-col\"><h3>Run summary:</h3><br/><table class=\"wandb\"><tr><td>avg_consistency_by_edge_out</td><td>0.81111</td></tr><tr><td>avg_entropy</td><td>0.21577</td></tr><tr><td>both_consistency</td><td>0.66667</td></tr><tr><td>consistency</td><td>0.8</td></tr><tr><td>consistent_subjects</td><td>0.66667</td></tr><tr><td>knowledgable_consistency</td><td>0.8</td></tr><tr><td>lexical_consistency</td><td>1.0</td></tr><tr><td>no_change_consistency</td><td>0.88889</td></tr><tr><td>std_entropy</td><td>0.40366</td></tr><tr><td>successful_patterns</td><td>1.0</td></tr><tr><td>successful_subjects</td><td>1.0</td></tr><tr><td>syntactic_consistency</td><td>0.66667</td></tr><tr><td>total</td><td>90</td></tr><tr><td>total_both</td><td>24</td></tr><tr><td>total_lex</td><td>24</td></tr><tr><td>total_no</td><td>18</td></tr><tr><td>total_syn</td><td>24</td></tr><tr><td>unknowledgable_consistency</td><td>0</td></tr></table><br/></div></div>"
      ],
      "text/plain": [
       "<IPython.core.display.HTML object>"
      ]
     },
     "metadata": {},
     "output_type": "display_data"
    },
    {
     "data": {
      "text/html": [
       "Synced <strong style=\"color:#cdcd00\">P364_consistency_probe_atlas-base_duplicates</strong>: <a href=\"https://wandb.ai/lovhagstrom/consistency/runs/2jyjd67y\" target=\"_blank\">https://wandb.ai/lovhagstrom/consistency/runs/2jyjd67y</a><br/>Synced 5 W&B file(s), 0 media file(s), 0 artifact file(s) and 0 other file(s)"
      ],
      "text/plain": [
       "<IPython.core.display.HTML object>"
      ]
     },
     "metadata": {},
     "output_type": "display_data"
    },
    {
     "data": {
      "text/html": [
       "Find logs at: <code>./wandb/run-20230414_165418-2jyjd67y/logs</code>"
      ],
      "text/plain": [
       "<IPython.core.display.HTML object>"
      ]
     },
     "metadata": {},
     "output_type": "display_data"
    },
    {
     "data": {
      "text/html": [
       "Successfully finished last run (ID:2jyjd67y). Initializing new run:<br/>"
      ],
      "text/plain": [
       "<IPython.core.display.HTML object>"
      ]
     },
     "metadata": {},
     "output_type": "display_data"
    },
    {
     "data": {
      "text/html": [
       "wandb version 0.14.2 is available!  To upgrade, please run:\n",
       " $ pip install wandb --upgrade"
      ],
      "text/plain": [
       "<IPython.core.display.HTML object>"
      ]
     },
     "metadata": {},
     "output_type": "display_data"
    },
    {
     "data": {
      "text/html": [
       "Tracking run with wandb version 0.13.3"
      ],
      "text/plain": [
       "<IPython.core.display.HTML object>"
      ]
     },
     "metadata": {},
     "output_type": "display_data"
    },
    {
     "data": {
      "text/html": [
       "Run data is saved locally in <code>/cephyr/users/lovhag/Alvis/projects/pararel/wandb/run-20230414_165425-2kd14fax</code>"
      ],
      "text/plain": [
       "<IPython.core.display.HTML object>"
      ]
     },
     "metadata": {},
     "output_type": "display_data"
    },
    {
     "data": {
      "text/html": [
       "Syncing run <strong><a href=\"https://wandb.ai/lovhagstrom/consistency/runs/2kd14fax\" target=\"_blank\">P1376_consistency_probe_atlas-base_duplicates</a></strong> to <a href=\"https://wandb.ai/lovhagstrom/consistency\" target=\"_blank\">Weights & Biases</a> (<a href=\"https://wandb.me/run\" target=\"_blank\">docs</a>)<br/>"
      ],
      "text/plain": [
       "<IPython.core.display.HTML object>"
      ]
     },
     "metadata": {},
     "output_type": "display_data"
    },
    {
     "name": "stdout",
     "output_type": "stream",
     "text": [
      "overall 1092 1092 1.0\n",
      "syntactic 24 24 1.0\n",
      "lexical 84 84 1.0\n",
      "both 168 168 1.0\n"
     ]
    },
    {
     "data": {
      "text/html": [
       "Finishing last run (ID:2kd14fax) before initializing another..."
      ],
      "text/plain": [
       "<IPython.core.display.HTML object>"
      ]
     },
     "metadata": {},
     "output_type": "display_data"
    },
    {
     "data": {
      "text/html": [
       "Waiting for W&B process to finish... <strong style=\"color:green\">(success).</strong>"
      ],
      "text/plain": [
       "<IPython.core.display.HTML object>"
      ]
     },
     "metadata": {},
     "output_type": "display_data"
    },
    {
     "data": {
      "text/html": [
       "<style>\n",
       "    table.wandb td:nth-child(1) { padding: 0 10px; text-align: left ; width: auto;} td:nth-child(2) {text-align: left ; width: 100%}\n",
       "    .wandb-row { display: flex; flex-direction: row; flex-wrap: wrap; justify-content: flex-start; width: 100% }\n",
       "    .wandb-col { display: flex; flex-direction: column; flex-basis: 100%; flex: 1; padding: 10px; }\n",
       "    </style>\n",
       "<div class=\"wandb-row\"><div class=\"wandb-col\"><h3>Run summary:</h3><br/><table class=\"wandb\"><tr><td>avg_consistency_by_edge_out</td><td>1.0</td></tr><tr><td>avg_entropy</td><td>0.0</td></tr><tr><td>both_consistency</td><td>1.0</td></tr><tr><td>consistency</td><td>1.0</td></tr><tr><td>consistent_subjects</td><td>1.0</td></tr><tr><td>knowledgable_consistency</td><td>1.0</td></tr><tr><td>lexical_consistency</td><td>1.0</td></tr><tr><td>no_change_consistency</td><td>-1</td></tr><tr><td>std_entropy</td><td>0.0</td></tr><tr><td>successful_patterns</td><td>1.0</td></tr><tr><td>successful_subjects</td><td>0.66667</td></tr><tr><td>syntactic_consistency</td><td>1.0</td></tr><tr><td>total</td><td>1092</td></tr><tr><td>total_both</td><td>168</td></tr><tr><td>total_lex</td><td>84</td></tr><tr><td>total_no</td><td>0</td></tr><tr><td>total_syn</td><td>24</td></tr><tr><td>unknowledgable_consistency</td><td>1.0</td></tr></table><br/></div></div>"
      ],
      "text/plain": [
       "<IPython.core.display.HTML object>"
      ]
     },
     "metadata": {},
     "output_type": "display_data"
    },
    {
     "data": {
      "text/html": [
       "Synced <strong style=\"color:#cdcd00\">P1376_consistency_probe_atlas-base_duplicates</strong>: <a href=\"https://wandb.ai/lovhagstrom/consistency/runs/2kd14fax\" target=\"_blank\">https://wandb.ai/lovhagstrom/consistency/runs/2kd14fax</a><br/>Synced 5 W&B file(s), 0 media file(s), 0 artifact file(s) and 0 other file(s)"
      ],
      "text/plain": [
       "<IPython.core.display.HTML object>"
      ]
     },
     "metadata": {},
     "output_type": "display_data"
    },
    {
     "data": {
      "text/html": [
       "Find logs at: <code>./wandb/run-20230414_165425-2kd14fax/logs</code>"
      ],
      "text/plain": [
       "<IPython.core.display.HTML object>"
      ]
     },
     "metadata": {},
     "output_type": "display_data"
    },
    {
     "data": {
      "text/html": [
       "Successfully finished last run (ID:2kd14fax). Initializing new run:<br/>"
      ],
      "text/plain": [
       "<IPython.core.display.HTML object>"
      ]
     },
     "metadata": {},
     "output_type": "display_data"
    },
    {
     "data": {
      "text/html": [
       "wandb version 0.14.2 is available!  To upgrade, please run:\n",
       " $ pip install wandb --upgrade"
      ],
      "text/plain": [
       "<IPython.core.display.HTML object>"
      ]
     },
     "metadata": {},
     "output_type": "display_data"
    },
    {
     "data": {
      "text/html": [
       "Tracking run with wandb version 0.13.3"
      ],
      "text/plain": [
       "<IPython.core.display.HTML object>"
      ]
     },
     "metadata": {},
     "output_type": "display_data"
    },
    {
     "data": {
      "text/html": [
       "Run data is saved locally in <code>/cephyr/users/lovhag/Alvis/projects/pararel/wandb/run-20230414_165433-2kp0onnx</code>"
      ],
      "text/plain": [
       "<IPython.core.display.HTML object>"
      ]
     },
     "metadata": {},
     "output_type": "display_data"
    },
    {
     "data": {
      "text/html": [
       "Syncing run <strong><a href=\"https://wandb.ai/lovhagstrom/consistency/runs/2kp0onnx\" target=\"_blank\">P178_consistency_probe_atlas-base_duplicates</a></strong> to <a href=\"https://wandb.ai/lovhagstrom/consistency\" target=\"_blank\">Weights & Biases</a> (<a href=\"https://wandb.me/run\" target=\"_blank\">docs</a>)<br/>"
      ],
      "text/plain": [
       "<IPython.core.display.HTML object>"
      ]
     },
     "metadata": {},
     "output_type": "display_data"
    },
    {
     "name": "stdout",
     "output_type": "stream",
     "text": [
      "overall 1034 1200 0.8616666666666667\n",
      "lexical 80 90 0.8888888888888888\n",
      "no change 30 30 1.0\n",
      "both 172 190 0.9052631578947369\n",
      "No Atlas data for relation P37. Skipping.\n"
     ]
    }
   ],
   "source": [
    "for relation in investigated_relations:\n",
    "    if relation not in duplicate_subj_data.relation.values:\n",
    "        continue\n",
    "    patterns_graph = read_graph(f\"/cephyr/users/lovhag/Alvis/projects/pararel/data/pattern_data/graphs/{relation}.graph\")\n",
    "\n",
    "    # TODO: PREDICTION FILE READING HERE\n",
    "    lm_results_path = glob.glob(f'/cephyr/users/lovhag/Alvis/projects/atlas/data/experiments/pararel-eval-{relation}*/{relation}-step-0.jsonl')\n",
    "    if len(lm_results_path) == 0:\n",
    "        print(f\"No Atlas data for relation {relation}. Skipping.\")\n",
    "        continue\n",
    "    assert len(lm_results_path) == 1\n",
    "    data = read_jsonl_file(lm_results_path[0])\n",
    "    lm_results = defaultdict(dict)\n",
    "\n",
    "    for dp in data:\n",
    "        prompt, subj, obj, prediction = read_atlas_results(dp)\n",
    "        # ALTERED: only save subjects with inconsistent gold labels\n",
    "        if subj in duplicate_subj_data.sub_label.values:\n",
    "            lm_results[prompt][subj] = (prediction,obj)\n",
    "\n",
    "    config = dict(\n",
    "            pattern=relation,\n",
    "            lm=\"atlas-base\"\n",
    "        )\n",
    "    wandb.init(\n",
    "            name=f'{relation}_consistency_probe_atlas-base_duplicates',\n",
    "            project=\"consistency\",\n",
    "            tags=[relation, 'probe', 'duplicates'],\n",
    "            config=config,\n",
    "        )\n",
    "\n",
    "    analyze_results(lm_results, patterns_graph)"
   ]
  },
  {
   "cell_type": "code",
   "execution_count": 68,
   "id": "d467e069",
   "metadata": {},
   "outputs": [
    {
     "data": {
      "text/html": [
       "Waiting for W&B process to finish... <strong style=\"color:green\">(success).</strong>"
      ],
      "text/plain": [
       "<IPython.core.display.HTML object>"
      ]
     },
     "metadata": {},
     "output_type": "display_data"
    },
    {
     "data": {
      "text/html": [
       "<style>\n",
       "    table.wandb td:nth-child(1) { padding: 0 10px; text-align: left ; width: auto;} td:nth-child(2) {text-align: left ; width: 100%}\n",
       "    .wandb-row { display: flex; flex-direction: row; flex-wrap: wrap; justify-content: flex-start; width: 100% }\n",
       "    .wandb-col { display: flex; flex-direction: column; flex-basis: 100%; flex: 1; padding: 10px; }\n",
       "    </style>\n",
       "<div class=\"wandb-row\"><div class=\"wandb-col\"><h3>Run summary:</h3><br/><table class=\"wandb\"><tr><td>avg_consistency_by_edge_out</td><td>0.86847</td></tr><tr><td>avg_entropy</td><td>0.26684</td></tr><tr><td>both_consistency</td><td>0.90526</td></tr><tr><td>consistency</td><td>0.86167</td></tr><tr><td>consistent_subjects</td><td>0.4</td></tr><tr><td>knowledgable_consistency</td><td>0.9375</td></tr><tr><td>lexical_consistency</td><td>0.88889</td></tr><tr><td>no_change_consistency</td><td>1.0</td></tr><tr><td>std_entropy</td><td>0.28937</td></tr><tr><td>successful_patterns</td><td>1.0</td></tr><tr><td>successful_subjects</td><td>0.4</td></tr><tr><td>syntactic_consistency</td><td>-1</td></tr><tr><td>total</td><td>1200</td></tr><tr><td>total_both</td><td>190</td></tr><tr><td>total_lex</td><td>90</td></tr><tr><td>total_no</td><td>30</td></tr><tr><td>total_syn</td><td>0</td></tr><tr><td>unknowledgable_consistency</td><td>0.81111</td></tr></table><br/></div></div>"
      ],
      "text/plain": [
       "<IPython.core.display.HTML object>"
      ]
     },
     "metadata": {},
     "output_type": "display_data"
    },
    {
     "data": {
      "text/html": [
       "Synced <strong style=\"color:#cdcd00\">P178_consistency_probe_atlas-base_duplicates</strong>: <a href=\"https://wandb.ai/lovhagstrom/consistency/runs/2kp0onnx\" target=\"_blank\">https://wandb.ai/lovhagstrom/consistency/runs/2kp0onnx</a><br/>Synced 5 W&B file(s), 0 media file(s), 0 artifact file(s) and 0 other file(s)"
      ],
      "text/plain": [
       "<IPython.core.display.HTML object>"
      ]
     },
     "metadata": {},
     "output_type": "display_data"
    },
    {
     "data": {
      "text/html": [
       "Find logs at: <code>./wandb/run-20230414_165433-2kp0onnx/logs</code>"
      ],
      "text/plain": [
       "<IPython.core.display.HTML object>"
      ]
     },
     "metadata": {},
     "output_type": "display_data"
    }
   ],
   "source": [
    "wandb.finish()"
   ]
  },
  {
   "cell_type": "markdown",
   "id": "0d5ddfa0",
   "metadata": {},
   "source": [
    "## Analyze wandb results"
   ]
  },
  {
   "cell_type": "code",
   "execution_count": 2,
   "id": "7cd595d0",
   "metadata": {},
   "outputs": [],
   "source": [
    "results = pd.read_csv(\"results.csv\")\n",
    "results_duplicated = pd.read_csv(\"duplicate_results.csv\")"
   ]
  },
  {
   "cell_type": "code",
   "execution_count": 3,
   "id": "955ed858",
   "metadata": {},
   "outputs": [
    {
     "data": {
      "text/plain": [
       "Index(['Name', 'State', 'Notes', 'User', 'Tags', 'Created', 'Runtime', 'Sweep',\n",
       "       'lm', 'pattern', 'all_edges', 'avg_consistency_by_edge_out',\n",
       "       'avg_entropy', 'both_consistency', 'both_edges', 'consistency',\n",
       "       'consistent_subjects', 'group-unacc', 'knowledgable_consistency',\n",
       "       'lama_acc', 'lama_group_acc', 'lexical_consistency', 'lexical_edges',\n",
       "       'n_patterns', 'no_change_consistency', 'std_entropy',\n",
       "       'successful_patterns', 'successful_subjects', 'syntactic_consistency',\n",
       "       'syntactic_edges', 'total', 'total_both', 'total_lex', 'total_no',\n",
       "       'total_syn', 'unknowledgable_consistency'],\n",
       "      dtype='object')"
      ]
     },
     "execution_count": 3,
     "metadata": {},
     "output_type": "execute_result"
    }
   ],
   "source": [
    "results_duplicated.columns"
   ]
  },
  {
   "cell_type": "code",
   "execution_count": 5,
   "id": "4ddb2e32",
   "metadata": {},
   "outputs": [
    {
     "data": {
      "text/html": [
       "<div>\n",
       "<style scoped>\n",
       "    .dataframe tbody tr th:only-of-type {\n",
       "        vertical-align: middle;\n",
       "    }\n",
       "\n",
       "    .dataframe tbody tr th {\n",
       "        vertical-align: top;\n",
       "    }\n",
       "\n",
       "    .dataframe thead th {\n",
       "        text-align: right;\n",
       "    }\n",
       "</style>\n",
       "<table border=\"1\" class=\"dataframe\">\n",
       "  <thead>\n",
       "    <tr style=\"text-align: right;\">\n",
       "      <th></th>\n",
       "      <th>pattern</th>\n",
       "      <th>consistency</th>\n",
       "      <th>consistency_dup</th>\n",
       "      <th>knowledgable_consistency</th>\n",
       "      <th>knowledgable_consistency_dup</th>\n",
       "      <th>total</th>\n",
       "      <th>total_dup</th>\n",
       "      <th>unknowledgable_consistency</th>\n",
       "      <th>unknowledgable_consistency_dup</th>\n",
       "    </tr>\n",
       "  </thead>\n",
       "  <tbody>\n",
       "    <tr>\n",
       "      <th>0</th>\n",
       "      <td>P178</td>\n",
       "      <td>0.961259</td>\n",
       "      <td>0.861667</td>\n",
       "      <td>0.962666</td>\n",
       "      <td>0.937500</td>\n",
       "      <td>139440</td>\n",
       "      <td>1200</td>\n",
       "      <td>0.758333</td>\n",
       "      <td>0.811111</td>\n",
       "    </tr>\n",
       "    <tr>\n",
       "      <th>1</th>\n",
       "      <td>P1376</td>\n",
       "      <td>0.947881</td>\n",
       "      <td>1.000000</td>\n",
       "      <td>0.953792</td>\n",
       "      <td>1.000000</td>\n",
       "      <td>31850</td>\n",
       "      <td>1092</td>\n",
       "      <td>0.879906</td>\n",
       "      <td>1.000000</td>\n",
       "    </tr>\n",
       "    <tr>\n",
       "      <th>2</th>\n",
       "      <td>P364</td>\n",
       "      <td>0.938203</td>\n",
       "      <td>0.800000</td>\n",
       "      <td>0.944244</td>\n",
       "      <td>0.800000</td>\n",
       "      <td>22590</td>\n",
       "      <td>90</td>\n",
       "      <td>0.891954</td>\n",
       "      <td>0.000000</td>\n",
       "    </tr>\n",
       "    <tr>\n",
       "      <th>3</th>\n",
       "      <td>P101</td>\n",
       "      <td>0.744536</td>\n",
       "      <td>0.714744</td>\n",
       "      <td>0.761913</td>\n",
       "      <td>0.665385</td>\n",
       "      <td>84552</td>\n",
       "      <td>3744</td>\n",
       "      <td>0.657265</td>\n",
       "      <td>0.961538</td>\n",
       "    </tr>\n",
       "    <tr>\n",
       "      <th>4</th>\n",
       "      <td>P279</td>\n",
       "      <td>0.785820</td>\n",
       "      <td>1.000000</td>\n",
       "      <td>0.827748</td>\n",
       "      <td>0.000000</td>\n",
       "      <td>10776</td>\n",
       "      <td>24</td>\n",
       "      <td>0.713998</td>\n",
       "      <td>1.000000</td>\n",
       "    </tr>\n",
       "    <tr>\n",
       "      <th>5</th>\n",
       "      <td>P176</td>\n",
       "      <td>0.971056</td>\n",
       "      <td>0.825758</td>\n",
       "      <td>0.971117</td>\n",
       "      <td>0.825758</td>\n",
       "      <td>120648</td>\n",
       "      <td>1056</td>\n",
       "      <td>0.968013</td>\n",
       "      <td>0.000000</td>\n",
       "    </tr>\n",
       "    <tr>\n",
       "      <th>6</th>\n",
       "      <td>P30</td>\n",
       "      <td>0.934866</td>\n",
       "      <td>0.960000</td>\n",
       "      <td>0.939037</td>\n",
       "      <td>0.978261</td>\n",
       "      <td>11484</td>\n",
       "      <td>300</td>\n",
       "      <td>0.757576</td>\n",
       "      <td>0.750000</td>\n",
       "    </tr>\n",
       "    <tr>\n",
       "      <th>7</th>\n",
       "      <td>P407</td>\n",
       "      <td>0.900369</td>\n",
       "      <td>0.809524</td>\n",
       "      <td>0.903143</td>\n",
       "      <td>0.827778</td>\n",
       "      <td>176190</td>\n",
       "      <td>2940</td>\n",
       "      <td>0.832612</td>\n",
       "      <td>0.700000</td>\n",
       "    </tr>\n",
       "    <tr>\n",
       "      <th>8</th>\n",
       "      <td>P264</td>\n",
       "      <td>0.644231</td>\n",
       "      <td>0.426471</td>\n",
       "      <td>0.644231</td>\n",
       "      <td>0.426471</td>\n",
       "      <td>14144</td>\n",
       "      <td>272</td>\n",
       "      <td>0.000000</td>\n",
       "      <td>0.000000</td>\n",
       "    </tr>\n",
       "    <tr>\n",
       "      <th>9</th>\n",
       "      <td>P36</td>\n",
       "      <td>0.911067</td>\n",
       "      <td>0.911118</td>\n",
       "      <td>0.917447</td>\n",
       "      <td>0.911118</td>\n",
       "      <td>84266</td>\n",
       "      <td>6188</td>\n",
       "      <td>0.732830</td>\n",
       "      <td>0.000000</td>\n",
       "    </tr>\n",
       "    <tr>\n",
       "      <th>10</th>\n",
       "      <td>P361</td>\n",
       "      <td>0.891854</td>\n",
       "      <td>0.800000</td>\n",
       "      <td>0.892344</td>\n",
       "      <td>0.600000</td>\n",
       "      <td>1424</td>\n",
       "      <td>60</td>\n",
       "      <td>0.891156</td>\n",
       "      <td>1.000000</td>\n",
       "    </tr>\n",
       "    <tr>\n",
       "      <th>11</th>\n",
       "      <td>P17</td>\n",
       "      <td>0.965606</td>\n",
       "      <td>0.666667</td>\n",
       "      <td>0.972414</td>\n",
       "      <td>1.000000</td>\n",
       "      <td>5466</td>\n",
       "      <td>12</td>\n",
       "      <td>0.821138</td>\n",
       "      <td>0.333333</td>\n",
       "    </tr>\n",
       "    <tr>\n",
       "      <th>12</th>\n",
       "      <td>P495</td>\n",
       "      <td>0.870632</td>\n",
       "      <td>1.000000</td>\n",
       "      <td>0.886256</td>\n",
       "      <td>1.000000</td>\n",
       "      <td>245888</td>\n",
       "      <td>544</td>\n",
       "      <td>0.650858</td>\n",
       "      <td>1.000000</td>\n",
       "    </tr>\n",
       "    <tr>\n",
       "      <th>13</th>\n",
       "      <td>P136</td>\n",
       "      <td>0.633566</td>\n",
       "      <td>0.400000</td>\n",
       "      <td>0.665959</td>\n",
       "      <td>0.000000</td>\n",
       "      <td>25740</td>\n",
       "      <td>30</td>\n",
       "      <td>0.526298</td>\n",
       "      <td>0.400000</td>\n",
       "    </tr>\n",
       "    <tr>\n",
       "      <th>14</th>\n",
       "      <td>P140</td>\n",
       "      <td>0.688525</td>\n",
       "      <td>0.233333</td>\n",
       "      <td>0.699915</td>\n",
       "      <td>0.166667</td>\n",
       "      <td>5124</td>\n",
       "      <td>60</td>\n",
       "      <td>0.564815</td>\n",
       "      <td>0.333333</td>\n",
       "    </tr>\n",
       "    <tr>\n",
       "      <th>15</th>\n",
       "      <td>P159</td>\n",
       "      <td>0.907690</td>\n",
       "      <td>0.933333</td>\n",
       "      <td>0.913654</td>\n",
       "      <td>0.900000</td>\n",
       "      <td>71910</td>\n",
       "      <td>270</td>\n",
       "      <td>0.754815</td>\n",
       "      <td>1.000000</td>\n",
       "    </tr>\n",
       "    <tr>\n",
       "      <th>16</th>\n",
       "      <td>P276</td>\n",
       "      <td>0.825662</td>\n",
       "      <td>0.740741</td>\n",
       "      <td>0.846543</td>\n",
       "      <td>0.785714</td>\n",
       "      <td>1434</td>\n",
       "      <td>54</td>\n",
       "      <td>0.725806</td>\n",
       "      <td>0.692308</td>\n",
       "    </tr>\n",
       "    <tr>\n",
       "      <th>17</th>\n",
       "      <td>P103</td>\n",
       "      <td>0.959332</td>\n",
       "      <td>1.000000</td>\n",
       "      <td>0.960389</td>\n",
       "      <td>1.000000</td>\n",
       "      <td>11016</td>\n",
       "      <td>36</td>\n",
       "      <td>0.923077</td>\n",
       "      <td>1.000000</td>\n",
       "    </tr>\n",
       "    <tr>\n",
       "      <th>18</th>\n",
       "      <td>P1412</td>\n",
       "      <td>0.869215</td>\n",
       "      <td>0.595238</td>\n",
       "      <td>0.870870</td>\n",
       "      <td>0.321429</td>\n",
       "      <td>51688</td>\n",
       "      <td>168</td>\n",
       "      <td>0.833624</td>\n",
       "      <td>0.732143</td>\n",
       "    </tr>\n",
       "    <tr>\n",
       "      <th>19</th>\n",
       "      <td>P937</td>\n",
       "      <td>0.864727</td>\n",
       "      <td>0.708333</td>\n",
       "      <td>0.868759</td>\n",
       "      <td>0.562500</td>\n",
       "      <td>16840</td>\n",
       "      <td>240</td>\n",
       "      <td>0.847134</td>\n",
       "      <td>1.000000</td>\n",
       "    </tr>\n",
       "  </tbody>\n",
       "</table>\n",
       "</div>"
      ],
      "text/plain": [
       "   pattern  consistency  consistency_dup  knowledgable_consistency  \\\n",
       "0     P178     0.961259         0.861667                  0.962666   \n",
       "1    P1376     0.947881         1.000000                  0.953792   \n",
       "2     P364     0.938203         0.800000                  0.944244   \n",
       "3     P101     0.744536         0.714744                  0.761913   \n",
       "4     P279     0.785820         1.000000                  0.827748   \n",
       "5     P176     0.971056         0.825758                  0.971117   \n",
       "6      P30     0.934866         0.960000                  0.939037   \n",
       "7     P407     0.900369         0.809524                  0.903143   \n",
       "8     P264     0.644231         0.426471                  0.644231   \n",
       "9      P36     0.911067         0.911118                  0.917447   \n",
       "10    P361     0.891854         0.800000                  0.892344   \n",
       "11     P17     0.965606         0.666667                  0.972414   \n",
       "12    P495     0.870632         1.000000                  0.886256   \n",
       "13    P136     0.633566         0.400000                  0.665959   \n",
       "14    P140     0.688525         0.233333                  0.699915   \n",
       "15    P159     0.907690         0.933333                  0.913654   \n",
       "16    P276     0.825662         0.740741                  0.846543   \n",
       "17    P103     0.959332         1.000000                  0.960389   \n",
       "18   P1412     0.869215         0.595238                  0.870870   \n",
       "19    P937     0.864727         0.708333                  0.868759   \n",
       "\n",
       "    knowledgable_consistency_dup   total  total_dup  \\\n",
       "0                       0.937500  139440       1200   \n",
       "1                       1.000000   31850       1092   \n",
       "2                       0.800000   22590         90   \n",
       "3                       0.665385   84552       3744   \n",
       "4                       0.000000   10776         24   \n",
       "5                       0.825758  120648       1056   \n",
       "6                       0.978261   11484        300   \n",
       "7                       0.827778  176190       2940   \n",
       "8                       0.426471   14144        272   \n",
       "9                       0.911118   84266       6188   \n",
       "10                      0.600000    1424         60   \n",
       "11                      1.000000    5466         12   \n",
       "12                      1.000000  245888        544   \n",
       "13                      0.000000   25740         30   \n",
       "14                      0.166667    5124         60   \n",
       "15                      0.900000   71910        270   \n",
       "16                      0.785714    1434         54   \n",
       "17                      1.000000   11016         36   \n",
       "18                      0.321429   51688        168   \n",
       "19                      0.562500   16840        240   \n",
       "\n",
       "    unknowledgable_consistency  unknowledgable_consistency_dup  \n",
       "0                     0.758333                        0.811111  \n",
       "1                     0.879906                        1.000000  \n",
       "2                     0.891954                        0.000000  \n",
       "3                     0.657265                        0.961538  \n",
       "4                     0.713998                        1.000000  \n",
       "5                     0.968013                        0.000000  \n",
       "6                     0.757576                        0.750000  \n",
       "7                     0.832612                        0.700000  \n",
       "8                     0.000000                        0.000000  \n",
       "9                     0.732830                        0.000000  \n",
       "10                    0.891156                        1.000000  \n",
       "11                    0.821138                        0.333333  \n",
       "12                    0.650858                        1.000000  \n",
       "13                    0.526298                        0.400000  \n",
       "14                    0.564815                        0.333333  \n",
       "15                    0.754815                        1.000000  \n",
       "16                    0.725806                        0.692308  \n",
       "17                    0.923077                        1.000000  \n",
       "18                    0.833624                        0.732143  \n",
       "19                    0.847134                        1.000000  "
      ]
     },
     "execution_count": 5,
     "metadata": {},
     "output_type": "execute_result"
    }
   ],
   "source": [
    "results_duplicated = results_duplicated[[\"pattern\",\"consistency\",\"knowledgable_consistency\",\"total\",\"unknowledgable_consistency\"]]\n",
    "results = results[[\"pattern\",\"consistency\",\"knowledgable_consistency\",\"total\",\"unknowledgable_consistency\"]]\n",
    "comp_results = results_duplicated.merge(results, how = 'inner', on = ['pattern'], suffixes=('_dup',''))\n",
    "comp_results.reindex(['pattern']+sorted(comp_results.columns.drop(\"pattern\")), axis=1)"
   ]
  },
  {
   "cell_type": "code",
   "execution_count": 6,
   "id": "337f8812",
   "metadata": {},
   "outputs": [
    {
     "data": {
      "text/plain": [
       "<AxesSubplot: xlabel='pattern'>"
      ]
     },
     "execution_count": 6,
     "metadata": {},
     "output_type": "execute_result"
    },
    {
     "data": {
      "image/png": "[encoded data removed]",
      "text/plain": [
       "<Figure size 640x480 with 1 Axes>"
      ]
     },
     "metadata": {},
     "output_type": "display_data"
    }
   ],
   "source": [
    "comp_results.plot.bar(x=\"pattern\", y=[\"consistency\",\"consistency_dup\"])"
   ]
  },
  {
   "cell_type": "code",
   "execution_count": 7,
   "id": "312ea7a0",
   "metadata": {},
   "outputs": [
    {
     "data": {
      "text/plain": [
       "<AxesSubplot: xlabel='pattern'>"
      ]
     },
     "execution_count": 7,
     "metadata": {},
     "output_type": "execute_result"
    },
    {
     "data": {
      "image/png": "[encoded data removed]",
      "text/plain": [
       "<Figure size 640x480 with 1 Axes>"
      ]
     },
     "metadata": {},
     "output_type": "display_data"
    }
   ],
   "source": [
    "comp_results[comp_results.total_dup>100].plot.bar(x=\"pattern\", y=[\"consistency\",\"consistency_dup\"])"
   ]
  }
 ],
 "metadata": {
  "kernelspec": {
   "display_name": "Python 3 (ipykernel)",
   "language": "python",
   "name": "python3"
  },
  "language_info": {
   "codemirror_mode": {
    "name": "ipython",
    "version": 3
   },
   "file_extension": ".py",
   "mimetype": "text/x-python",
   "name": "python",
   "nbconvert_exporter": "python",
   "pygments_lexer": "ipython3",
   "version": "3.8.6"
  },
  "vscode": {
   "interpreter": {
    "hash": "31f2aee4e71d21fbe5cf8b01ff0e069b9275f58929596ceb00d14d90e3e16cd6"
   }
  }
 },
 "nbformat": 4,
 "nbformat_minor": 5
}
